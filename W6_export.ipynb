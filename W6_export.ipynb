{
 "cells": [
  {
   "cell_type": "code",
   "execution_count": 11,
   "metadata": {
    "id": "HNSUJfyHhV1l"
   },
   "outputs": [],
   "source": [
    "# Importing aux libraries\n",
    "import numpy as np\n",
    "import matplotlib.pyplot as plt\n",
    "import matplotlib.image as mpimg\n",
    "import copy"
   ]
  },
  {
   "cell_type": "code",
   "execution_count": 12,
   "metadata": {
    "colab": {
     "base_uri": "https://localhost:8080/",
     "height": 460
    },
    "id": "eA37usSvURPh",
    "outputId": "e63cf806-4bdd-49f0-ff57-863602749d28",
    "scrolled": true
   },
   "outputs": [],
   "source": [
    "import gempy as gp\n",
    "data_path = 'Data/'\n",
    "save_path = 'Model_surface/'"
   ]
  },
  {
   "cell_type": "code",
   "execution_count": 35,
   "metadata": {},
   "outputs": [],
   "source": [
    "geo_model = gp.create_model('Perarolo_3')"
   ]
  },
  {
   "cell_type": "code",
   "execution_count": 36,
   "metadata": {},
   "outputs": [
    {
     "name": "stdout",
     "output_type": "stream",
     "text": [
      "Active grids: ['regular']\n"
     ]
    },
    {
     "data": {
      "text/plain": [
       "Perarolo_3  2024-05-15 16:05"
      ]
     },
     "execution_count": 36,
     "metadata": {},
     "output_type": "execute_result"
    }
   ],
   "source": [
    "data_path = 'C:/Users/admin/Documents/Dottorato/Conda_envs/gempy_Rousseau/Data/'\n",
    "# Importing the data from CSV-files and setting extent and resolution\n",
    "gp.init_data(geo_model, [60, 220., -60., 60., 0, 140.], [50, 50, 50],\n",
    "             path_i=data_path + \"layer_i_nf.csv\",\n",
    "             path_o=data_path + \"layer_o_nf.csv\",\n",
    "             default_values=True)"
   ]
  },
  {
   "cell_type": "code",
   "execution_count": 37,
   "metadata": {},
   "outputs": [
    {
     "data": {
      "text/html": [
       "<style type=\"text/css\">\n",
       "#T_a2540_row0_col3 {\n",
       "  background-color: #015482;\n",
       "}\n",
       "#T_a2540_row1_col3 {\n",
       "  background-color: #9f0052;\n",
       "}\n",
       "#T_a2540_row2_col3 {\n",
       "  background-color: #ffbe00;\n",
       "}\n",
       "#T_a2540_row3_col3 {\n",
       "  background-color: #728f02;\n",
       "}\n",
       "</style>\n",
       "<table id=\"T_a2540\">\n",
       "  <thead>\n",
       "    <tr>\n",
       "      <th class=\"blank level0\" >&nbsp;</th>\n",
       "      <th id=\"T_a2540_level0_col0\" class=\"col_heading level0 col0\" >surface</th>\n",
       "      <th id=\"T_a2540_level0_col1\" class=\"col_heading level0 col1\" >series</th>\n",
       "      <th id=\"T_a2540_level0_col2\" class=\"col_heading level0 col2\" >order_surfaces</th>\n",
       "      <th id=\"T_a2540_level0_col3\" class=\"col_heading level0 col3\" >color</th>\n",
       "      <th id=\"T_a2540_level0_col4\" class=\"col_heading level0 col4\" >id</th>\n",
       "    </tr>\n",
       "  </thead>\n",
       "  <tbody>\n",
       "    <tr>\n",
       "      <th id=\"T_a2540_level0_row0\" class=\"row_heading level0 row0\" >0</th>\n",
       "      <td id=\"T_a2540_row0_col0\" class=\"data row0 col0\" >gravely_layer</td>\n",
       "      <td id=\"T_a2540_row0_col1\" class=\"data row0 col1\" >Strat_Series</td>\n",
       "      <td id=\"T_a2540_row0_col2\" class=\"data row0 col2\" >1</td>\n",
       "      <td id=\"T_a2540_row0_col3\" class=\"data row0 col3\" >#015482</td>\n",
       "      <td id=\"T_a2540_row0_col4\" class=\"data row0 col4\" >1</td>\n",
       "    </tr>\n",
       "    <tr>\n",
       "      <th id=\"T_a2540_level0_row1\" class=\"row_heading level0 row1\" >1</th>\n",
       "      <td id=\"T_a2540_row1_col0\" class=\"data row1 col0\" >clay_layer</td>\n",
       "      <td id=\"T_a2540_row1_col1\" class=\"data row1 col1\" >Strat_Series</td>\n",
       "      <td id=\"T_a2540_row1_col2\" class=\"data row1 col2\" >2</td>\n",
       "      <td id=\"T_a2540_row1_col3\" class=\"data row1 col3\" >#9f0052</td>\n",
       "      <td id=\"T_a2540_row1_col4\" class=\"data row1 col4\" >2</td>\n",
       "    </tr>\n",
       "    <tr>\n",
       "      <th id=\"T_a2540_level0_row2\" class=\"row_heading level0 row2\" >2</th>\n",
       "      <td id=\"T_a2540_row2_col0\" class=\"data row2 col0\" >altered_bedrock</td>\n",
       "      <td id=\"T_a2540_row2_col1\" class=\"data row2 col1\" >Strat_Series</td>\n",
       "      <td id=\"T_a2540_row2_col2\" class=\"data row2 col2\" >3</td>\n",
       "      <td id=\"T_a2540_row2_col3\" class=\"data row2 col3\" >#ffbe00</td>\n",
       "      <td id=\"T_a2540_row2_col4\" class=\"data row2 col4\" >3</td>\n",
       "    </tr>\n",
       "    <tr>\n",
       "      <th id=\"T_a2540_level0_row3\" class=\"row_heading level0 row3\" >3</th>\n",
       "      <td id=\"T_a2540_row3_col0\" class=\"data row3 col0\" >basement</td>\n",
       "      <td id=\"T_a2540_row3_col1\" class=\"data row3 col1\" >Basement</td>\n",
       "      <td id=\"T_a2540_row3_col2\" class=\"data row3 col2\" >1</td>\n",
       "      <td id=\"T_a2540_row3_col3\" class=\"data row3 col3\" >#728f02</td>\n",
       "      <td id=\"T_a2540_row3_col4\" class=\"data row3 col4\" >4</td>\n",
       "    </tr>\n",
       "  </tbody>\n",
       "</table>\n"
      ],
      "text/plain": [
       "           surface        series  order_surfaces    color  id\n",
       "0    gravely_layer  Strat_Series               1  #015482   1\n",
       "1       clay_layer  Strat_Series               2  #9f0052   2\n",
       "2  altered_bedrock  Strat_Series               3  #ffbe00   3\n",
       "3         basement      Basement               1  #728f02   4"
      ]
     },
     "execution_count": 37,
     "metadata": {},
     "output_type": "execute_result"
    }
   ],
   "source": [
    "gp.map_stack_to_surfaces(geo_model,\n",
    "                         {#\"Fault_Series\": 'Main_Fault',\n",
    "                          \"Strat_Series\": ('gravely_layer', 'clay_layer',\n",
    "                                           'altered_bedrock')},\n",
    "                         remove_unused_series=True)\n",
    "#\"Fault_Series\": 'Main_Fault',"
   ]
  },
  {
   "cell_type": "code",
   "execution_count": 38,
   "metadata": {},
   "outputs": [
    {
     "name": "stdout",
     "output_type": "stream",
     "text": [
      "Setting kriging parameters to their default values.\n",
      "Compiling aesara function...\n",
      "Level of Optimization:  fast_compile\n",
      "Device:  cpu\n",
      "Precision:  float64\n",
      "Number of faults:  0\n",
      "Compilation Done!\n",
      "Kriging values: \n",
      "                       values\n",
      "range             244.131112\n",
      "$C_o$            1419.047619\n",
      "drift equations       [3, 3]\n"
     ]
    },
    {
     "data": {
      "text/plain": [
       "<gempy.core.interpolator.InterpolatorModel at 0x22f1cb2bc70>"
      ]
     },
     "execution_count": 38,
     "metadata": {},
     "output_type": "execute_result"
    }
   ],
   "source": [
    "gp.set_interpolator(geo_model,          \n",
    "                    compile_theano=False,\n",
    "                    theano_optimizer='fast_compile',\n",
    "                    )\n",
    "\n",
    "#with compile_theano=True it's really slow"
   ]
  },
  {
   "cell_type": "code",
   "execution_count": 9,
   "metadata": {},
   "outputs": [],
   "source": [
    "# fp = data_path+ \"topo_1_extrap.tif\"\n",
    "# fp"
   ]
  },
  {
   "cell_type": "code",
   "execution_count": 10,
   "metadata": {},
   "outputs": [],
   "source": [
    "\n",
    "# geo_model.set_topography(source='gdal', filepath=fp)\n",
    "# sol = gp.compute_model(geo_model, compute_mesh=True)"
   ]
  },
  {
   "cell_type": "code",
   "execution_count": 39,
   "metadata": {},
   "outputs": [],
   "source": [
    "#NO TOPOGRAPHY\n",
    "sol = gp.compute_model(geo_model, compute_mesh=True)"
   ]
  },
  {
   "cell_type": "code",
   "execution_count": 40,
   "metadata": {},
   "outputs": [
    {
     "name": "stderr",
     "output_type": "stream",
     "text": [
      "c:\\ProgramData\\anaconda3\\envs\\gempy1\\lib\\site-packages\\pyvista\\utilities\\helpers.py:507: UserWarning: Points is not a float type. This can cause issues when transforming or applying filters. Casting to ``np.float32``. Disable this by passing ``force_float=False``.\n",
      "  warnings.warn(\n"
     ]
    }
   ],
   "source": [
    "ver, sim = gp.get_surfaces(geo_model)\n",
    "gpv = gp.plot_3d(geo_model, plotter_type='basic', show_surfaces=True, show_data=True, image=False,\n",
    "                 show_topography=True)"
   ]
  },
  {
   "cell_type": "code",
   "execution_count": 42,
   "metadata": {},
   "outputs": [],
   "source": [
    "geo_model.save_model(path = save_path, name='Model_surface')\n",
    "geo_model.save_solution(path = save_path, name='Model_surface.npz')"
   ]
  },
  {
   "cell_type": "code",
   "execution_count": 27,
   "metadata": {},
   "outputs": [
    {
     "name": "stdout",
     "output_type": "stream",
     "text": [
      "Active grids: ['regular']\n"
     ]
    }
   ],
   "source": [
    "geo_model = gp.load_model(path = save_path, name = 'Model_surface')"
   ]
  },
  {
   "cell_type": "code",
   "execution_count": 43,
   "metadata": {},
   "outputs": [
    {
     "name": "stdout",
     "output_type": "stream",
     "text": [
      "Successfully exported geological model as FLAC3D input to FLAC3D_export/\n"
     ]
    }
   ],
   "source": [
    "#PROVA CON INDICI ORIGINALI ROUSSEAU\n",
    "# create vertices and elements\n",
    "\n",
    "path='FLAC3D_export/'\n",
    "filename='geomodel_topo_11.f3grid'\n",
    "\n",
    "def __build_vertices_elements_groups__(geo_model):\n",
    "\n",
    "    # get model information\n",
    "    nx, ny, nz = geo_model.grid.regular_grid.resolution\n",
    "    xmin, xmax, ymin, ymax, zmin, zmax = geo_model.solutions.grid.regular_grid.extent\n",
    "\n",
    "    # create vertices array\n",
    "    dx, dy, dz = (xmax - xmin) / nx, (ymax - ymin) / ny, (zmax - zmin) / nz\n",
    "    n_vertices = (nx + 1) * (ny + 1) * (nz + 1)\n",
    "    vertices = np.zeros((n_vertices, 3), dtype='f8')\n",
    "    vertices_ids = np.arange(n_vertices)  # used to generate coordinate\n",
    "    vertices[:, 0] = vertices_ids % (nx + 1) * dx + xmin\n",
    "    vertices[:, 1] = (vertices_ids % ((nx + 1) * (ny + 1))) // (nx + 1) * dy + ymin\n",
    "    vertices[:, 2] = vertices_ids // ((nx + 1) * (ny + 1)) * dz + zmin\n",
    "\n",
    "    # build elements\n",
    "    n_elements = nx * ny * nz\n",
    "    element_ids = np.arange(n_elements)  # used to generate elems\n",
    "    elements = np.zeros((n_elements, 9), dtype='i8')\n",
    "    i = element_ids % nz\n",
    "    j = element_ids // nz % ny\n",
    "    k = element_ids // (nz * ny)\n",
    "    elements[:, 0] = 8  # all hex \n",
    "    #[1, 2, 3, 4, 5, 6, 7, 8]\n",
    "    #[1, 2, 4, 5, 3, 8, 6, 7]\n",
    "    elements[:, 1] = 1 + i * (nx + 1) * (ny + 1) + j * (nx + 1) + k #1\n",
    "    elements[:, 2] = elements[:, 1] + 1                             #2\n",
    "    elements[:, 3] = elements[:, 2] + (nx + 1)                      #4\n",
    "    elements[:, 4] = elements[:, 3] - 1                             #5\n",
    "    elements[:, 5] = elements[:, 1] + ((nx + 1) * (ny + 1))         #3\n",
    "    elements[:, 6] = elements[:, 5] + 1                             #8\n",
    "    elements[:, 7] = elements[:, 6] + (nx + 1)                      #6\n",
    "    elements[:, 8] = elements[:, 7] - 1                             #7\n",
    "    \n",
    "    # build groups\n",
    "    lith_ids = np.round(geo_model.solutions.lith_block)\n",
    "    lith_ids = lith_ids.astype(int)\n",
    "    sids = dict(zip(geo_model._surfaces.df['surface'], geo_model._surfaces.df['id']))\n",
    "    groups = {}\n",
    "    for region_name, region_id in sids.items():\n",
    "        cell_ids = np.where(lith_ids == region_id)[0] + 1\n",
    "        if not len(cell_ids): continue\n",
    "        groups[region_name] = cell_ids\n",
    "\n",
    "    B8_index = []\n",
    "    W6_index = []\n",
    "    new_el = copy.deepcopy(elements)\n",
    "    new_groups = copy.deepcopy(groups)\n",
    "\n",
    "    for x in range(0,nz*ny*nx,nz*ny):\n",
    "        for y in range(x,x+nz*ny,nz):\n",
    "            for z in range(y,y+nz,1):\n",
    "                if z < y+nz-1:\n",
    "                    if lith_ids[z]!=lith_ids[z+1]:\n",
    "                        #roof.update({z:[lith_ids[z], lith_ids[z+1]]})\n",
    "                        new_row = new_el[z,:]\n",
    "                        new_el[z,8] = new_el[z,3]\n",
    "                        new_el[z,6] = new_el[z,7]\n",
    "                        new_row[1] = new_row[2]\n",
    "                        new_row[5] = new_row[3]\n",
    "                        new_el = np.vstack((new_el, new_row))\n",
    "                        l = len(new_el)-1\n",
    "                        for region_name, region_id in sids.items():\n",
    "                            if region_id == lith_ids[z+1]:\n",
    "                                aux = new_groups[region_name]\n",
    "                                aux = np.append(aux, l)\n",
    "                                new_groups[region_name] = aux\n",
    "                        B8_index.append(z)\n",
    "                        W6_index.append(l)\n",
    "\n",
    "    # remove element above topography\n",
    "    #mask_topo = geo_model._grid.regular_grid.mask_topo\n",
    "    shape = geo_model._grid.regular_grid.resolution\n",
    "    shape_tot = shape[0]*shape[1]*shape[2]\n",
    "    mask_topo = geo_model._grid.regular_grid.mask_topo\n",
    "    if(mask_topo.size > 0):\n",
    "        inactive_cells = mask_topo.reshape(shape_tot)\n",
    "    else:\n",
    "        inactive_cells = None\n",
    "    if np.any(inactive_cells):\n",
    "        # update correspondance\n",
    "        new_id_vertices = np.zeros(len(vertices), dtype='i8')\n",
    "        new_id_elements = np.zeros(len(elements), dtype='i8')\n",
    "        # remove inactive cell\n",
    "        elements = elements[~inactive_cells]\n",
    "        new_id_elements[~inactive_cells] = np.arange(len(elements)) + 1\n",
    "        # remove deleted vertices\n",
    "        cond = np.isin(np.arange(len(vertices)) + 1, elements[:, 1:].flatten())\n",
    "        vertices = vertices[cond]\n",
    "        new_id_vertices[cond] = np.arange(len(vertices)) + 1\n",
    "        # renumber vertices in element\n",
    "        elements[1:] = new_id_vertices[elements[1:] - 1]\n",
    "        # renumber groups\n",
    "        for grp in groups.values():\n",
    "            grp[:] = new_id_elements[grp - 1]\n",
    "\n",
    "    return vertices, new_el, new_groups, B8_index, W6_index\n",
    "\n",
    "\n",
    "vertices, elements, groups, B8, W6 = __build_vertices_elements_groups__(geo_model)\n",
    "\n",
    "# open output file\n",
    "# if not path:\n",
    "#    path = './'\n",
    "# if not os.path.exists(path):\n",
    "#    os.makedirs(path)\n",
    "\n",
    "out = open(path + filename, 'w')\n",
    "\n",
    "# write gridpoints\n",
    "out.write(\"*GRIDPOINTS\")\n",
    "for i, vertice in enumerate(vertices):\n",
    "    out.write(f\"\\nG {i + 1} {vertice[0]} {vertice[1]} {vertice[2]}\")\n",
    "\n",
    "# write elements\n",
    "out.write('\\n*ZONES')\n",
    "zone_counter = 1 \n",
    "\n",
    "new_column_order = [1, 2, 4, 5, 3, 8, 6, 7]\n",
    "\n",
    "for i, elem in enumerate(elements[B8]):\n",
    "    out.write(f'\\nZ B8 {zone_counter}')  \n",
    "    for x in new_column_order:\n",
    "        out.write(f\" {elem[x]}\")\n",
    "    zone_counter += 1 \n",
    "\n",
    "for i, elem in enumerate(elements[W6]):\n",
    "    out.write(f'\\nZ W6 {zone_counter}')  \n",
    "    for x in new_column_order:\n",
    "        out.write(f\" {elem[x]}\")\n",
    "    zone_counter += 1 \n",
    "\n",
    "# make groups\n",
    "out.write('\\n*GROUPS\\n')\n",
    "for grp_name, grp in groups.items():\n",
    "    out.write(f'ZGROUP \\\"{grp_name}\\\"\\n')\n",
    "    count = 0\n",
    "    for x in grp:\n",
    "        out.write(f\"{x} \")\n",
    "        count += 1\n",
    "        if count == 8:\n",
    "            out.write(\"\\n\")\n",
    "            count = 0\n",
    "    if count != 0: out.write(\"\\n\")\n",
    "\n",
    "out.close()\n",
    "print(\"Successfully exported geological model as FLAC3D input to \" + path)"
   ]
  }
 ],
 "metadata": {
  "colab": {
   "provenance": []
  },
  "kernelspec": {
   "display_name": "Python 3 (ipykernel)",
   "language": "python",
   "name": "python3"
  },
  "language_info": {
   "codemirror_mode": {
    "name": "ipython",
    "version": 3
   },
   "file_extension": ".py",
   "mimetype": "text/x-python",
   "name": "python",
   "nbconvert_exporter": "python",
   "pygments_lexer": "ipython3",
   "version": "3.10.13"
  }
 },
 "nbformat": 4,
 "nbformat_minor": 4
}
