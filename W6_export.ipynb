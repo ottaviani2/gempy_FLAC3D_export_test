{
 "cells": [
  {
   "cell_type": "code",
   "execution_count": 1,
   "metadata": {
    "id": "HNSUJfyHhV1l"
   },
   "outputs": [],
   "source": [
    "# Importing aux libraries\n",
    "import numpy as np\n",
    "import matplotlib.pyplot as plt\n",
    "import matplotlib.image as mpimg"
   ]
  },
  {
   "cell_type": "code",
   "execution_count": 2,
   "metadata": {
    "colab": {
     "base_uri": "https://localhost:8080/",
     "height": 460
    },
    "id": "eA37usSvURPh",
    "outputId": "e63cf806-4bdd-49f0-ff57-863602749d28",
    "scrolled": true
   },
   "outputs": [
    {
     "name": "stdout",
     "output_type": "stream",
     "text": [
      "WARN: Could not locate executable g77\n",
      "WARN: Could not locate executable f77\n",
      "WARN: Could not locate executable ifort\n",
      "WARN: Could not locate executable ifl\n",
      "WARN: Could not locate executable f90\n",
      "WARN: Could not locate executable efl\n"
     ]
    },
    {
     "name": "stderr",
     "output_type": "stream",
     "text": [
      "c:\\ProgramData\\anaconda3\\envs\\gempy1\\lib\\site-packages\\numpy\\distutils\\system_info.py:2159: UserWarning: \n",
      "    Optimized (vendor) Blas libraries are not found.\n",
      "    Falls back to netlib Blas library which has worse performance.\n",
      "    A better performance should be easily gained by switching\n",
      "    Blas library.\n",
      "  if self._calc_info(blas):\n",
      "c:\\ProgramData\\anaconda3\\envs\\gempy1\\lib\\site-packages\\numpy\\distutils\\system_info.py:2159: UserWarning: \n",
      "    Blas (http://www.netlib.org/blas/) libraries not found.\n",
      "    Directories to search for the libraries can be specified in the\n",
      "    numpy/distutils/site.cfg file (section [blas]) or by setting\n",
      "    the BLAS environment variable.\n",
      "  if self._calc_info(blas):\n",
      "c:\\ProgramData\\anaconda3\\envs\\gempy1\\lib\\site-packages\\numpy\\distutils\\system_info.py:2159: UserWarning: \n",
      "    Blas (http://www.netlib.org/blas/) sources not found.\n",
      "    Directories to search for the sources can be specified in the\n",
      "    numpy/distutils/site.cfg file (section [blas_src]) or by setting\n",
      "    the BLAS_SRC environment variable.\n",
      "  if self._calc_info(blas):\n",
      "WARNING (aesara.tensor.blas): Using NumPy C-API based implementation for BLAS functions.\n"
     ]
    }
   ],
   "source": [
    "import gempy as gp"
   ]
  },
  {
   "cell_type": "code",
   "execution_count": 3,
   "metadata": {},
   "outputs": [],
   "source": [
    "geo_model = gp.create_model('Perarolo_3')"
   ]
  },
  {
   "cell_type": "code",
   "execution_count": 4,
   "metadata": {},
   "outputs": [
    {
     "name": "stdout",
     "output_type": "stream",
     "text": [
      "Active grids: ['regular']\n"
     ]
    },
    {
     "data": {
      "text/plain": [
       "Perarolo_3  2024-05-15 13:57"
      ]
     },
     "execution_count": 4,
     "metadata": {},
     "output_type": "execute_result"
    }
   ],
   "source": [
    "data_path = 'C:/Users/admin/Documents/Dottorato/Conda_envs/gempy_Rousseau/Data/'\n",
    "# Importing the data from CSV-files and setting extent and resolution\n",
    "gp.init_data(geo_model, [60, 220., -60., 60., 0, 140.], [50, 50, 50],\n",
    "             path_i=data_path + \"layer_i_nf.csv\",\n",
    "             path_o=data_path + \"layer_o_nf.csv\",\n",
    "             default_values=True)"
   ]
  },
  {
   "cell_type": "code",
   "execution_count": 5,
   "metadata": {},
   "outputs": [
    {
     "data": {
      "text/html": [
       "<style type=\"text/css\">\n",
       "#T_9b106_row0_col3 {\n",
       "  background-color: #015482;\n",
       "}\n",
       "#T_9b106_row1_col3 {\n",
       "  background-color: #9f0052;\n",
       "}\n",
       "#T_9b106_row2_col3 {\n",
       "  background-color: #ffbe00;\n",
       "}\n",
       "#T_9b106_row3_col3 {\n",
       "  background-color: #728f02;\n",
       "}\n",
       "</style>\n",
       "<table id=\"T_9b106\">\n",
       "  <thead>\n",
       "    <tr>\n",
       "      <th class=\"blank level0\" >&nbsp;</th>\n",
       "      <th id=\"T_9b106_level0_col0\" class=\"col_heading level0 col0\" >surface</th>\n",
       "      <th id=\"T_9b106_level0_col1\" class=\"col_heading level0 col1\" >series</th>\n",
       "      <th id=\"T_9b106_level0_col2\" class=\"col_heading level0 col2\" >order_surfaces</th>\n",
       "      <th id=\"T_9b106_level0_col3\" class=\"col_heading level0 col3\" >color</th>\n",
       "      <th id=\"T_9b106_level0_col4\" class=\"col_heading level0 col4\" >id</th>\n",
       "    </tr>\n",
       "  </thead>\n",
       "  <tbody>\n",
       "    <tr>\n",
       "      <th id=\"T_9b106_level0_row0\" class=\"row_heading level0 row0\" >0</th>\n",
       "      <td id=\"T_9b106_row0_col0\" class=\"data row0 col0\" >gravely_layer</td>\n",
       "      <td id=\"T_9b106_row0_col1\" class=\"data row0 col1\" >Strat_Series</td>\n",
       "      <td id=\"T_9b106_row0_col2\" class=\"data row0 col2\" >1</td>\n",
       "      <td id=\"T_9b106_row0_col3\" class=\"data row0 col3\" >#015482</td>\n",
       "      <td id=\"T_9b106_row0_col4\" class=\"data row0 col4\" >1</td>\n",
       "    </tr>\n",
       "    <tr>\n",
       "      <th id=\"T_9b106_level0_row1\" class=\"row_heading level0 row1\" >1</th>\n",
       "      <td id=\"T_9b106_row1_col0\" class=\"data row1 col0\" >clay_layer</td>\n",
       "      <td id=\"T_9b106_row1_col1\" class=\"data row1 col1\" >Strat_Series</td>\n",
       "      <td id=\"T_9b106_row1_col2\" class=\"data row1 col2\" >2</td>\n",
       "      <td id=\"T_9b106_row1_col3\" class=\"data row1 col3\" >#9f0052</td>\n",
       "      <td id=\"T_9b106_row1_col4\" class=\"data row1 col4\" >2</td>\n",
       "    </tr>\n",
       "    <tr>\n",
       "      <th id=\"T_9b106_level0_row2\" class=\"row_heading level0 row2\" >2</th>\n",
       "      <td id=\"T_9b106_row2_col0\" class=\"data row2 col0\" >altered_bedrock</td>\n",
       "      <td id=\"T_9b106_row2_col1\" class=\"data row2 col1\" >Strat_Series</td>\n",
       "      <td id=\"T_9b106_row2_col2\" class=\"data row2 col2\" >3</td>\n",
       "      <td id=\"T_9b106_row2_col3\" class=\"data row2 col3\" >#ffbe00</td>\n",
       "      <td id=\"T_9b106_row2_col4\" class=\"data row2 col4\" >3</td>\n",
       "    </tr>\n",
       "    <tr>\n",
       "      <th id=\"T_9b106_level0_row3\" class=\"row_heading level0 row3\" >3</th>\n",
       "      <td id=\"T_9b106_row3_col0\" class=\"data row3 col0\" >basement</td>\n",
       "      <td id=\"T_9b106_row3_col1\" class=\"data row3 col1\" >Basement</td>\n",
       "      <td id=\"T_9b106_row3_col2\" class=\"data row3 col2\" >1</td>\n",
       "      <td id=\"T_9b106_row3_col3\" class=\"data row3 col3\" >#728f02</td>\n",
       "      <td id=\"T_9b106_row3_col4\" class=\"data row3 col4\" >4</td>\n",
       "    </tr>\n",
       "  </tbody>\n",
       "</table>\n"
      ],
      "text/plain": [
       "           surface        series  order_surfaces    color  id\n",
       "0    gravely_layer  Strat_Series               1  #015482   1\n",
       "1       clay_layer  Strat_Series               2  #9f0052   2\n",
       "2  altered_bedrock  Strat_Series               3  #ffbe00   3\n",
       "3         basement      Basement               1  #728f02   4"
      ]
     },
     "execution_count": 5,
     "metadata": {},
     "output_type": "execute_result"
    }
   ],
   "source": [
    "gp.map_stack_to_surfaces(geo_model,\n",
    "                         {#\"Fault_Series\": 'Main_Fault',\n",
    "                          \"Strat_Series\": ('gravely_layer', 'clay_layer',\n",
    "                                           'altered_bedrock')},\n",
    "                         remove_unused_series=True)\n",
    "#\"Fault_Series\": 'Main_Fault',"
   ]
  },
  {
   "cell_type": "code",
   "execution_count": 6,
   "metadata": {},
   "outputs": [
    {
     "name": "stdout",
     "output_type": "stream",
     "text": [
      "Setting kriging parameters to their default values.\n",
      "Compiling aesara function...\n",
      "Level of Optimization:  fast_compile\n",
      "Device:  cpu\n",
      "Precision:  float64\n",
      "Number of faults:  0\n",
      "Compilation Done!\n",
      "Kriging values: \n",
      "                       values\n",
      "range             244.131112\n",
      "$C_o$            1419.047619\n",
      "drift equations       [3, 3]\n"
     ]
    },
    {
     "data": {
      "text/plain": [
       "<gempy.core.interpolator.InterpolatorModel at 0x1cee1cd88b0>"
      ]
     },
     "execution_count": 6,
     "metadata": {},
     "output_type": "execute_result"
    }
   ],
   "source": [
    "gp.set_interpolator(geo_model,          \n",
    "                    compile_theano=False,\n",
    "                    theano_optimizer='fast_compile',\n",
    "                    )\n",
    "\n",
    "#with compile_theano=True it's really slow"
   ]
  },
  {
   "cell_type": "code",
   "execution_count": 9,
   "metadata": {},
   "outputs": [],
   "source": [
    "# fp = data_path+ \"topo_1_extrap.tif\"\n",
    "# fp"
   ]
  },
  {
   "cell_type": "code",
   "execution_count": 10,
   "metadata": {},
   "outputs": [],
   "source": [
    "\n",
    "# geo_model.set_topography(source='gdal', filepath=fp)\n",
    "# sol = gp.compute_model(geo_model, compute_mesh=True)"
   ]
  },
  {
   "cell_type": "code",
   "execution_count": 7,
   "metadata": {},
   "outputs": [],
   "source": [
    "#NO TOPOGRAPHY\n",
    "sol = gp.compute_model(geo_model, compute_mesh=True)"
   ]
  },
  {
   "cell_type": "code",
   "execution_count": 8,
   "metadata": {},
   "outputs": [
    {
     "name": "stderr",
     "output_type": "stream",
     "text": [
      "c:\\ProgramData\\anaconda3\\envs\\gempy1\\lib\\site-packages\\pyvista\\utilities\\helpers.py:507: UserWarning: Points is not a float type. This can cause issues when transforming or applying filters. Casting to ``np.float32``. Disable this by passing ``force_float=False``.\n",
      "  warnings.warn(\n"
     ]
    }
   ],
   "source": [
    "ver, sim = gp.get_surfaces(geo_model)\n",
    "gpv = gp.plot_3d(geo_model, plotter_type='basic', show_surfaces=True, show_data=True, image=False,\n",
    "                 show_topography=True)"
   ]
  },
  {
   "cell_type": "code",
   "execution_count": 12,
   "metadata": {},
   "outputs": [
    {
     "data": {
      "text/plain": [
       "True"
      ]
     },
     "execution_count": 12,
     "metadata": {},
     "output_type": "execute_result"
    }
   ],
   "source": [
    "save_path = 'C:/Users/admin/Documents/Dottorato/Conda_envs/FLAC3D_test_github/Model_surface'\n",
    "geo_model.save_model(path = save_path, name='Model_surface')"
   ]
  },
  {
   "cell_type": "code",
   "execution_count": 48,
   "metadata": {},
   "outputs": [
    {
     "name": "stdout",
     "output_type": "stream",
     "text": [
      "Active grids: ['regular']\n"
     ]
    }
   ],
   "source": [
    "geo_model = gp.load_model(path = save_path, name = 'Model_surface')"
   ]
  },
  {
   "cell_type": "code",
   "execution_count": 13,
   "metadata": {},
   "outputs": [
    {
     "name": "stdout",
     "output_type": "stream",
     "text": [
      "Successfully exported geological model as FLAC3D input to C:/Users/admin/Documents/Dottorato/Conda_envs/gempy_Rousseau/Data/\n"
     ]
    }
   ],
   "source": [
    "#Try to export the surface with W6 block type\n",
    "path=data_path\n",
    "filename='geomodel_topo_10.f3grid'\n",
    "\n",
    "def __build_vertices_elements_groups__2(geo_model_2):\n",
    "\n",
    "    # get model information\n",
    "    nx, ny, nz = geo_model.grid.regular_grid.resolution\n",
    "    xmin, xmax, ymin, ymax, zmin, zmax = geo_model.solutions.grid.regular_grid.extent\n",
    "\n",
    "    # create vertices array\n",
    "    dx, dy, dz = (xmax - xmin) / nx, (ymax - ymin) / ny, (zmax - zmin) / nz\n",
    "    n_vertices = (nx + 1) * (ny + 1) * (nz + 1)\n",
    "    vertices = np.zeros((n_vertices, 3), dtype='f8')\n",
    "    vertices_ids = np.arange(n_vertices)  # used to generate coordinate\n",
    "    vertices[:, 0] = vertices_ids % (nx + 1) * dx + xmin\n",
    "    vertices[:, 1] = (vertices_ids % ((nx + 1) * (ny + 1))) // (nx + 1) * dy + ymin\n",
    "    vertices[:, 2] = vertices_ids // ((nx + 1) * (ny + 1)) * dz + zmin\n",
    "\n",
    "    # build groups\n",
    "    lith_ids = np.round(geo_model.solutions.lith_block)\n",
    "    lith_ids = lith_ids.astype(int)\n",
    "    sids = dict(zip(geo_model._surfaces.df['surface'], geo_model._surfaces.df['id']))\n",
    "    groups = {}\n",
    "    for region_name, region_id in sids.items():\n",
    "        cell_ids = np.where(lith_ids == region_id)[0] + 1\n",
    "        if not len(cell_ids): continue\n",
    "        groups[region_name] = cell_ids\n",
    "\n",
    "    # build elements\n",
    "    n_elements = nx * ny * nz\n",
    "    element_ids = np.arange(n_elements)  # used to generate elems\n",
    "    elements = np.zeros((n_elements, 9), dtype='i8')\n",
    "    i = element_ids % nz\n",
    "    j = element_ids // nz % ny\n",
    "    k = element_ids // (nz * ny)\n",
    "    elements[:, 0] = 8  # all hex\n",
    "    elements[:, 1] = 1 + i * (nx + 1) * (ny + 1) + j * (nx + 1) + k\n",
    "    elements[:, 2] = elements[:, 1] + 1\n",
    "    elements[:, 5] = elements[:, 2] + (nx + 1)\n",
    "    elements[:, 3] = elements[:, 5] - 1\n",
    "    elements[:, 4] = elements[:, 1] + ((nx + 1) * (ny + 1))\n",
    "    elements[:, 7] = elements[:, 4] + 1\n",
    "    elements[:, 8] = elements[:, 7] + (nx + 1)\n",
    "    elements[:, 6] = elements[:, 8] - 1\n",
    "\n",
    "     # remove element above topography\n",
    "    #mask_topo = geo_model._grid.regular_grid.mask_topo\n",
    "    shape = geo_model._grid.regular_grid.resolution\n",
    "    shape_tot = shape[0]*shape[1]*shape[2]\n",
    "    mask_topo = geo_model._grid.regular_grid.mask_topo\n",
    "    if(mask_topo.size > 0):\n",
    "        inactive_cells = mask_topo.reshape(shape_tot)\n",
    "    else:\n",
    "        inactive_cells = None\n",
    "    if np.any(inactive_cells):\n",
    "        # update correspondance\n",
    "        new_id_vertices = np.zeros(len(vertices), dtype='i8')\n",
    "        new_id_elements = np.zeros(len(elements), dtype='i8')\n",
    "        # remove inactive cell\n",
    "        elements = elements[~inactive_cells]\n",
    "        new_id_elements[~inactive_cells] = np.arange(len(elements)) + 1\n",
    "        # remove deleted vertices\n",
    "        cond = np.isin(np.arange(len(vertices)) + 1, elements[:, 1:].flatten())\n",
    "        vertices = vertices[cond]\n",
    "        new_id_vertices[cond] = np.arange(len(vertices)) + 1\n",
    "        # renumber vertices in element\n",
    "        elements[1:] = new_id_vertices[elements[1:] - 1]\n",
    "        # renumber groups\n",
    "        for grp in groups.values():\n",
    "            grp[:] = new_id_elements[grp - 1]\n",
    "\n",
    "    return vertices, elements, groups\n",
    "\n",
    "# create vertices and elements\n",
    "vertices, elements, groups = __build_vertices_elements_groups__2(geo_model)\n",
    "\n",
    "# open output file\n",
    "# if not path:\n",
    "#    path = './'\n",
    "# if not os.path.exists(path):\n",
    "#    os.makedirs(path)\n",
    "\n",
    "out = open(path + filename, 'w')\n",
    "\n",
    "# write gridpoints\n",
    "out.write(\"*GRIDPOINTS\")\n",
    "for i, vertice in enumerate(vertices):\n",
    "    out.write(f\"\\nG {i + 1} {vertice[0]} {vertice[1]} {vertice[2]}\")\n",
    "\n",
    "#write elements\n",
    "out.write('\\n*ZONES')\n",
    "for i,elem in enumerate(elements):\n",
    "    out.write('\\nB8')\n",
    "    for x in elem[1:]:\n",
    "        out.write(f\" {x}\")\n",
    "\n",
    "# make groups\n",
    "out.write('\\n*GROUPS\\n')\n",
    "for grp_name, grp in groups.items():\n",
    "    out.write(f'ZGROUP \\\"{grp_name}\\\"\\n')\n",
    "    count = 0\n",
    "    for x in grp:\n",
    "        out.write(f\"{x} \")\n",
    "        count += 1\n",
    "        if count == 8:\n",
    "            out.write(\"\\n\")\n",
    "            count = 0\n",
    "    if count != 0: out.write(\"\\n\")\n",
    "\n",
    "out.close()\n",
    "print(\"Successfully exported geological model as FLAC3D input to \" + path)\n"
   ]
  },
  {
   "cell_type": "code",
   "execution_count": 14,
   "metadata": {},
   "outputs": [
    {
     "name": "stdout",
     "output_type": "stream",
     "text": [
      "            X     Y      Z\n",
      "0        60.0 -60.0    0.0\n",
      "2601     60.0 -60.0    2.8\n",
      "5202     60.0 -60.0    5.6\n",
      "7803     60.0 -60.0    8.4\n",
      "10404    60.0 -60.0   11.2\n",
      "...       ...   ...    ...\n",
      "122246  220.0  60.0  128.8\n",
      "124847  220.0  60.0  131.6\n",
      "127448  220.0  60.0  134.4\n",
      "130049  220.0  60.0  137.2\n",
      "132650  220.0  60.0  140.0\n",
      "\n",
      "[132651 rows x 3 columns]\n",
      "            X     Y      Z\n",
      "130050   60.0 -60.0  140.0\n",
      "130051   63.2 -60.0  140.0\n",
      "130052   66.4 -60.0  140.0\n",
      "130053   69.6 -60.0  140.0\n",
      "130054   72.8 -60.0  140.0\n",
      "...       ...   ...    ...\n",
      "132646  207.2  60.0  140.0\n",
      "132647  210.4  60.0  140.0\n",
      "132648  213.6  60.0  140.0\n",
      "132649  216.8  60.0  140.0\n",
      "132650  220.0  60.0  140.0\n",
      "\n",
      "[2601 rows x 3 columns]\n",
      "            X     Y      Z\n",
      "127449   60.0 -60.0  137.2\n",
      "127450   63.2 -60.0  137.2\n",
      "127451   66.4 -60.0  137.2\n",
      "127452   69.6 -60.0  137.2\n",
      "127453   72.8 -60.0  137.2\n",
      "...       ...   ...    ...\n",
      "130045  207.2  60.0  137.2\n",
      "130046  210.4  60.0  137.2\n",
      "130047  213.6  60.0  137.2\n",
      "130048  216.8  60.0  137.2\n",
      "130049  220.0  60.0  137.2\n",
      "\n",
      "[2601 rows x 3 columns]\n"
     ]
    }
   ],
   "source": [
    "import pandas as pd\n",
    "\n",
    "data = {'X': vertices[:,0],\n",
    "        'Y': vertices[:,1],\n",
    "        'Z': vertices[:,2]\n",
    "}\n",
    "\n",
    "df = pd.DataFrame(data)\n",
    "df_sort = df.sort_values(by = ['X','Y','Z'])\n",
    "print(df_sort)\n",
    "\n",
    "tfi = df.groupby(['X','Y'])['Z'].transform('max') == df['Z']\n",
    "tfi_i = np.invert(tfi)\n",
    "df_2 = df[tfi_i]\n",
    "tfi_2 = df_2.groupby(['X','Y'])['Z'].transform('max') == df_2['Z']\n",
    "\n",
    "print(df[tfi])\n",
    "print(df_2[tfi_2])"
   ]
  },
  {
   "cell_type": "code",
   "execution_count": 51,
   "metadata": {},
   "outputs": [
    {
     "name": "stdout",
     "output_type": "stream",
     "text": [
      "Successfully exported geological model as FLAC3D input to C:/Users/admin/Documents/Dottorato/Conda_envs/gempy_Rousseau/Data/\n"
     ]
    }
   ],
   "source": [
    "#PROVA CON INDICI ORIGINALI ROUSSEAU\n",
    "    # create vertices and elements\n",
    "path=data_path\n",
    "filename='geomodel_topo_10.f3grid'\n",
    "\n",
    "def __build_vertices_elements_groups__(geo_model):\n",
    "\n",
    "    # get model information\n",
    "    nx, ny, nz = geo_model.grid.regular_grid.resolution\n",
    "    xmin, xmax, ymin, ymax, zmin, zmax = geo_model.solutions.grid.regular_grid.extent\n",
    "\n",
    "    # create vertices array\n",
    "    dx, dy, dz = (xmax - xmin) / nx, (ymax - ymin) / ny, (zmax - zmin) / nz\n",
    "    n_vertices = (nx + 1) * (ny + 1) * (nz + 1)\n",
    "    vertices = np.zeros((n_vertices, 3), dtype='f8')\n",
    "    vertices_ids = np.arange(n_vertices)  # used to generate coordinate\n",
    "    vertices[:, 0] = vertices_ids % (nx + 1) * dx + xmin\n",
    "    vertices[:, 1] = (vertices_ids % ((nx + 1) * (ny + 1))) // (nx + 1) * dy + ymin\n",
    "    vertices[:, 2] = vertices_ids // ((nx + 1) * (ny + 1)) * dz + zmin\n",
    "\n",
    "    # build elements\n",
    "    n_elements = nx * ny * nz\n",
    "    element_ids = np.arange(n_elements)  # used to generate elems\n",
    "    elements = np.zeros((n_elements, 9), dtype='i8')\n",
    "    i = element_ids % nz\n",
    "    j = element_ids // nz % ny\n",
    "    k = element_ids // (nz * ny)\n",
    "    elements[:, 0] = 8  # all hex\n",
    "    elements[:, 1] = 1 + i * (nx + 1) * (ny + 1) + j * (nx + 1) + k\n",
    "    elements[:, 2] = elements[:, 1] + 1\n",
    "    elements[:, 3] = elements[:, 2] + (nx + 1)\n",
    "    elements[:, 4] = elements[:, 3] - 1\n",
    "    elements[:, 5] = elements[:, 1] + ((nx + 1) * (ny + 1))\n",
    "    elements[:, 6] = elements[:, 5] + 1\n",
    "    elements[:, 7] = elements[:, 6] + (nx + 1)\n",
    "    elements[:, 8] = elements[:, 7] - 1\n",
    "    \n",
    "    # build groups\n",
    "    lith_ids = np.round(geo_model.solutions.lith_block)\n",
    "    lith_ids = lith_ids.astype(int)\n",
    "    sids = dict(zip(geo_model._surfaces.df['surface'], geo_model._surfaces.df['id']))\n",
    "    groups = {}\n",
    "    for region_name, region_id in sids.items():\n",
    "        cell_ids = np.where(lith_ids == region_id)[0] + 1\n",
    "        if not len(cell_ids): continue\n",
    "        groups[region_name] = cell_ids\n",
    "\n",
    "    # remove element above topography\n",
    "    #mask_topo = geo_model._grid.regular_grid.mask_topo\n",
    "    shape = geo_model._grid.regular_grid.resolution\n",
    "    shape_tot = shape[0]*shape[1]*shape[2]\n",
    "    mask_topo = geo_model._grid.regular_grid.mask_topo\n",
    "    if(mask_topo.size > 0):\n",
    "        inactive_cells = mask_topo.reshape(shape_tot)\n",
    "    else:\n",
    "        inactive_cells = None\n",
    "    if np.any(inactive_cells):\n",
    "        # update correspondance\n",
    "        new_id_vertices = np.zeros(len(vertices), dtype='i8')\n",
    "        new_id_elements = np.zeros(len(elements), dtype='i8')\n",
    "        # remove inactive cell\n",
    "        elements = elements[~inactive_cells]\n",
    "        new_id_elements[~inactive_cells] = np.arange(len(elements)) + 1\n",
    "        # remove deleted vertices\n",
    "        cond = np.isin(np.arange(len(vertices)) + 1, elements[:, 1:].flatten())\n",
    "        vertices = vertices[cond]\n",
    "        new_id_vertices[cond] = np.arange(len(vertices)) + 1\n",
    "        # renumber vertices in element\n",
    "        elements[1:] = new_id_vertices[elements[1:] - 1]\n",
    "        # renumber groups\n",
    "        for grp in groups.values():\n",
    "            grp[:] = new_id_elements[grp - 1]\n",
    "\n",
    "    return vertices, elements, groups\n",
    "\n",
    "\n",
    "vertices, elements, groups = __build_vertices_elements_groups__(geo_model_2)\n",
    "\n",
    "# open output file\n",
    "# if not path:\n",
    "#    path = './'\n",
    "# if not os.path.exists(path):\n",
    "#    os.makedirs(path)\n",
    "\n",
    "out = open(path + filename, 'w')\n",
    "\n",
    "# write gridpoints\n",
    "out.write(\"*GRIDPOINTS\")\n",
    "for i, vertice in enumerate(vertices):\n",
    "    out.write(f\"\\nG {i + 1} {vertice[0]} {vertice[1]} {vertice[2]}\")\n",
    "\n",
    "# write elements\n",
    "out.write('\\n*ZONES')\n",
    "zone_counter = 1 \n",
    "\n",
    "new_column_order = [1, 2, 4, 5, 3, 8, 6, 7]\n",
    "\n",
    "for i, elem in enumerate(elements):\n",
    "    out.write(f'\\nZ B8 {zone_counter}')  \n",
    "    for x in new_column_order:\n",
    "        out.write(f\" {elem[x]}\")\n",
    "    zone_counter += 1 \n",
    "\n",
    "# make groups\n",
    "out.write('\\n*GROUPS\\n')\n",
    "for grp_name, grp in groups.items():\n",
    "    out.write(f'ZGROUP \\\"{grp_name}\\\"\\n')\n",
    "    count = 0\n",
    "    for x in grp:\n",
    "        out.write(f\"{x} \")\n",
    "        count += 1\n",
    "        if count == 8:\n",
    "            out.write(\"\\n\")\n",
    "            count = 0\n",
    "    if count != 0: out.write(\"\\n\")\n",
    "\n",
    "out.close()\n",
    "print(\"Successfully exported geological model as FLAC3D input to \" + path)"
   ]
  },
  {
   "cell_type": "code",
   "execution_count": 53,
   "metadata": {},
   "outputs": [
    {
     "ename": "KeyError",
     "evalue": "'altered_bedrock'",
     "output_type": "error",
     "traceback": [
      "\u001b[1;31m---------------------------------------------------------------------------\u001b[0m",
      "\u001b[1;31mKeyError\u001b[0m                                  Traceback (most recent call last)",
      "Cell \u001b[1;32mIn[53], line 42\u001b[0m\n\u001b[0;32m     40\u001b[0m \u001b[38;5;28;01mfor\u001b[39;00m region_name, region_id \u001b[38;5;129;01min\u001b[39;00m sids\u001b[38;5;241m.\u001b[39mitems():\n\u001b[0;32m     41\u001b[0m     \u001b[38;5;28;01mif\u001b[39;00m region_id \u001b[38;5;241m==\u001b[39m lith_ids[z\u001b[38;5;241m+\u001b[39m\u001b[38;5;241m1\u001b[39m]:\n\u001b[1;32m---> 42\u001b[0m         aux \u001b[38;5;241m=\u001b[39m \u001b[43mnew_groups\u001b[49m\u001b[43m[\u001b[49m\u001b[43mregion_name\u001b[49m\u001b[43m]\u001b[49m\n\u001b[0;32m     43\u001b[0m         aux \u001b[38;5;241m=\u001b[39m np\u001b[38;5;241m.\u001b[39mappend(aux, l)\n\u001b[0;32m     44\u001b[0m         new_groups[region_name] \u001b[38;5;241m=\u001b[39m aux\n",
      "\u001b[1;31mKeyError\u001b[0m: 'altered_bedrock'"
     ]
    }
   ],
   "source": [
    "\n",
    "nx, ny, nz = geo_model.grid.regular_grid.resolution\n",
    "n_elements = nx * ny * nz\n",
    "\n",
    "lis_others = []\n",
    "lis_z = []\n",
    "lis_plane = []\n",
    "lis_xx1 = []\n",
    "lis_xx2 = []\n",
    "lis_yy1 = []\n",
    "lis_yy2 = []\n",
    "\n",
    "#SEARCH THE SURFACES INSIDE THE MODEL\n",
    "# +1        moves in Z axis\n",
    "# +nz       moves in Y axis\n",
    "# +(nz*ny)  moves in X axis\n",
    "W8_index = []\n",
    "W6_index = []\n",
    "roof = {}\n",
    "count=0\n",
    "df=[]\n",
    "\n",
    "new_el = copy.deepcopy(elements)\n",
    "size = np.size(elements,0)\n",
    "new_groups = copy.deepcopy(groups)\n",
    "\n",
    "for x in range(0,nz*ny*nx,nz*ny):\n",
    "    for y in range(x,x+nz*ny,nz):\n",
    "        for z in range(y,y+nz,1):\n",
    "            if z < y+nz-1:\n",
    "                lis_z.append(z)\n",
    "                if lith_ids[z]!=lith_ids[z+1]:\n",
    "                    #roof.update({z:[lith_ids[z], lith_ids[z+1]]})\n",
    "                    new_row = new_el[z,:]\n",
    "                    new_el[z,7] = new_el[z,4]\n",
    "                    new_el[z,8] = new_el[z,6]\n",
    "                    new_row[1] = new_row[2]\n",
    "                    new_row[3] = new_row[5]\n",
    "                    new_el = np.vstack((new_el, new_row))\n",
    "                    l = len(new_el)-1\n",
    "                    for region_name, region_id in sids.items():\n",
    "                        if region_id == lith_ids[z+1]:\n",
    "                            aux = new_groups[region_name]\n",
    "                            aux = np.append(aux, l)\n",
    "                            new_groups[region_name] = aux\n",
    "                    W8_index.append(z)\n",
    "                    W6_index.append(l)\n",
    "\n",
    "\n",
    "\n",
    "# print(i)\n",
    "#print(np.size(i,0))\n",
    "#print(np.size(lith_ids[lis_z],0))\n",
    "#print(lith_ids[lis_z])\n",
    "# print(roof)\n",
    "# print(len(roof))\n",
    "# print(len(i))\n",
    "# print(len(lis_z))"
   ]
  },
  {
   "cell_type": "code",
   "execution_count": 44,
   "metadata": {},
   "outputs": [
    {
     "name": "stdout",
     "output_type": "stream",
     "text": [
      "[[    8 33815 33815 ... 36416 33865 36416]\n",
      " [    8 41618 41618 ... 44219 41668 44219]\n",
      " [    8 62426 62426 ... 65027 62476 65027]\n",
      " ...\n",
      " [    8 54570 54570 ... 57171 54620 57171]\n",
      " [    8 62373 62373 ... 64974 62423 64974]\n",
      " [    8 80580 80580 ... 83181 80630 83181]]\n",
      "[[    8 33815 33815 ... 36416 33865 36416]\n",
      " [    8 41618 41618 ... 44219 41668 44219]\n",
      " [    8 62426 62426 ... 65027 62476 65027]\n",
      " ...\n",
      " [    8 54570 54570 ... 57171 54620 57171]\n",
      " [    8 62373 62373 ... 64974 62423 64974]\n",
      " [    8 80580 80580 ... 83181 80630 83181]]\n"
     ]
    }
   ],
   "source": [
    "print(new_el[W8_index])\n",
    "print(new_el[W6_index])"
   ]
  },
  {
   "cell_type": "code",
   "execution_count": 18,
   "metadata": {},
   "outputs": [
    {
     "name": "stdout",
     "output_type": "stream",
     "text": [
      "7500\n"
     ]
    }
   ],
   "source": [
    "import copy\n",
    "\n",
    "new_el = copy.deepcopy(elements)\n",
    "size = np.size(elements,0)\n",
    "new_groups = copy.deepcopy(groups)\n",
    "# for x in roof:\n",
    "#     if roof[x] == [4, 3]:\n",
    "#         i_4_3.append(x)\n",
    "#     if roof[x] == [3, 2]:\n",
    "#         i_3_2.append(x)\n",
    "#     if roof[x] == [2, 1]:\n",
    "#         i_2_1.append(x)\n",
    "lithology = []\n",
    "\n",
    "for x in roof:\n",
    "    new_row = new_el[x,:]\n",
    "    new_el[x,7] = new_el[x,4]\n",
    "    new_el[x,8] = new_el[x,6]\n",
    "    new_row[1] = new_row[2]\n",
    "    new_row[3] = new_row[5]\n",
    "    new_el = np.vstack((new_el, new_row))\n",
    "    l = len(new_el)-1\n",
    "    \n",
    "    # for region_name, region_id in sids.items():\n",
    "    #     if region_id == l1-1:\n",
    "    #         aux = new_groups[region_name]\n",
    "    #         aux = np.append(aux, l)\n",
    "    #         new_groups[region_name] = aux\n",
    "print(count)          "
   ]
  },
  {
   "cell_type": "code",
   "execution_count": 22,
   "metadata": {},
   "outputs": [
    {
     "name": "stdout",
     "output_type": "stream",
     "text": [
      "{13: [4, 3], 16: [3, 2], 24: [2, 1], 63: [4, 3], 67: [3, 2], 74: [2, 1], 114: [4, 3], 117: [3, 2], 125: [2, 1], 164: [4, 3], 168: [3, 2], 175: [2, 1], 215: [4, 3], 218: [3, 2], 225: [2, 1], 265: [4, 3], 268: [3, 2], 276: [2, 1], 316: [4, 3], 319: [3, 2], 326: [2, 1], 366: [4, 3], 369: [3, 2], 376: [2, 1], 416: [4, 3], 420: [3, 2], 427: [2, 1], 467: [4, 3], 470: [3, 2], 477: [2, 1], 517: [4, 3], 520: [3, 2], 527: [2, 1], 568: [4, 3], 571: [3, 2], 578: [2, 1], 618: [4, 3], 621: [3, 2], 628: [2, 1], 668: [4, 3], 671: [3, 2], 678: [2, 1], 719: [4, 3], 722: [3, 2], 728: [2, 1], 769: [4, 3], 772: [3, 2], 779: [2, 1], 820: [4, 3], 822: [3, 2], 829: [2, 1], 870: [4, 3], 873: [3, 2], 879: [2, 1], 920: [4, 3], 923: [3, 2], 930: [2, 1], 971: [4, 3], 974: [3, 2], 980: [2, 1], 1021: [4, 3], 1024: [3, 2], 1030: [2, 1], 1072: [4, 3], 1074: [3, 2], 1080: [2, 1], 1122: [4, 3], 1125: [3, 2], 1131: [2, 1], 1172: [4, 3], 1175: [3, 2], 1181: [2, 1], 1223: [4, 3], 1225: [3, 2], 1231: [2, 1], 1273: [4, 3], 1276: [3, 2], 1281: [2, 1], 1323: [4, 3], 1326: [3, 2], 1332: [2, 1], 1374: [4, 3], 1376: [3, 2], 1382: [2, 1], 1424: [4, 3], 1427: [3, 2], 1432: [2, 1], 1475: [4, 3], 1477: [3, 2], 1483: [2, 1], 1525: [4, 3], 1527: [3, 2], 1533: [2, 1], 1575: [4, 3], 1578: [3, 2], 1583: [2, 1], 1626: [4, 3], 1628: [3, 2], 1634: [2, 1], 1676: [4, 3], 1679: [3, 2], 1684: [2, 1], 1727: [4, 3], 1729: [3, 2], 1734: [2, 1], 1777: [4, 3], 1779: [3, 2], 1785: [2, 1], 1827: [4, 3], 1830: [3, 2], 1835: [2, 1], 1878: [4, 3], 1880: [3, 2], 1885: [2, 1], 1928: [4, 3], 1931: [3, 2], 1936: [2, 1], 1979: [4, 3], 1981: [3, 2], 1986: [2, 1], 2029: [4, 3], 2031: [3, 2], 2036: [2, 1], 2080: [4, 3], 2082: [3, 2], 2087: [2, 1], 2130: [4, 3], 2132: [3, 2], 2137: [2, 1], 2180: [4, 3], 2183: [3, 2], 2187: [2, 1], 2231: [4, 3], 2233: [3, 2], 2238: [2, 1], 2281: [4, 3], 2283: [3, 2], 2288: [2, 1], 2332: [4, 3], 2334: [3, 2], 2339: [2, 1], 2382: [4, 3], 2384: [3, 2], 2389: [2, 1], 2433: [4, 3], 2435: [3, 2], 2439: [2, 1], 2483: [4, 3], 2485: [3, 2], 2490: [2, 1], 2513: [4, 3], 2516: [3, 2], 2524: [2, 1], 2563: [4, 3], 2567: [3, 2], 2574: [2, 1], 2614: [4, 3], 2617: [3, 2], 2625: [2, 1], 2664: [4, 3], 2667: [3, 2], 2675: [2, 1], 2714: [4, 3], 2718: [3, 2], 2725: [2, 1], 2765: [4, 3], 2768: [3, 2], 2776: [2, 1], 2815: [4, 3], 2819: [3, 2], 2826: [2, 1], 2866: [4, 3], 2869: [3, 2], 2876: [2, 1], 2916: [4, 3], 2919: [3, 2], 2927: [2, 1], 2967: [4, 3], 2970: [3, 2], 2977: [2, 1], 3017: [4, 3], 3020: [3, 2], 3027: [2, 1], 3067: [4, 3], 3070: [3, 2], 3077: [2, 1], 3118: [4, 3], 3121: [3, 2], 3128: [2, 1], 3168: [4, 3], 3171: [3, 2], 3178: [2, 1], 3218: [4, 3], 3222: [3, 2], 3228: [2, 1], 3269: [4, 3], 3272: [3, 2], 3279: [2, 1], 3319: [4, 3], 3322: [3, 2], 3329: [2, 1], 3370: [4, 3], 3373: [3, 2], 3379: [2, 1], 3420: [4, 3], 3423: [3, 2], 3429: [2, 1], 3470: [4, 3], 3473: [3, 2], 3480: [2, 1], 3521: [4, 3], 3524: [3, 2], 3530: [2, 1], 3571: [4, 3], 3574: [3, 2], 3580: [2, 1], 3622: [4, 3], 3624: [3, 2], 3630: [2, 1], 3672: [4, 3], 3675: [3, 2], 3681: [2, 1], 3722: [4, 3], 3725: [3, 2], 3731: [2, 1], 3773: [4, 3], 3775: [3, 2], 3781: [2, 1], 3823: [4, 3], 3826: [3, 2], 3831: [2, 1], 3874: [4, 3], 3876: [3, 2], 3882: [2, 1], 3924: [4, 3], 3926: [3, 2], 3932: [2, 1], 3974: [4, 3], 3977: [3, 2], 3982: [2, 1], 4025: [4, 3], 4027: [3, 2], 4033: [2, 1], 4075: [4, 3], 4077: [3, 2], 4083: [2, 1], 4125: [4, 3], 4128: [3, 2], 4133: [2, 1], 4176: [4, 3], 4178: [3, 2], 4184: [2, 1], 4226: [4, 3], 4229: [3, 2], 4234: [2, 1], 4277: [4, 3], 4279: [3, 2], 4284: [2, 1], 4327: [4, 3], 4329: [3, 2], 4334: [2, 1], 4378: [4, 3], 4380: [3, 2], 4385: [2, 1], 4428: [4, 3], 4430: [3, 2], 4435: [2, 1], 4478: [4, 3], 4481: [3, 2], 4486: [2, 1], 4529: [4, 3], 4531: [3, 2], 4536: [2, 1], 4579: [4, 3], 4581: [3, 2], 4586: [2, 1], 4630: [4, 3], 4632: [3, 2], 4637: [2, 1], 4680: [4, 3], 4682: [3, 2], 4687: [2, 1], 4730: [4, 3], 4733: [3, 2], 4737: [2, 1], 4781: [4, 3], 4783: [3, 2], 4788: [2, 1], 4831: [4, 3], 4833: [3, 2], 4838: [2, 1], 4882: [4, 3], 4884: [3, 2], 4889: [2, 1], 4932: [4, 3], 4934: [3, 2], 4939: [2, 1], 4983: [4, 3], 4985: [3, 2], 4989: [2, 1], 5012: [4, 3], 5016: [3, 2], 5024: [2, 1], 5063: [4, 3], 5066: [3, 2], 5074: [2, 1], 5113: [4, 3], 5117: [3, 2], 5125: [2, 1], 5164: [4, 3], 5167: [3, 2], 5175: [2, 1], 5214: [4, 3], 5218: [3, 2], 5225: [2, 1], 5265: [4, 3], 5268: [3, 2], 5276: [2, 1], 5315: [4, 3], 5318: [3, 2], 5326: [2, 1], 5365: [4, 3], 5369: [3, 2], 5376: [2, 1], 5416: [4, 3], 5419: [3, 2], 5427: [2, 1], 5466: [4, 3], 5470: [3, 2], 5477: [2, 1], 5517: [4, 3], 5520: [3, 2], 5527: [2, 1], 5567: [4, 3], 5570: [3, 2], 5577: [2, 1], 5617: [4, 3], 5621: [3, 2], 5628: [2, 1], 5668: [4, 3], 5671: [3, 2], 5678: [2, 1], 5718: [4, 3], 5721: [3, 2], 5728: [2, 1], 5769: [4, 3], 5772: [3, 2], 5778: [2, 1], 5819: [4, 3], 5822: [3, 2], 5829: [2, 1], 5869: [4, 3], 5872: [3, 2], 5879: [2, 1], 5920: [4, 3], 5923: [3, 2], 5929: [2, 1], 5970: [4, 3], 5973: [3, 2], 5979: [2, 1], 6020: [4, 3], 6023: [3, 2], 6030: [2, 1], 6071: [4, 3], 6074: [3, 2], 6080: [2, 1], 6121: [4, 3], 6124: [3, 2], 6130: [2, 1], 6172: [4, 3], 6174: [3, 2], 6180: [2, 1], 6222: [4, 3], 6225: [3, 2], 6231: [2, 1], 6272: [4, 3], 6275: [3, 2], 6281: [2, 1], 6323: [4, 3], 6325: [3, 2], 6331: [2, 1], 6373: [4, 3], 6376: [3, 2], 6381: [2, 1], 6424: [4, 3], 6426: [3, 2], 6432: [2, 1], 6474: [4, 3], 6476: [3, 2], 6482: [2, 1], 6524: [4, 3], 6527: [3, 2], 6532: [2, 1], 6575: [4, 3], 6577: [3, 2], 6583: [2, 1], 6625: [4, 3], 6628: [3, 2], 6633: [2, 1], 6676: [4, 3], 6678: [3, 2], 6683: [2, 1], 6726: [4, 3], 6728: [3, 2], 6733: [2, 1], 6776: [4, 3], 6779: [3, 2], 6784: [2, 1], 6827: [4, 3], 6829: [3, 2], 6834: [2, 1], 6877: [4, 3], 6879: [3, 2], 6884: [2, 1], 6928: [4, 3], 6930: [3, 2], 6935: [2, 1], 6978: [4, 3], 6980: [3, 2], 6985: [2, 1], 7028: [4, 3], 7031: [3, 2], 7035: [2, 1], 7079: [4, 3], 7081: [3, 2], 7086: [2, 1], 7129: [4, 3], 7131: [3, 2], 7136: [2, 1], 7180: [4, 3], 7182: [3, 2], 7187: [2, 1], 7230: [4, 3], 7232: [3, 2], 7237: [2, 1], 7280: [4, 3], 7283: [3, 2], 7287: [2, 1], 7331: [4, 3], 7333: [3, 2], 7338: [2, 1], 7381: [4, 3], 7383: [3, 2], 7388: [2, 1], 7432: [4, 3], 7434: [3, 2], 7439: [2, 1], 7482: [4, 3], 7484: [3, 2], 7489: [2, 1], 7512: [4, 3], 7516: [3, 2], 7524: [2, 1], 7563: [4, 3], 7566: [3, 2], 7574: [2, 1], 7613: [4, 3], 7617: [3, 2], 7625: [2, 1], 7664: [4, 3], 7667: [3, 2], 7675: [2, 1], 7714: [4, 3], 7717: [3, 2], 7725: [2, 1], 7764: [4, 3], 7768: [3, 2], 7776: [2, 1], 7815: [4, 3], 7818: [3, 2], 7826: [2, 1], 7865: [4, 3], 7869: [3, 2], 7876: [2, 1], 7916: [4, 3], 7919: [3, 2], 7926: [2, 1], 7966: [4, 3], 7969: [3, 2], 7977: [2, 1], 8016: [4, 3], 8020: [3, 2], 8027: [2, 1], 8067: [4, 3], 8070: [3, 2], 8077: [2, 1], 8117: [4, 3], 8120: [3, 2], 8128: [2, 1], 8167: [4, 3], 8171: [3, 2], 8178: [2, 1], 8218: [4, 3], 8221: [3, 2], 8228: [2, 1], 8268: [4, 3], 8271: [3, 2], 8278: [2, 1], 8319: [4, 3], 8322: [3, 2], 8328: [2, 1], 8369: [4, 3], 8372: [3, 2], 8379: [2, 1], 8419: [4, 3], 8422: [3, 2], 8429: [2, 1], 8470: [4, 3], 8473: [3, 2], 8479: [2, 1], 8520: [4, 3], 8523: [3, 2], 8529: [2, 1], 8570: [4, 3], 8573: [3, 2], 8580: [2, 1], 8621: [4, 3], 8624: [3, 2], 8630: [2, 1], 8671: [4, 3], 8674: [3, 2], 8680: [2, 1], 8722: [4, 3], 8724: [3, 2], 8730: [2, 1], 8772: [4, 3], 8775: [3, 2], 8781: [2, 1], 8822: [4, 3], 8825: [3, 2], 8831: [2, 1], 8873: [4, 3], 8875: [3, 2], 8881: [2, 1], 8923: [4, 3], 8926: [3, 2], 8931: [2, 1], 8974: [4, 3], 8976: [3, 2], 8982: [2, 1], 9024: [4, 3], 9026: [3, 2], 9032: [2, 1], 9074: [4, 3], 9077: [3, 2], 9082: [2, 1], 9125: [4, 3], 9127: [3, 2], 9133: [2, 1], 9175: [4, 3], 9178: [3, 2], 9183: [2, 1], 9226: [4, 3], 9228: [3, 2], 9233: [2, 1], 9276: [4, 3], 9278: [3, 2], 9283: [2, 1], 9326: [4, 3], 9329: [3, 2], 9334: [2, 1], 9377: [4, 3], 9379: [3, 2], 9384: [2, 1], 9427: [4, 3], 9429: [3, 2], 9434: [2, 1], 9478: [4, 3], 9480: [3, 2], 9485: [2, 1], 9528: [4, 3], 9530: [3, 2], 9535: [2, 1], 9578: [4, 3], 9581: [3, 2], 9585: [2, 1], 9629: [4, 3], 9631: [3, 2], 9636: [2, 1], 9679: [4, 3], 9681: [3, 2], 9686: [2, 1], 9730: [4, 3], 9732: [3, 2], 9737: [2, 1], 9780: [4, 3], 9782: [3, 2], 9787: [2, 1], 9830: [4, 3], 9833: [3, 2], 9837: [2, 1], 9881: [4, 3], 9883: [3, 2], 9888: [2, 1], 9931: [4, 3], 9933: [3, 2], 9938: [2, 1], 9982: [4, 3], 9984: [3, 2], 9988: [2, 1], 10012: [4, 3], 10016: [3, 2], 10024: [2, 1], 10062: [4, 3], 10066: [3, 2], 10074: [2, 1], 10113: [4, 3], 10117: [3, 2], 10125: [2, 1], 10163: [4, 3], 10167: [3, 2], 10175: [2, 1], 10214: [4, 3], 10217: [3, 2], 10225: [2, 1], 10264: [4, 3], 10268: [3, 2], 10276: [2, 1], 10315: [4, 3], 10318: [3, 2], 10326: [2, 1], 10365: [4, 3], 10368: [3, 2], 10376: [2, 1], 10415: [4, 3], 10419: [3, 2], 10426: [2, 1], 10466: [4, 3], 10469: [3, 2], 10477: [2, 1], 10516: [4, 3], 10519: [3, 2], 10527: [2, 1], 10566: [4, 3], 10570: [3, 2], 10577: [2, 1], 10617: [4, 3], 10620: [3, 2], 10627: [2, 1], 10667: [4, 3], 10670: [3, 2], 10678: [2, 1], 10718: [4, 3], 10721: [3, 2], 10728: [2, 1], 10768: [4, 3], 10771: [3, 2], 10778: [2, 1], 10818: [4, 3], 10821: [3, 2], 10828: [2, 1], 10869: [4, 3], 10872: [3, 2], 10879: [2, 1], 10919: [4, 3], 10922: [3, 2], 10929: [2, 1], 10969: [4, 3], 10972: [3, 2], 10979: [2, 1], 11020: [4, 3], 11023: [3, 2], 11029: [2, 1], 11070: [4, 3], 11073: [3, 2], 11079: [2, 1], 11121: [4, 3], 11123: [3, 2], 11130: [2, 1], 11171: [4, 3], 11174: [3, 2], 11180: [2, 1], 11221: [4, 3], 11224: [3, 2], 11230: [2, 1], 11272: [4, 3], 11274: [3, 2], 11280: [2, 1], 11322: [4, 3], 11325: [3, 2], 11331: [2, 1], 11372: [4, 3], 11375: [3, 2], 11381: [2, 1], 11423: [4, 3], 11425: [3, 2], 11431: [2, 1], 11473: [4, 3], 11476: [3, 2], 11481: [2, 1], 11524: [4, 3], 11526: [3, 2], 11532: [2, 1], 11574: [4, 3], 11576: [3, 2], 11582: [2, 1], 11624: [4, 3], 11627: [3, 2], 11632: [2, 1], 11675: [4, 3], 11677: [3, 2], 11683: [2, 1], 11725: [4, 3], 11728: [3, 2], 11733: [2, 1], 11776: [4, 3], 11778: [3, 2], 11783: [2, 1], 11826: [4, 3], 11828: [3, 2], 11833: [2, 1], 11876: [4, 3], 11879: [3, 2], 11884: [2, 1], 11927: [4, 3], 11929: [3, 2], 11934: [2, 1], 11977: [4, 3], 11979: [3, 2], 11984: [2, 1], 12028: [4, 3], 12030: [3, 2], 12035: [2, 1], 12078: [4, 3], 12080: [3, 2], 12085: [2, 1], 12128: [4, 3], 12131: [3, 2], 12135: [2, 1], 12179: [4, 3], 12181: [3, 2], 12186: [2, 1], 12229: [4, 3], 12231: [3, 2], 12236: [2, 1], 12280: [4, 3], 12282: [3, 2], 12286: [2, 1], 12330: [4, 3], 12332: [3, 2], 12337: [2, 1], 12380: [4, 3], 12383: [3, 2], 12387: [2, 1], 12431: [4, 3], 12433: [3, 2], 12438: [2, 1], 12481: [4, 3], 12483: [3, 2], 12488: [2, 1], 12512: [4, 3], 12515: [3, 2], 12524: [2, 1], 12562: [4, 3], 12566: [3, 2], 12574: [2, 1], 12613: [4, 3], 12616: [3, 2], 12625: [2, 1], 12663: [4, 3], 12667: [3, 2], 12675: [2, 1], 12713: [4, 3], 12717: [3, 2], 12725: [2, 1], 12764: [4, 3], 12768: [3, 2], 12776: [2, 1], 12814: [4, 3], 12818: [3, 2], 12826: [2, 1], 12865: [4, 3], 12868: [3, 2], 12876: [2, 1], 12915: [4, 3], 12919: [3, 2], 12926: [2, 1], 12965: [4, 3], 12969: [3, 2], 12977: [2, 1], 13016: [4, 3], 13019: [3, 2], 13027: [2, 1], 13066: [4, 3], 13070: [3, 2], 13077: [2, 1], 13116: [4, 3], 13120: [3, 2], 13127: [2, 1], 13167: [4, 3], 13170: [3, 2], 13178: [2, 1], 13217: [4, 3], 13221: [3, 2], 13228: [2, 1], 13268: [4, 3], 13271: [3, 2], 13278: [2, 1], 13318: [4, 3], 13321: [3, 2], 13328: [2, 1], 13368: [4, 3], 13372: [3, 2], 13378: [2, 1], 13419: [4, 3], 13422: [3, 2], 13429: [2, 1], 13469: [4, 3], 13472: [3, 2], 13479: [2, 1], 13519: [4, 3], 13522: [3, 2], 13529: [2, 1], 13570: [4, 3], 13573: [3, 2], 13579: [2, 1], 13620: [4, 3], 13623: [3, 2], 13629: [2, 1], 13671: [4, 3], 13673: [3, 2], 13680: [2, 1], 13721: [4, 3], 13724: [3, 2], 13730: [2, 1], 13771: [4, 3], 13774: [3, 2], 13780: [2, 1], 13822: [4, 3], 13824: [3, 2], 13830: [2, 1], 13872: [4, 3], 13875: [3, 2], 13881: [2, 1], 13923: [4, 3], 13925: [3, 2], 13931: [2, 1], 13973: [4, 3], 13975: [3, 2], 13981: [2, 1], 14023: [4, 3], 14026: [3, 2], 14031: [2, 1], 14074: [4, 3], 14076: [3, 2], 14082: [2, 1], 14124: [4, 3], 14126: [3, 2], 14132: [2, 1], 14174: [4, 3], 14177: [3, 2], 14182: [2, 1], 14225: [4, 3], 14227: [3, 2], 14232: [2, 1], 14275: [4, 3], 14278: [3, 2], 14283: [2, 1], 14326: [4, 3], 14328: [3, 2], 14333: [2, 1], 14376: [4, 3], 14378: [3, 2], 14383: [2, 1], 14426: [4, 3], 14429: [3, 2], 14434: [2, 1], 14477: [4, 3], 14479: [3, 2], 14484: [2, 1], 14527: [4, 3], 14529: [3, 2], 14534: [2, 1], 14578: [4, 3], 14580: [3, 2], 14585: [2, 1], 14628: [4, 3], 14630: [3, 2], 14635: [2, 1], 14678: [4, 3], 14681: [3, 2], 14685: [2, 1], 14729: [4, 3], 14731: [3, 2], 14736: [2, 1], 14779: [4, 3], 14781: [3, 2], 14786: [2, 1], 14830: [4, 3], 14832: [3, 2], 14836: [2, 1], 14880: [4, 3], 14882: [3, 2], 14887: [2, 1], 14931: [4, 3], 14933: [3, 2], 14937: [2, 1], 14981: [4, 3], 14983: [3, 2], 14988: [2, 1], 15011: [4, 3], 15015: [3, 2], 15024: [2, 1], 15062: [4, 3], 15066: [3, 2], 15074: [2, 1], 15112: [4, 3], 15116: [3, 2], 15125: [2, 1], 15163: [4, 3], 15167: [3, 2], 15175: [2, 1], 15213: [4, 3], 15217: [3, 2], 15225: [2, 1], 15264: [4, 3], 15267: [3, 2], 15276: [2, 1], 15314: [4, 3], 15318: [3, 2], 15326: [2, 1], 15364: [4, 3], 15368: [3, 2], 15376: [2, 1], 15415: [4, 3], 15418: [3, 2], 15426: [2, 1], 15465: [4, 3], 15469: [3, 2], 15477: [2, 1], 15515: [4, 3], 15519: [3, 2], 15527: [2, 1], 15566: [4, 3], 15569: [3, 2], 15577: [2, 1], 15616: [4, 3], 15620: [3, 2], 15627: [2, 1], 15667: [4, 3], 15670: [3, 2], 15677: [2, 1], 15717: [4, 3], 15720: [3, 2], 15728: [2, 1], 15767: [4, 3], 15771: [3, 2], 15778: [2, 1], 15818: [4, 3], 15821: [3, 2], 15828: [2, 1], 15868: [4, 3], 15871: [3, 2], 15878: [2, 1], 15918: [4, 3], 15922: [3, 2], 15928: [2, 1], 15969: [4, 3], 15972: [3, 2], 15979: [2, 1], 16019: [4, 3], 16022: [3, 2], 16029: [2, 1], 16069: [4, 3], 16072: [3, 2], 16079: [2, 1], 16120: [4, 3], 16123: [3, 2], 16129: [2, 1], 16170: [4, 3], 16173: [3, 2], 16179: [2, 1], 16221: [4, 3], 16223: [3, 2], 16230: [2, 1], 16271: [4, 3], 16274: [3, 2], 16280: [2, 1], 16321: [4, 3], 16324: [3, 2], 16330: [2, 1], 16372: [4, 3], 16374: [3, 2], 16380: [2, 1], 16422: [4, 3], 16425: [3, 2], 16431: [2, 1], 16473: [4, 3], 16475: [3, 2], 16481: [2, 1], 16523: [4, 3], 16525: [3, 2], 16531: [2, 1], 16573: [4, 3], 16576: [3, 2], 16581: [2, 1], 16624: [4, 3], 16626: [3, 2], 16632: [2, 1], 16674: [4, 3], 16677: [3, 2], 16682: [2, 1], 16725: [4, 3], 16727: [3, 2], 16732: [2, 1], 16775: [4, 3], 16777: [3, 2], 16782: [2, 1], 16825: [4, 3], 16828: [3, 2], 16833: [2, 1], 16876: [4, 3], 16878: [3, 2], 16883: [2, 1], 16926: [4, 3], 16928: [3, 2], 16933: [2, 1], 16976: [4, 3], 16979: [3, 2], 16984: [2, 1], 17027: [4, 3], 17029: [3, 2], 17034: [2, 1], 17077: [4, 3], 17079: [3, 2], 17084: [2, 1], 17128: [4, 3], 17130: [3, 2], 17135: [2, 1], 17178: [4, 3], 17180: [3, 2], 17185: [2, 1], 17228: [4, 3], 17231: [3, 2], 17235: [2, 1], 17279: [4, 3], 17281: [3, 2], 17286: [2, 1], 17329: [4, 3], 17331: [3, 2], 17336: [2, 1], 17380: [4, 3], 17382: [3, 2], 17386: [2, 1], 17430: [4, 3], 17432: [3, 2], 17437: [2, 1], 17481: [4, 3], 17483: [3, 2], 17487: [2, 1], 17511: [4, 3], 17515: [3, 2], 17524: [2, 1], 17562: [4, 3], 17566: [3, 2], 17574: [2, 1], 17612: [4, 3], 17616: [3, 2], 17625: [2, 1], 17663: [4, 3], 17667: [3, 2], 17675: [2, 1], 17713: [4, 3], 17717: [3, 2], 17725: [2, 1], 17763: [4, 3], 17767: [3, 2], 17776: [2, 1], 17814: [4, 3], 17818: [3, 2], 17826: [2, 1], 17864: [4, 3], 17868: [3, 2], 17876: [2, 1], 17915: [4, 3], 17918: [3, 2], 17926: [2, 1], 17965: [4, 3], 17969: [3, 2], 17977: [2, 1], 18015: [4, 3], 18019: [3, 2], 18027: [2, 1], 18066: [4, 3], 18069: [3, 2], 18077: [2, 1], 18116: [4, 3], 18120: [3, 2], 18127: [2, 1], 18166: [4, 3], 18170: [3, 2], 18177: [2, 1], 18217: [4, 3], 18220: [3, 2], 18228: [2, 1], 18267: [4, 3], 18270: [3, 2], 18278: [2, 1], 18317: [4, 3], 18321: [3, 2], 18328: [2, 1], 18368: [4, 3], 18371: [3, 2], 18378: [2, 1], 18418: [4, 3], 18421: [3, 2], 18428: [2, 1], 18468: [4, 3], 18472: [3, 2], 18478: [2, 1], 18519: [4, 3], 18522: [3, 2], 18529: [2, 1], 18569: [4, 3], 18572: [3, 2], 18579: [2, 1], 18620: [4, 3], 18623: [3, 2], 18629: [2, 1], 18670: [4, 3], 18673: [3, 2], 18679: [2, 1], 18720: [4, 3], 18723: [3, 2], 18729: [2, 1], 18771: [4, 3], 18774: [3, 2], 18780: [2, 1], 18821: [4, 3], 18824: [3, 2], 18830: [2, 1], 18871: [4, 3], 18874: [3, 2], 18880: [2, 1], 18922: [4, 3], 18924: [3, 2], 18930: [2, 1], 18972: [4, 3], 18975: [3, 2], 18981: [2, 1], 19023: [4, 3], 19025: [3, 2], 19031: [2, 1], 19073: [4, 3], 19076: [3, 2], 19081: [2, 1], 19123: [4, 3], 19126: [3, 2], 19131: [2, 1], 19174: [4, 3], 19176: [3, 2], 19182: [2, 1], 19224: [4, 3], 19227: [3, 2], 19232: [2, 1], 19275: [4, 3], 19277: [3, 2], 19282: [2, 1], 19325: [4, 3], 19327: [3, 2], 19332: [2, 1], 19375: [4, 3], 19378: [3, 2], 19383: [2, 1], 19426: [4, 3], 19428: [3, 2], 19433: [2, 1], 19476: [4, 3], 19478: [3, 2], 19483: [2, 1], 19526: [4, 3], 19529: [3, 2], 19534: [2, 1], 19577: [4, 3], 19579: [3, 2], 19584: [2, 1], 19627: [4, 3], 19629: [3, 2], 19634: [2, 1], 19678: [4, 3], 19680: [3, 2], 19685: [2, 1], 19728: [4, 3], 19730: [3, 2], 19735: [2, 1], 19778: [4, 3], 19781: [3, 2], 19785: [2, 1], 19829: [4, 3], 19831: [3, 2], 19836: [2, 1], 19879: [4, 3], 19881: [3, 2], 19886: [2, 1], 19930: [4, 3], 19932: [3, 2], 19936: [2, 1], 19980: [4, 3], 19982: [3, 2], 19987: [2, 1], 20011: [4, 3], 20015: [3, 2], 20024: [2, 1], 20062: [4, 3], 20066: [3, 2], 20075: [2, 1], 20112: [4, 3], 20116: [3, 2], 20125: [2, 1], 20162: [4, 3], 20166: [3, 2], 20175: [2, 1], 20213: [4, 3], 20217: [3, 2], 20225: [2, 1], 20263: [4, 3], 20267: [3, 2], 20276: [2, 1], 20314: [4, 3], 20318: [3, 2], 20326: [2, 1], 20364: [4, 3], 20368: [3, 2], 20376: [2, 1], 20414: [4, 3], 20418: [3, 2], 20426: [2, 1], 20465: [4, 3], 20468: [3, 2], 20477: [2, 1], 20515: [4, 3], 20519: [3, 2], 20527: [2, 1], 20565: [4, 3], 20569: [3, 2], 20577: [2, 1], 20616: [4, 3], 20619: [3, 2], 20627: [2, 1], 20666: [4, 3], 20670: [3, 2], 20677: [2, 1], 20716: [4, 3], 20720: [3, 2], 20727: [2, 1], 20767: [4, 3], 20770: [3, 2], 20778: [2, 1], 20817: [4, 3], 20820: [3, 2], 20828: [2, 1], 20867: [4, 3], 20871: [3, 2], 20878: [2, 1], 20918: [4, 3], 20921: [3, 2], 20928: [2, 1], 20968: [4, 3], 20971: [3, 2], 20978: [2, 1], 21018: [4, 3], 21022: [3, 2], 21028: [2, 1], 21069: [4, 3], 21072: [3, 2], 21079: [2, 1], 21119: [4, 3], 21122: [3, 2], 21129: [2, 1], 21170: [4, 3], 21173: [3, 2], 21179: [2, 1], 21220: [4, 3], 21223: [3, 2], 21229: [2, 1], 21270: [4, 3], 21273: [3, 2], 21279: [2, 1], 21321: [4, 3], 21324: [3, 2], 21330: [2, 1], 21371: [4, 3], 21374: [3, 2], 21380: [2, 1], 21422: [4, 3], 21424: [3, 2], 21430: [2, 1], 21472: [4, 3], 21475: [3, 2], 21480: [2, 1], 21522: [4, 3], 21525: [3, 2], 21531: [2, 1], 21573: [4, 3], 21575: [3, 2], 21581: [2, 1], 21623: [4, 3], 21626: [3, 2], 21631: [2, 1], 21673: [4, 3], 21676: [3, 2], 21681: [2, 1], 21724: [4, 3], 21726: [3, 2], 21732: [2, 1], 21774: [4, 3], 21777: [3, 2], 21782: [2, 1], 21825: [4, 3], 21827: [3, 2], 21832: [2, 1], 21875: [4, 3], 21877: [3, 2], 21882: [2, 1], 21925: [4, 3], 21928: [3, 2], 21933: [2, 1], 21976: [4, 3], 21978: [3, 2], 21983: [2, 1], 22026: [4, 3], 22028: [3, 2], 22033: [2, 1], 22077: [4, 3], 22079: [3, 2], 22084: [2, 1], 22127: [4, 3], 22129: [3, 2], 22134: [2, 1], 22177: [4, 3], 22179: [3, 2], 22184: [2, 1], 22228: [4, 3], 22230: [3, 2], 22235: [2, 1], 22278: [4, 3], 22280: [3, 2], 22285: [2, 1], 22329: [4, 3], 22331: [3, 2], 22335: [2, 1], 22379: [4, 3], 22381: [3, 2], 22386: [2, 1], 22429: [4, 3], 22431: [3, 2], 22436: [2, 1], 22480: [4, 3], 22482: [3, 2], 22486: [2, 1], 22511: [4, 3], 22515: [3, 2], 22524: [2, 1], 22561: [4, 3], 22566: [3, 2], 22575: [2, 1], 22612: [4, 3], 22616: [3, 2], 22625: [2, 1], 22662: [4, 3], 22666: [3, 2], 22675: [2, 1], 22713: [4, 3], 22717: [3, 2], 22726: [2, 1], 22763: [4, 3], 22767: [3, 2], 22776: [2, 1], 22813: [4, 3], 22817: [3, 2], 22826: [2, 1], 22864: [4, 3], 22868: [3, 2], 22876: [2, 1], 22914: [4, 3], 22918: [3, 2], 22926: [2, 1], 22964: [4, 3], 22968: [3, 2], 22977: [2, 1], 23015: [4, 3], 23019: [3, 2], 23027: [2, 1], 23065: [4, 3], 23069: [3, 2], 23077: [2, 1], 23115: [4, 3], 23119: [3, 2], 23127: [2, 1], 23166: [4, 3], 23169: [3, 2], 23177: [2, 1], 23216: [4, 3], 23220: [3, 2], 23227: [2, 1], 23266: [4, 3], 23270: [3, 2], 23278: [2, 1], 23317: [4, 3], 23320: [3, 2], 23328: [2, 1], 23367: [4, 3], 23371: [3, 2], 23378: [2, 1], 23417: [4, 3], 23421: [3, 2], 23428: [2, 1], 23468: [4, 3], 23471: [3, 2], 23478: [2, 1], 23518: [4, 3], 23521: [3, 2], 23528: [2, 1], 23568: [4, 3], 23572: [3, 2], 23578: [2, 1], 23619: [4, 3], 23622: [3, 2], 23629: [2, 1], 23669: [4, 3], 23672: [3, 2], 23679: [2, 1], 23720: [4, 3], 23723: [3, 2], 23729: [2, 1], 23770: [4, 3], 23773: [3, 2], 23779: [2, 1], 23820: [4, 3], 23823: [3, 2], 23829: [2, 1], 23871: [4, 3], 23874: [3, 2], 23880: [2, 1], 23921: [4, 3], 23924: [3, 2], 23930: [2, 1], 23972: [4, 3], 23974: [3, 2], 23980: [2, 1], 24022: [4, 3], 24025: [3, 2], 24030: [2, 1], 24072: [4, 3], 24075: [3, 2], 24080: [2, 1], 24123: [4, 3], 24125: [3, 2], 24131: [2, 1], 24173: [4, 3], 24176: [3, 2], 24181: [2, 1], 24224: [4, 3], 24226: [3, 2], 24231: [2, 1], 24274: [4, 3], 24276: [3, 2], 24281: [2, 1], 24324: [4, 3], 24327: [3, 2], 24332: [2, 1], 24375: [4, 3], 24377: [3, 2], 24382: [2, 1], 24425: [4, 3], 24427: [3, 2], 24432: [2, 1], 24475: [4, 3], 24478: [3, 2], 24483: [2, 1], 24526: [4, 3], 24528: [3, 2], 24533: [2, 1], 24576: [4, 3], 24578: [3, 2], 24583: [2, 1], 24627: [4, 3], 24629: [3, 2], 24634: [2, 1], 24677: [4, 3], 24679: [3, 2], 24684: [2, 1], 24727: [4, 3], 24729: [3, 2], 24734: [2, 1], 24778: [4, 3], 24780: [3, 2], 24784: [2, 1], 24828: [4, 3], 24830: [3, 2], 24835: [2, 1], 24879: [4, 3], 24881: [3, 2], 24885: [2, 1], 24929: [4, 3], 24931: [3, 2], 24936: [2, 1], 24979: [4, 3], 24981: [3, 2], 24986: [2, 1], 25011: [4, 3], 25015: [3, 2], 25025: [2, 1], 25061: [4, 3], 25066: [3, 2], 25075: [2, 1], 25112: [4, 3], 25116: [3, 2], 25125: [2, 1], 25162: [4, 3], 25166: [3, 2], 25175: [2, 1], 25212: [4, 3], 25217: [3, 2], 25226: [2, 1], 25263: [4, 3], 25267: [3, 2], 25276: [2, 1], 25313: [4, 3], 25317: [3, 2], 25326: [2, 1], 25363: [4, 3], 25368: [3, 2], 25376: [2, 1], 25414: [4, 3], 25418: [3, 2], 25426: [2, 1], 25464: [4, 3], 25468: [3, 2], 25477: [2, 1], 25514: [4, 3], 25518: [3, 2], 25527: [2, 1], 25565: [4, 3], 25569: [3, 2], 25577: [2, 1], 25615: [4, 3], 25619: [3, 2], 25627: [2, 1], 25665: [4, 3], 25669: [3, 2], 25677: [2, 1], 25716: [4, 3], 25719: [3, 2], 25727: [2, 1], 25766: [4, 3], 25770: [3, 2], 25777: [2, 1], 25816: [4, 3], 25820: [3, 2], 25828: [2, 1], 25867: [4, 3], 25870: [3, 2], 25878: [2, 1], 25917: [4, 3], 25921: [3, 2], 25928: [2, 1], 25967: [4, 3], 25971: [3, 2], 25978: [2, 1], 26018: [4, 3], 26021: [3, 2], 26028: [2, 1], 26068: [4, 3], 26071: [3, 2], 26078: [2, 1], 26119: [4, 3], 26122: [3, 2], 26128: [2, 1], 26169: [4, 3], 26172: [3, 2], 26179: [2, 1], 26219: [4, 3], 26222: [3, 2], 26229: [2, 1], 26270: [4, 3], 26273: [3, 2], 26279: [2, 1], 26320: [4, 3], 26323: [3, 2], 26329: [2, 1], 26370: [4, 3], 26373: [3, 2], 26379: [2, 1], 26421: [4, 3], 26424: [3, 2], 26430: [2, 1], 26471: [4, 3], 26474: [3, 2], 26480: [2, 1], 26522: [4, 3], 26524: [3, 2], 26530: [2, 1], 26572: [4, 3], 26575: [3, 2], 26580: [2, 1], 26622: [4, 3], 26625: [3, 2], 26630: [2, 1], 26673: [4, 3], 26675: [3, 2], 26681: [2, 1], 26723: [4, 3], 26726: [3, 2], 26731: [2, 1], 26774: [4, 3], 26776: [3, 2], 26781: [2, 1], 26824: [4, 3], 26826: [3, 2], 26831: [2, 1], 26874: [4, 3], 26877: [3, 2], 26882: [2, 1], 26925: [4, 3], 26927: [3, 2], 26932: [2, 1], 26975: [4, 3], 26977: [3, 2], 26982: [2, 1], 27025: [4, 3], 27028: [3, 2], 27033: [2, 1], 27076: [4, 3], 27078: [3, 2], 27083: [2, 1], 27126: [4, 3], 27128: [3, 2], 27133: [2, 1], 27177: [4, 3], 27179: [3, 2], 27183: [2, 1], 27227: [4, 3], 27229: [3, 2], 27234: [2, 1], 27277: [4, 3], 27279: [3, 2], 27284: [2, 1], 27328: [4, 3], 27330: [3, 2], 27334: [2, 1], 27378: [4, 3], 27380: [3, 2], 27385: [2, 1], 27429: [4, 3], 27431: [3, 2], 27435: [2, 1], 27479: [4, 3], 27481: [3, 2], 27486: [2, 1], 27511: [4, 3], 27515: [3, 2], 27525: [2, 1], 27561: [4, 3], 27566: [3, 2], 27575: [2, 1], 27611: [4, 3], 27616: [3, 2], 27625: [2, 1], 27662: [4, 3], 27666: [3, 2], 27676: [2, 1], 27712: [4, 3], 27717: [3, 2], 27726: [2, 1], 27763: [4, 3], 27767: [3, 2], 27776: [2, 1], 27813: [4, 3], 27817: [3, 2], 27826: [2, 1], 27863: [4, 3], 27868: [3, 2], 27876: [2, 1], 27914: [4, 3], 27918: [3, 2], 27927: [2, 1], 27964: [4, 3], 27968: [3, 2], 27977: [2, 1], 28014: [4, 3], 28018: [3, 2], 28027: [2, 1], 28064: [4, 3], 28069: [3, 2], 28077: [2, 1], 28115: [4, 3], 28119: [3, 2], 28127: [2, 1], 28165: [4, 3], 28169: [3, 2], 28177: [2, 1], 28215: [4, 3], 28219: [3, 2], 28227: [2, 1], 28266: [4, 3], 28270: [3, 2], 28277: [2, 1], 28316: [4, 3], 28320: [3, 2], 28327: [2, 1], 28366: [4, 3], 28370: [3, 2], 28378: [2, 1], 28417: [4, 3], 28420: [3, 2], 28428: [2, 1], 28467: [4, 3], 28471: [3, 2], 28478: [2, 1], 28517: [4, 3], 28521: [3, 2], 28528: [2, 1], 28568: [4, 3], 28571: [3, 2], 28578: [2, 1], 28618: [4, 3], 28621: [3, 2], 28628: [2, 1], 28669: [4, 3], 28672: [3, 2], 28678: [2, 1], 28719: [4, 3], 28722: [3, 2], 28729: [2, 1], 28769: [4, 3], 28772: [3, 2], 28779: [2, 1], 28820: [4, 3], 28823: [3, 2], 28829: [2, 1], 28870: [4, 3], 28873: [3, 2], 28879: [2, 1], 28921: [4, 3], 28923: [3, 2], 28929: [2, 1], 28971: [4, 3], 28974: [3, 2], 28980: [2, 1], 29021: [4, 3], 29024: [3, 2], 29030: [2, 1], 29072: [4, 3], 29074: [3, 2], 29080: [2, 1], 29122: [4, 3], 29125: [3, 2], 29130: [2, 1], 29173: [4, 3], 29175: [3, 2], 29180: [2, 1], 29223: [4, 3], 29225: [3, 2], 29231: [2, 1], 29273: [4, 3], 29276: [3, 2], 29281: [2, 1], 29324: [4, 3], 29326: [3, 2], 29331: [2, 1], 29374: [4, 3], 29376: [3, 2], 29381: [2, 1], 29424: [4, 3], 29427: [3, 2], 29432: [2, 1], 29475: [4, 3], 29477: [3, 2], 29482: [2, 1], 29525: [4, 3], 29527: [3, 2], 29532: [2, 1], 29576: [4, 3], 29578: [3, 2], 29583: [2, 1], 29626: [4, 3], 29628: [3, 2], 29633: [2, 1], 29676: [4, 3], 29678: [3, 2], 29683: [2, 1], 29727: [4, 3], 29729: [3, 2], 29733: [2, 1], 29777: [4, 3], 29779: [3, 2], 29784: [2, 1], 29827: [4, 3], 29829: [3, 2], 29834: [2, 1], 29878: [4, 3], 29880: [3, 2], 29884: [2, 1], 29928: [4, 3], 29930: [3, 2], 29935: [2, 1], 29979: [4, 3], 29981: [3, 2], 29985: [2, 1], 30011: [4, 3], 30015: [3, 2], 30025: [2, 1], 30061: [4, 3], 30066: [3, 2], 30075: [2, 1], 30111: [4, 3], 30116: [3, 2], 30126: [2, 1], 30162: [4, 3], 30166: [3, 2], 30176: [2, 1], 30212: [4, 3], 30217: [3, 2], 30226: [2, 1], 30262: [4, 3], 30267: [3, 2], 30276: [2, 1], 30313: [4, 3], 30317: [3, 2], 30326: [2, 1], 30363: [4, 3], 30367: [3, 2], 30377: [2, 1], 30413: [4, 3], 30418: [3, 2], 30427: [2, 1], 30464: [4, 3], 30468: [3, 2], 30477: [2, 1], 30514: [4, 3], 30518: [3, 2], 30527: [2, 1], 30564: [4, 3], 30568: [3, 2], 30577: [2, 1], 30615: [4, 3], 30619: [3, 2], 30627: [2, 1], 30665: [4, 3], 30669: [3, 2], 30677: [2, 1], 30715: [4, 3], 30719: [3, 2], 30727: [2, 1], 30765: [4, 3], 30769: [3, 2], 30777: [2, 1], 30816: [4, 3], 30820: [3, 2], 30827: [2, 1], 30866: [4, 3], 30870: [3, 2], 30877: [2, 1], 30916: [4, 3], 30920: [3, 2], 30928: [2, 1], 30967: [4, 3], 30970: [3, 2], 30978: [2, 1], 31017: [4, 3], 31021: [3, 2], 31028: [2, 1], 31067: [4, 3], 31071: [3, 2], 31078: [2, 1], 31118: [4, 3], 31121: [3, 2], 31128: [2, 1], 31168: [4, 3], 31172: [3, 2], 31178: [2, 1], 31219: [4, 3], 31222: [3, 2], 31228: [2, 1], 31269: [4, 3], 31272: [3, 2], 31279: [2, 1], 31319: [4, 3], 31322: [3, 2], 31329: [2, 1], 31370: [4, 3], 31373: [3, 2], 31379: [2, 1], 31420: [4, 3], 31423: [3, 2], 31429: [2, 1], 31471: [4, 3], 31473: [3, 2], 31479: [2, 1], 31521: [4, 3], 31524: [3, 2], 31530: [2, 1], 31571: [4, 3], 31574: [3, 2], 31580: [2, 1], 31622: [4, 3], 31624: [3, 2], 31630: [2, 1], 31672: [4, 3], 31675: [3, 2], 31680: [2, 1], 31723: [4, 3], 31725: [3, 2], 31730: [2, 1], 31773: [4, 3], 31775: [3, 2], 31781: [2, 1], 31823: [4, 3], 31826: [3, 2], 31831: [2, 1], 31874: [4, 3], 31876: [3, 2], 31881: [2, 1], 31924: [4, 3], 31926: [3, 2], 31931: [2, 1], 31975: [4, 3], 31977: [3, 2], 31982: [2, 1], 32025: [4, 3], 32027: [3, 2], 32032: [2, 1], 32075: [4, 3], 32077: [3, 2], 32082: [2, 1], 32126: [4, 3], 32128: [3, 2], 32132: [2, 1], 32176: [4, 3], 32178: [3, 2], 32183: [2, 1], 32226: [4, 3], 32228: [3, 2], 32233: [2, 1], 32277: [4, 3], 32279: [3, 2], 32283: [2, 1], 32327: [4, 3], 32329: [3, 2], 32334: [2, 1], 32377: [4, 3], 32379: [3, 2], 32384: [2, 1], 32428: [4, 3], 32430: [3, 2], 32434: [2, 1], 32478: [4, 3], 32480: [3, 2], 32485: [2, 1], 32510: [4, 3], 32515: [3, 2], 32525: [2, 1], 32561: [4, 3], 32566: [3, 2], 32575: [2, 1], 32611: [4, 3], 32616: [3, 2], 32626: [2, 1], 32662: [4, 3], 32666: [3, 2], 32676: [2, 1], 32712: [4, 3], 32717: [3, 2], 32726: [2, 1], 32762: [4, 3], 32767: [3, 2], 32776: [2, 1], 32813: [4, 3], 32817: [3, 2], 32826: [2, 1], 32863: [4, 3], 32867: [3, 2], 32877: [2, 1], 32913: [4, 3], 32918: [3, 2], 32927: [2, 1], 32963: [4, 3], 32968: [3, 2], 32977: [2, 1], 33014: [4, 3], 33018: [3, 2], 33027: [2, 1], 33064: [4, 3], 33068: [3, 2], 33077: [2, 1], 33114: [4, 3], 33118: [3, 2], 33127: [2, 1], 33165: [4, 3], 33169: [3, 2], 33177: [2, 1], 33215: [4, 3], 33219: [3, 2], 33227: [2, 1], 33265: [4, 3], 33269: [3, 2], 33277: [2, 1], 33315: [4, 3], 33319: [3, 2], 33327: [2, 1], 33366: [4, 3], 33370: [3, 2], 33377: [2, 1], 33416: [4, 3], 33420: [3, 2], 33427: [2, 1], 33466: [4, 3], 33470: [3, 2], 33478: [2, 1], 33517: [4, 3], 33520: [3, 2], 33528: [2, 1], 33567: [4, 3], 33571: [3, 2], 33578: [2, 1], 33618: [4, 3], 33621: [3, 2], 33628: [2, 1], 33668: [4, 3], 33671: [3, 2], 33678: [2, 1], 33718: [4, 3], 33722: [3, 2], 33728: [2, 1], 33769: [4, 3], 33772: [3, 2], 33778: [2, 1], 33819: [4, 3], 33822: [3, 2], 33829: [2, 1], 33870: [4, 3], 33873: [3, 2], 33879: [2, 1], 33920: [4, 3], 33923: [3, 2], 33929: [2, 1], 33970: [4, 3], 33973: [3, 2], 33979: [2, 1], 34021: [4, 3], 34024: [3, 2], 34029: [2, 1], 34071: [4, 3], 34074: [3, 2], 34079: [2, 1], 34122: [4, 3], 34124: [3, 2], 34130: [2, 1], 34172: [4, 3], 34174: [3, 2], 34180: [2, 1], 34222: [4, 3], 34225: [3, 2], 34230: [2, 1], 34273: [4, 3], 34275: [3, 2], 34280: [2, 1], 34323: [4, 3], 34325: [3, 2], 34331: [2, 1], 34373: [4, 3], 34376: [3, 2], 34381: [2, 1], 34424: [4, 3], 34426: [3, 2], 34431: [2, 1], 34474: [4, 3], 34476: [3, 2], 34481: [2, 1], 34525: [4, 3], 34527: [3, 2], 34532: [2, 1], 34575: [4, 3], 34577: [3, 2], 34582: [2, 1], 34625: [4, 3], 34627: [3, 2], 34632: [2, 1], 34676: [4, 3], 34678: [3, 2], 34682: [2, 1], 34726: [4, 3], 34728: [3, 2], 34733: [2, 1], 34776: [4, 3], 34778: [3, 2], 34783: [2, 1], 34827: [4, 3], 34829: [3, 2], 34833: [2, 1], 34877: [4, 3], 34879: [3, 2], 34884: [2, 1], 34928: [4, 3], 34929: [3, 2], 34934: [2, 1], 34978: [4, 3], 34980: [3, 2], 34984: [2, 1], 35010: [4, 3], 35015: [3, 2], 35025: [2, 1], 35061: [4, 3], 35066: [3, 2], 35076: [2, 1], 35111: [4, 3], 35116: [3, 2], 35126: [2, 1], 35162: [4, 3], 35166: [3, 2], 35176: [2, 1], 35212: [4, 3], 35217: [3, 2], 35226: [2, 1], 35262: [4, 3], 35267: [3, 2], 35277: [2, 1], 35313: [4, 3], 35317: [3, 2], 35327: [2, 1], 35363: [4, 3], 35367: [3, 2], 35377: [2, 1], 35413: [4, 3], 35418: [3, 2], 35427: [2, 1], 35463: [4, 3], 35468: [3, 2], 35477: [2, 1], 35514: [4, 3], 35518: [3, 2], 35527: [2, 1], 35564: [4, 3], 35568: [3, 2], 35577: [2, 1], 35614: [4, 3], 35618: [3, 2], 35627: [2, 1], 35664: [4, 3], 35669: [3, 2], 35677: [2, 1], 35715: [4, 3], 35719: [3, 2], 35727: [2, 1], 35765: [4, 3], 35769: [3, 2], 35777: [2, 1], 35815: [4, 3], 35819: [3, 2], 35827: [2, 1], 35865: [4, 3], 35869: [3, 2], 35877: [2, 1], 35916: [4, 3], 35920: [3, 2], 35927: [2, 1], 35966: [4, 3], 35970: [3, 2], 35977: [2, 1], 36016: [4, 3], 36020: [3, 2], 36028: [2, 1], 36067: [4, 3], 36070: [3, 2], 36078: [2, 1], 36117: [4, 3], 36121: [3, 2], 36128: [2, 1], 36168: [4, 3], 36171: [3, 2], 36178: [2, 1], 36218: [4, 3], 36221: [3, 2], 36228: [2, 1], 36268: [4, 3], 36272: [3, 2], 36278: [2, 1], 36319: [4, 3], 36322: [3, 2], 36328: [2, 1], 36369: [4, 3], 36372: [3, 2], 36378: [2, 1], 36420: [4, 3], 36423: [3, 2], 36429: [2, 1], 36470: [4, 3], 36473: [3, 2], 36479: [2, 1], 36521: [4, 3], 36523: [3, 2], 36529: [2, 1], 36571: [4, 3], 36574: [3, 2], 36579: [2, 1], 36621: [4, 3], 36624: [3, 2], 36629: [2, 1], 36672: [4, 3], 36674: [3, 2], 36680: [2, 1], 36722: [4, 3], 36725: [3, 2], 36730: [2, 1], 36772: [4, 3], 36775: [3, 2], 36780: [2, 1], 36823: [4, 3], 36825: [3, 2], 36830: [2, 1], 36873: [4, 3], 36876: [3, 2], 36881: [2, 1], 36924: [4, 3], 36926: [3, 2], 36931: [2, 1], 36974: [4, 3], 36976: [3, 2], 36981: [2, 1], 37024: [4, 3], 37026: [3, 2], 37031: [2, 1], 37075: [4, 3], 37077: [3, 2], 37082: [2, 1], 37125: [4, 3], 37127: [3, 2], 37132: [2, 1], 37175: [4, 3], 37177: [3, 2], 37182: [2, 1], 37226: [4, 3], 37228: [3, 2], 37232: [2, 1], 37276: [4, 3], 37278: [3, 2], 37283: [2, 1], 37326: [4, 3], 37328: [3, 2], 37333: [2, 1], 37377: [4, 3], 37379: [3, 2], 37383: [2, 1], 37427: [4, 3], 37429: [3, 2], 37434: [2, 1], 37478: [4, 3], 37479: [3, 2], 37484: [2, 1], 37510: [4, 3], 37515: [3, 2], 37526: [2, 1], 37561: [4, 3], 37566: [3, 2], 37576: [2, 1], 37611: [4, 3], 37616: [3, 2], 37626: [2, 1], 37662: [4, 3], 37667: [3, 2], 37676: [2, 1], 37712: [4, 3], 37717: [3, 2], 37727: [2, 1], 37762: [4, 3], 37767: [3, 2], 37777: [2, 1], 37812: [4, 3], 37817: [3, 2], 37827: [2, 1], 37863: [4, 3], 37867: [3, 2], 37877: [2, 1], 37913: [4, 3], 37918: [3, 2], 37927: [2, 1], 37963: [4, 3], 37968: [3, 2], 37977: [2, 1], 38013: [4, 3], 38018: [3, 2], 38027: [2, 1], 38064: [4, 3], 38068: [3, 2], 38077: [2, 1], 38114: [4, 3], 38118: [3, 2], 38127: [2, 1], 38164: [4, 3], 38168: [3, 2], 38177: [2, 1], 38214: [4, 3], 38219: [3, 2], 38227: [2, 1], 38264: [4, 3], 38269: [3, 2], 38277: [2, 1], 38315: [4, 3], 38319: [3, 2], 38327: [2, 1], 38365: [4, 3], 38369: [3, 2], 38377: [2, 1], 38415: [4, 3], 38419: [3, 2], 38427: [2, 1], 38466: [4, 3], 38470: [3, 2], 38477: [2, 1], 38516: [4, 3], 38520: [3, 2], 38527: [2, 1], 38566: [4, 3], 38570: [3, 2], 38578: [2, 1], 38617: [4, 3], 38620: [3, 2], 38628: [2, 1], 38667: [4, 3], 38671: [3, 2], 38678: [2, 1], 38718: [4, 3], 38721: [3, 2], 38728: [2, 1], 38768: [4, 3], 38771: [3, 2], 38778: [2, 1], 38819: [4, 3], 38822: [3, 2], 38828: [2, 1], 38869: [4, 3], 38872: [3, 2], 38878: [2, 1], 38919: [4, 3], 38922: [3, 2], 38928: [2, 1], 38970: [4, 3], 38973: [3, 2], 38979: [2, 1], 39020: [4, 3], 39023: [3, 2], 39029: [2, 1], 39071: [4, 3], 39073: [3, 2], 39079: [2, 1], 39121: [4, 3], 39124: [3, 2], 39129: [2, 1], 39171: [4, 3], 39174: [3, 2], 39179: [2, 1], 39222: [4, 3], 39224: [3, 2], 39230: [2, 1], 39272: [4, 3], 39275: [3, 2], 39280: [2, 1], 39323: [4, 3], 39325: [3, 2], 39330: [2, 1], 39373: [4, 3], 39375: [3, 2], 39380: [2, 1], 39423: [4, 3], 39426: [3, 2], 39431: [2, 1], 39474: [4, 3], 39476: [3, 2], 39481: [2, 1], 39524: [4, 3], 39526: [3, 2], 39531: [2, 1], 39574: [4, 3], 39576: [3, 2], 39581: [2, 1], 39625: [4, 3], 39627: [3, 2], 39632: [2, 1], 39675: [4, 3], 39677: [3, 2], 39682: [2, 1], 39725: [4, 3], 39727: [3, 2], 39732: [2, 1], 39776: [4, 3], 39778: [3, 2], 39782: [2, 1], 39826: [4, 3], 39828: [3, 2], 39833: [2, 1], 39876: [4, 3], 39878: [3, 2], 39883: [2, 1], 39927: [4, 3], 39929: [3, 2], 39933: [2, 1], 39977: [4, 3], 39979: [3, 2], 39984: [2, 1], 40010: [4, 3], 40016: [3, 2], 40026: [2, 1], 40061: [4, 3], 40066: [3, 2], 40076: [2, 1], 40111: [4, 3], 40116: [3, 2], 40126: [2, 1], 40162: [4, 3], 40167: [3, 2], 40177: [2, 1], 40212: [4, 3], 40217: [3, 2], 40227: [2, 1], 40262: [4, 3], 40267: [3, 2], 40277: [2, 1], 40312: [4, 3], 40317: [3, 2], 40327: [2, 1], 40363: [4, 3], 40368: [3, 2], 40377: [2, 1], 40413: [4, 3], 40418: [3, 2], 40427: [2, 1], 40463: [4, 3], 40468: [3, 2], 40477: [2, 1], 40513: [4, 3], 40518: [3, 2], 40527: [2, 1], 40563: [4, 3], 40568: [3, 2], 40577: [2, 1], 40614: [4, 3], 40618: [3, 2], 40627: [2, 1], 40664: [4, 3], 40668: [3, 2], 40677: [2, 1], 40714: [4, 3], 40718: [3, 2], 40727: [2, 1], 40764: [4, 3], 40769: [3, 2], 40777: [2, 1], 40814: [4, 3], 40819: [3, 2], 40827: [2, 1], 40865: [4, 3], 40869: [3, 2], 40877: [2, 1], 40915: [4, 3], 40919: [3, 2], 40927: [2, 1], 40965: [4, 3], 40969: [3, 2], 40977: [2, 1], 41016: [4, 3], 41020: [3, 2], 41027: [2, 1], 41066: [4, 3], 41070: [3, 2], 41077: [2, 1], 41116: [4, 3], 41120: [3, 2], 41127: [2, 1], 41167: [4, 3], 41170: [3, 2], 41178: [2, 1], 41217: [4, 3], 41221: [3, 2], 41228: [2, 1], 41268: [4, 3], 41271: [3, 2], 41278: [2, 1], 41318: [4, 3], 41321: [3, 2], 41328: [2, 1], 41369: [4, 3], 41372: [3, 2], 41378: [2, 1], 41419: [4, 3], 41422: [3, 2], 41428: [2, 1], 41470: [4, 3], 41473: [3, 2], 41478: [2, 1], 41520: [4, 3], 41523: [3, 2], 41529: [2, 1], 41570: [4, 3], 41573: [3, 2], 41579: [2, 1], 41621: [4, 3], 41623: [3, 2], 41629: [2, 1], 41671: [4, 3], 41674: [3, 2], 41679: [2, 1], 41722: [4, 3], 41724: [3, 2], 41729: [2, 1], 41772: [4, 3], 41774: [3, 2], 41780: [2, 1], 41822: [4, 3], 41825: [3, 2], 41830: [2, 1], 41873: [4, 3], 41875: [3, 2], 41880: [2, 1], 41923: [4, 3], 41925: [3, 2], 41930: [2, 1], 41973: [4, 3], 41976: [3, 2], 41981: [2, 1], 42024: [4, 3], 42026: [3, 2], 42031: [2, 1], 42074: [4, 3], 42076: [3, 2], 42081: [2, 1], 42124: [4, 3], 42127: [3, 2], 42131: [2, 1], 42175: [4, 3], 42177: [3, 2], 42182: [2, 1], 42225: [4, 3], 42227: [3, 2], 42232: [2, 1], 42275: [4, 3], 42277: [3, 2], 42282: [2, 1], 42326: [4, 3], 42328: [3, 2], 42332: [2, 1], 42376: [4, 3], 42378: [3, 2], 42383: [2, 1], 42427: [4, 3], 42428: [3, 2], 42433: [2, 1], 42477: [4, 3], 42479: [3, 2], 42483: [2, 1], 42510: [4, 3], 42516: [3, 2], 42526: [2, 1], 42561: [4, 3], 42566: [3, 2], 42576: [2, 1], 42611: [4, 3], 42617: [3, 2], 42627: [2, 1], 42662: [4, 3], 42667: [3, 2], 42677: [2, 1], 42712: [4, 3], 42717: [3, 2], 42727: [2, 1], 42762: [4, 3], 42767: [3, 2], 42777: [2, 1], 42812: [4, 3], 42818: [3, 2], 42827: [2, 1], 42863: [4, 3], 42868: [3, 2], 42877: [2, 1], 42913: [4, 3], 42918: [3, 2], 42927: [2, 1], 42963: [4, 3], 42968: [3, 2], 42977: [2, 1], 43013: [4, 3], 43018: [3, 2], 43027: [2, 1], 43063: [4, 3], 43068: [3, 2], 43077: [2, 1], 43113: [4, 3], 43118: [3, 2], 43127: [2, 1], 43164: [4, 3], 43168: [3, 2], 43177: [2, 1], 43214: [4, 3], 43218: [3, 2], 43227: [2, 1], 43264: [4, 3], 43268: [3, 2], 43277: [2, 1], 43314: [4, 3], 43318: [3, 2], 43327: [2, 1], 43364: [4, 3], 43369: [3, 2], 43377: [2, 1], 43415: [4, 3], 43419: [3, 2], 43427: [2, 1], 43465: [4, 3], 43469: [3, 2], 43477: [2, 1], 43515: [4, 3], 43519: [3, 2], 43527: [2, 1], 43566: [4, 3], 43570: [3, 2], 43577: [2, 1], 43616: [4, 3], 43620: [3, 2], 43627: [2, 1], 43667: [4, 3], 43670: [3, 2], 43677: [2, 1], 43717: [4, 3], 43721: [3, 2], 43728: [2, 1], 43768: [4, 3], 43771: [3, 2], 43778: [2, 1], 43818: [4, 3], 43821: [3, 2], 43828: [2, 1], 43868: [4, 3], 43872: [3, 2], 43878: [2, 1], 43919: [4, 3], 43922: [3, 2], 43928: [2, 1], 43969: [4, 3], 43972: [3, 2], 43978: [2, 1], 44020: [4, 3], 44023: [3, 2], 44028: [2, 1], 44070: [4, 3], 44073: [3, 2], 44079: [2, 1], 44121: [4, 3], 44123: [3, 2], 44129: [2, 1], 44171: [4, 3], 44174: [3, 2], 44179: [2, 1], 44221: [4, 3], 44224: [3, 2], 44229: [2, 1], 44272: [4, 3], 44274: [3, 2], 44279: [2, 1], 44322: [4, 3], 44324: [3, 2], 44330: [2, 1], 44373: [4, 3], 44375: [3, 2], 44380: [2, 1], 44423: [4, 3], 44425: [3, 2], 44430: [2, 1], 44473: [4, 3], 44475: [3, 2], 44480: [2, 1], 44524: [4, 3], 44526: [3, 2], 44530: [2, 1], 44574: [4, 3], 44576: [3, 2], 44581: [2, 1], 44624: [4, 3], 44626: [3, 2], 44631: [2, 1], 44675: [4, 3], 44677: [3, 2], 44681: [2, 1], 44725: [4, 3], 44727: [3, 2], 44731: [2, 1], 44775: [4, 3], 44777: [3, 2], 44782: [2, 1], 44826: [4, 3], 44828: [3, 2], 44832: [2, 1], 44876: [4, 3], 44878: [3, 2], 44882: [2, 1], 44926: [4, 3], 44928: [3, 2], 44933: [2, 1], 44977: [4, 3], 44979: [3, 2], 44983: [2, 1], 45010: [4, 3], 45016: [3, 2], 45026: [2, 1], 45061: [4, 3], 45066: [3, 2], 45077: [2, 1], 45111: [4, 3], 45117: [3, 2], 45127: [2, 1], 45162: [4, 3], 45167: [3, 2], 45177: [2, 1], 45212: [4, 3], 45217: [3, 2], 45227: [2, 1], 45262: [4, 3], 45268: [3, 2], 45277: [2, 1], 45312: [4, 3], 45318: [3, 2], 45327: [2, 1], 45363: [4, 3], 45368: [3, 2], 45378: [2, 1], 45413: [4, 3], 45418: [3, 2], 45428: [2, 1], 45463: [4, 3], 45468: [3, 2], 45477: [2, 1], 45513: [4, 3], 45518: [3, 2], 45527: [2, 1], 45563: [4, 3], 45568: [3, 2], 45577: [2, 1], 45613: [4, 3], 45618: [3, 2], 45627: [2, 1], 45663: [4, 3], 45668: [3, 2], 45677: [2, 1], 45713: [4, 3], 45718: [3, 2], 45727: [2, 1], 45764: [4, 3], 45768: [3, 2], 45777: [2, 1], 45814: [4, 3], 45818: [3, 2], 45827: [2, 1], 45864: [4, 3], 45868: [3, 2], 45877: [2, 1], 45914: [4, 3], 45919: [3, 2], 45927: [2, 1], 45965: [4, 3], 45969: [3, 2], 45977: [2, 1], 46015: [4, 3], 46019: [3, 2], 46027: [2, 1], 46065: [4, 3], 46069: [3, 2], 46077: [2, 1], 46116: [4, 3], 46120: [3, 2], 46127: [2, 1], 46166: [4, 3], 46170: [3, 2], 46177: [2, 1], 46217: [4, 3], 46220: [3, 2], 46227: [2, 1], 46267: [4, 3], 46271: [3, 2], 46277: [2, 1], 46318: [4, 3], 46321: [3, 2], 46328: [2, 1], 46368: [4, 3], 46371: [3, 2], 46378: [2, 1], 46419: [4, 3], 46422: [3, 2], 46428: [2, 1], 46469: [4, 3], 46472: [3, 2], 46478: [2, 1], 46520: [4, 3], 46522: [3, 2], 46528: [2, 1], 46570: [4, 3], 46573: [3, 2], 46578: [2, 1], 46620: [4, 3], 46623: [3, 2], 46629: [2, 1], 46671: [4, 3], 46673: [3, 2], 46679: [2, 1], 46721: [4, 3], 46724: [3, 2], 46729: [2, 1], 46772: [4, 3], 46774: [3, 2], 46779: [2, 1], 46822: [4, 3], 46824: [3, 2], 46829: [2, 1], 46872: [4, 3], 46875: [3, 2], 46880: [2, 1], 46923: [4, 3], 46925: [3, 2], 46930: [2, 1], 46973: [4, 3], 46975: [3, 2], 46980: [2, 1], 47023: [4, 3], 47025: [3, 2], 47030: [2, 1], 47074: [4, 3], 47076: [3, 2], 47080: [2, 1], 47124: [4, 3], 47126: [3, 2], 47131: [2, 1], 47174: [4, 3], 47176: [3, 2], 47181: [2, 1], 47225: [4, 3], 47227: [3, 2], 47231: [2, 1], 47275: [4, 3], 47277: [3, 2], 47281: [2, 1], 47325: [4, 3], 47327: [3, 2], 47332: [2, 1], 47376: [4, 3], 47378: [3, 2], 47382: [2, 1], 47426: [4, 3], 47428: [3, 2], 47432: [2, 1], 47476: [4, 3], 47478: [3, 2], 47483: [2, 1], 47511: [4, 3], 47516: [3, 2], 47527: [2, 1], 47561: [4, 3], 47567: [3, 2], 47577: [2, 1], 47612: [4, 3], 47617: [3, 2], 47627: [2, 1], 47662: [4, 3], 47667: [3, 2], 47677: [2, 1], 47712: [4, 3], 47718: [3, 2], 47728: [2, 1], 47762: [4, 3], 47768: [3, 2], 47778: [2, 1], 47813: [4, 3], 47818: [3, 2], 47828: [2, 1], 47863: [4, 3], 47868: [3, 2], 47878: [2, 1], 47913: [4, 3], 47918: [3, 2], 47928: [2, 1], 47963: [4, 3], 47968: [3, 2], 47978: [2, 1], 48013: [4, 3], 48018: [3, 2], 48028: [2, 1], 48063: [4, 3], 48068: [3, 2], 48078: [2, 1], 48113: [4, 3], 48118: [3, 2], 48127: [2, 1], 48163: [4, 3], 48168: [3, 2], 48177: [2, 1], 48213: [4, 3], 48218: [3, 2], 48227: [2, 1], 48263: [4, 3], 48268: [3, 2], 48277: [2, 1], 48314: [4, 3], 48318: [3, 2], 48327: [2, 1], 48364: [4, 3], 48368: [3, 2], 48377: [2, 1], 48414: [4, 3], 48418: [3, 2], 48427: [2, 1], 48464: [4, 3], 48469: [3, 2], 48477: [2, 1], 48515: [4, 3], 48519: [3, 2], 48527: [2, 1], 48565: [4, 3], 48569: [3, 2], 48577: [2, 1], 48615: [4, 3], 48619: [3, 2], 48627: [2, 1], 48666: [4, 3], 48670: [3, 2], 48677: [2, 1], 48716: [4, 3], 48720: [3, 2], 48727: [2, 1], 48767: [4, 3], 48771: [3, 2], 48777: [2, 1], 48817: [4, 3], 48821: [3, 2], 48827: [2, 1], 48868: [4, 3], 48871: [3, 2], 48878: [2, 1], 48918: [4, 3], 48922: [3, 2], 48928: [2, 1], 48969: [4, 3], 48972: [3, 2], 48978: [2, 1], 49019: [4, 3], 49022: [3, 2], 49028: [2, 1], 49070: [4, 3], 49073: [3, 2], 49078: [2, 1], 49120: [4, 3], 49123: [3, 2], 49128: [2, 1], 49171: [4, 3], 49173: [3, 2], 49179: [2, 1], 49221: [4, 3], 49224: [3, 2], 49229: [2, 1], 49271: [4, 3], 49274: [3, 2], 49279: [2, 1], 49322: [4, 3], 49324: [3, 2], 49329: [2, 1], 49372: [4, 3], 49374: [3, 2], 49379: [2, 1], 49422: [4, 3], 49425: [3, 2], 49430: [2, 1], 49473: [4, 3], 49475: [3, 2], 49480: [2, 1], 49523: [4, 3], 49525: [3, 2], 49530: [2, 1], 49573: [4, 3], 49575: [3, 2], 49580: [2, 1], 49624: [4, 3], 49626: [3, 2], 49630: [2, 1], 49674: [4, 3], 49676: [3, 2], 49681: [2, 1], 49724: [4, 3], 49726: [3, 2], 49731: [2, 1], 49775: [4, 3], 49777: [3, 2], 49781: [2, 1], 49825: [4, 3], 49827: [3, 2], 49831: [2, 1], 49875: [4, 3], 49877: [3, 2], 49882: [2, 1], 49926: [4, 3], 49928: [3, 2], 49932: [2, 1], 49976: [4, 3], 49978: [3, 2], 49982: [2, 1], 50011: [4, 3], 50017: [3, 2], 50027: [2, 1], 50061: [4, 3], 50067: [3, 2], 50077: [2, 1], 50112: [4, 3], 50118: [3, 2], 50128: [2, 1], 50162: [4, 3], 50168: [3, 2], 50178: [2, 1], 50212: [4, 3], 50218: [3, 2], 50228: [2, 1], 50263: [4, 3], 50268: [3, 2], 50278: [2, 1], 50313: [4, 3], 50318: [3, 2], 50328: [2, 1], 50363: [4, 3], 50368: [3, 2], 50378: [2, 1], 50413: [4, 3], 50418: [3, 2], 50428: [2, 1], 50463: [4, 3], 50468: [3, 2], 50478: [2, 1], 50513: [4, 3], 50518: [3, 2], 50528: [2, 1], 50563: [4, 3], 50568: [3, 2], 50578: [2, 1], 50613: [4, 3], 50618: [3, 2], 50628: [2, 1], 50663: [4, 3], 50668: [3, 2], 50677: [2, 1], 50713: [4, 3], 50718: [3, 2], 50727: [2, 1], 50763: [4, 3], 50768: [3, 2], 50777: [2, 1], 50813: [4, 3], 50818: [3, 2], 50827: [2, 1], 50863: [4, 3], 50868: [3, 2], 50877: [2, 1], 50914: [4, 3], 50918: [3, 2], 50927: [2, 1], 50964: [4, 3], 50968: [3, 2], 50977: [2, 1], 51014: [4, 3], 51019: [3, 2], 51027: [2, 1], 51065: [4, 3], 51069: [3, 2], 51077: [2, 1], 51115: [4, 3], 51119: [3, 2], 51127: [2, 1], 51166: [4, 3], 51170: [3, 2], 51177: [2, 1], 51216: [4, 3], 51220: [3, 2], 51227: [2, 1], 51267: [4, 3], 51270: [3, 2], 51277: [2, 1], 51317: [4, 3], 51321: [3, 2], 51327: [2, 1], 51368: [4, 3], 51371: [3, 2], 51377: [2, 1], 51418: [4, 3], 51421: [3, 2], 51428: [2, 1], 51469: [4, 3], 51472: [3, 2], 51478: [2, 1], 51519: [4, 3], 51522: [3, 2], 51528: [2, 1], 51570: [4, 3], 51572: [3, 2], 51578: [2, 1], 51620: [4, 3], 51623: [3, 2], 51628: [2, 1], 51670: [4, 3], 51673: [3, 2], 51678: [2, 1], 51721: [4, 3], 51723: [3, 2], 51729: [2, 1], 51771: [4, 3], 51774: [3, 2], 51779: [2, 1], 51822: [4, 3], 51824: [3, 2], 51829: [2, 1], 51872: [4, 3], 51874: [3, 2], 51879: [2, 1], 51922: [4, 3], 51924: [3, 2], 51929: [2, 1], 51973: [4, 3], 51975: [3, 2], 51980: [2, 1], 52023: [4, 3], 52025: [3, 2], 52030: [2, 1], 52073: [4, 3], 52075: [3, 2], 52080: [2, 1], 52123: [4, 3], 52126: [3, 2], 52130: [2, 1], 52174: [4, 3], 52176: [3, 2], 52180: [2, 1], 52224: [4, 3], 52226: [3, 2], 52231: [2, 1], 52274: [4, 3], 52276: [3, 2], 52281: [2, 1], 52325: [4, 3], 52327: [3, 2], 52331: [2, 1], 52375: [4, 3], 52377: [3, 2], 52381: [2, 1], 52425: [4, 3], 52427: [3, 2], 52432: [2, 1], 52476: [4, 3], 52478: [3, 2], 52482: [2, 1], 52511: [4, 3], 52517: [3, 2], 52527: [2, 1], 52562: [4, 3], 52568: [3, 2], 52578: [2, 1], 52612: [4, 3], 52618: [3, 2], 52628: [2, 1], 52662: [4, 3], 52668: [3, 2], 52678: [2, 1], 52713: [4, 3], 52719: [3, 2], 52728: [2, 1], 52763: [4, 3], 52769: [3, 2], 52778: [2, 1], 52813: [4, 3], 52819: [3, 2], 52828: [2, 1], 52863: [4, 3], 52869: [3, 2], 52878: [2, 1], 52913: [4, 3], 52919: [3, 2], 52928: [2, 1], 52963: [4, 3], 52968: [3, 2], 52978: [2, 1], 53013: [4, 3], 53018: [3, 2], 53028: [2, 1], 53063: [4, 3], 53068: [3, 2], 53078: [2, 1], 53113: [4, 3], 53118: [3, 2], 53128: [2, 1], 53163: [4, 3], 53168: [3, 2], 53177: [2, 1], 53213: [4, 3], 53218: [3, 2], 53227: [2, 1], 53263: [4, 3], 53268: [3, 2], 53277: [2, 1], 53313: [4, 3], 53318: [3, 2], 53327: [2, 1], 53363: [4, 3], 53368: [3, 2], 53377: [2, 1], 53413: [4, 3], 53418: [3, 2], 53427: [2, 1], 53464: [4, 3], 53468: [3, 2], 53477: [2, 1], 53514: [4, 3], 53518: [3, 2], 53527: [2, 1], 53564: [4, 3], 53569: [3, 2], 53577: [2, 1], 53615: [4, 3], 53619: [3, 2], 53627: [2, 1], 53665: [4, 3], 53669: [3, 2], 53677: [2, 1], 53716: [4, 3], 53720: [3, 2], 53727: [2, 1], 53766: [4, 3], 53770: [3, 2], 53777: [2, 1], 53817: [4, 3], 53821: [3, 2], 53827: [2, 1], 53867: [4, 3], 53871: [3, 2], 53877: [2, 1], 53918: [4, 3], 53921: [3, 2], 53927: [2, 1], 53969: [4, 3], 53972: [3, 2], 53978: [2, 1], 54019: [4, 3], 54022: [3, 2], 54028: [2, 1], 54069: [4, 3], 54072: [3, 2], 54078: [2, 1], 54120: [4, 3], 54123: [3, 2], 54128: [2, 1], 54170: [4, 3], 54173: [3, 2], 54178: [2, 1], 54221: [4, 3], 54223: [3, 2], 54228: [2, 1], 54271: [4, 3], 54273: [3, 2], 54279: [2, 1], 54321: [4, 3], 54324: [3, 2], 54329: [2, 1], 54372: [4, 3], 54374: [3, 2], 54379: [2, 1], 54422: [4, 3], 54424: [3, 2], 54429: [2, 1], 54472: [4, 3], 54475: [3, 2], 54479: [2, 1], 54523: [4, 3], 54525: [3, 2], 54529: [2, 1], 54573: [4, 3], 54575: [3, 2], 54580: [2, 1], 54623: [4, 3], 54625: [3, 2], 54630: [2, 1], 54674: [4, 3], 54676: [3, 2], 54680: [2, 1], 54724: [4, 3], 54726: [3, 2], 54730: [2, 1], 54774: [4, 3], 54776: [3, 2], 54781: [2, 1], 54824: [4, 3], 54826: [3, 2], 54831: [2, 1], 54875: [4, 3], 54877: [3, 2], 54881: [2, 1], 54925: [4, 3], 54927: [3, 2], 54931: [2, 1], 54975: [4, 3], 54977: [3, 2], 54982: [2, 1], 55011: [4, 3], 55018: [3, 2], 55028: [2, 1], 55062: [4, 3], 55068: [3, 2], 55078: [2, 1], 55112: [4, 3], 55119: [3, 2], 55128: [2, 1], 55163: [4, 3], 55169: [3, 2], 55178: [2, 1], 55213: [4, 3], 55219: [3, 2], 55228: [2, 1], 55263: [4, 3], 55269: [3, 2], 55278: [2, 1], 55313: [4, 3], 55319: [3, 2], 55328: [2, 1], 55363: [4, 3], 55369: [3, 2], 55378: [2, 1], 55413: [4, 3], 55419: [3, 2], 55428: [2, 1], 55463: [4, 3], 55469: [3, 2], 55478: [2, 1], 55513: [4, 3], 55518: [3, 2], 55528: [2, 1], 55563: [4, 3], 55568: [3, 2], 55578: [2, 1], 55613: [4, 3], 55618: [3, 2], 55628: [2, 1], 55663: [4, 3], 55668: [3, 2], 55678: [2, 1], 55713: [4, 3], 55718: [3, 2], 55727: [2, 1], 55763: [4, 3], 55767: [3, 2], 55777: [2, 1], 55813: [4, 3], 55817: [3, 2], 55827: [2, 1], 55863: [4, 3], 55867: [3, 2], 55877: [2, 1], 55913: [4, 3], 55918: [3, 2], 55927: [2, 1], 55963: [4, 3], 55968: [3, 2], 55977: [2, 1], 56014: [4, 3], 56018: [3, 2], 56027: [2, 1], 56064: [4, 3], 56068: [3, 2], 56077: [2, 1], 56114: [4, 3], 56119: [3, 2], 56127: [2, 1], 56165: [4, 3], 56169: [3, 2], 56177: [2, 1], 56215: [4, 3], 56220: [3, 2], 56227: [2, 1], 56266: [4, 3], 56270: [3, 2], 56277: [2, 1], 56317: [4, 3], 56320: [3, 2], 56327: [2, 1], 56367: [4, 3], 56371: [3, 2], 56377: [2, 1], 56418: [4, 3], 56421: [3, 2], 56427: [2, 1], 56468: [4, 3], 56472: [3, 2], 56477: [2, 1], 56519: [4, 3], 56522: [3, 2], 56528: [2, 1], 56569: [4, 3], 56572: [3, 2], 56578: [2, 1], 56620: [4, 3], 56622: [3, 2], 56628: [2, 1], 56670: [4, 3], 56673: [3, 2], 56678: [2, 1], 56720: [4, 3], 56723: [3, 2], 56728: [2, 1], 56771: [4, 3], 56773: [3, 2], 56778: [2, 1], 56821: [4, 3], 56824: [3, 2], 56829: [2, 1], 56871: [4, 3], 56874: [3, 2], 56879: [2, 1], 56922: [4, 3], 56924: [3, 2], 56929: [2, 1], 56972: [4, 3], 56974: [3, 2], 56979: [2, 1], 57022: [4, 3], 57025: [3, 2], 57029: [2, 1], 57073: [4, 3], 57075: [3, 2], 57079: [2, 1], 57123: [4, 3], 57125: [3, 2], 57130: [2, 1], 57173: [4, 3], 57175: [3, 2], 57180: [2, 1], 57224: [4, 3], 57226: [3, 2], 57230: [2, 1], 57274: [4, 3], 57276: [3, 2], 57280: [2, 1], 57324: [4, 3], 57326: [3, 2], 57331: [2, 1], 57375: [4, 3], 57376: [3, 2], 57381: [2, 1], 57425: [4, 3], 57427: [3, 2], 57431: [2, 1], 57475: [4, 3], 57477: [3, 2], 57481: [2, 1], 57512: [4, 3], 57518: [3, 2], 57528: [2, 1], 57562: [4, 3], 57569: [3, 2], 57578: [2, 1], 57613: [4, 3], 57619: [3, 2], 57628: [2, 1], 57663: [4, 3], 57669: [3, 2], 57679: [2, 1], 57713: [4, 3], 57720: [3, 2], 57729: [2, 1], 57764: [4, 3], 57770: [3, 2], 57779: [2, 1], 57814: [4, 3], 57820: [3, 2], 57829: [2, 1], 57864: [4, 3], 57870: [3, 2], 57879: [2, 1], 57914: [4, 3], 57919: [3, 2], 57929: [2, 1], 57963: [4, 3], 57969: [3, 2], 57978: [2, 1], 58013: [4, 3], 58019: [3, 2], 58028: [2, 1], 58063: [4, 3], 58068: [3, 2], 58078: [2, 1], 58113: [4, 3], 58118: [3, 2], 58128: [2, 1], 58163: [4, 3], 58168: [3, 2], 58178: [2, 1], 58213: [4, 3], 58218: [3, 2], 58227: [2, 1], 58263: [4, 3], 58267: [3, 2], 58277: [2, 1], 58313: [4, 3], 58317: [3, 2], 58327: [2, 1], 58363: [4, 3], 58367: [3, 2], 58377: [2, 1], 58413: [4, 3], 58417: [3, 2], 58427: [2, 1], 58463: [4, 3], 58467: [3, 2], 58477: [2, 1], 58513: [4, 3], 58518: [3, 2], 58527: [2, 1], 58564: [4, 3], 58568: [3, 2], 58577: [2, 1], 58614: [4, 3], 58618: [3, 2], 58627: [2, 1], 58664: [4, 3], 58669: [3, 2], 58677: [2, 1], 58715: [4, 3], 58719: [3, 2], 58727: [2, 1], 58766: [4, 3], 58770: [3, 2], 58777: [2, 1], 58816: [4, 3], 58820: [3, 2], 58827: [2, 1], 58867: [4, 3], 58871: [3, 2], 58877: [2, 1], 58918: [4, 3], 58921: [3, 2], 58927: [2, 1], 58968: [4, 3], 58971: [3, 2], 58977: [2, 1], 59019: [4, 3], 59022: [3, 2], 59027: [2, 1], 59069: [4, 3], 59072: [3, 2], 59078: [2, 1], 59120: [4, 3], 59122: [3, 2], 59128: [2, 1], 59170: [4, 3], 59173: [3, 2], 59178: [2, 1], 59220: [4, 3], 59223: [3, 2], 59228: [2, 1], 59271: [4, 3], 59273: [3, 2], 59278: [2, 1], 59321: [4, 3], 59323: [3, 2], 59328: [2, 1], 59371: [4, 3], 59374: [3, 2], 59379: [2, 1], 59422: [4, 3], 59424: [3, 2], 59429: [2, 1], 59472: [4, 3], 59474: [3, 2], 59479: [2, 1], 59522: [4, 3], 59524: [3, 2], 59529: [2, 1], 59572: [4, 3], 59575: [3, 2], 59579: [2, 1], 59623: [4, 3], 59625: [3, 2], 59629: [2, 1], 59673: [4, 3], 59675: [3, 2], 59680: [2, 1], 59723: [4, 3], 59725: [3, 2], 59730: [2, 1], 59774: [4, 3], 59776: [3, 2], 59780: [2, 1], 59824: [4, 3], 59826: [3, 2], 59830: [2, 1], 59874: [4, 3], 59876: [3, 2], 59881: [2, 1], 59925: [4, 3], 59926: [3, 2], 59931: [2, 1], 59975: [4, 3], 59977: [3, 2], 59981: [2, 1], 60012: [4, 3], 60019: [3, 2], 60028: [2, 1], 60063: [4, 3], 60069: [3, 2], 60078: [2, 1], 60113: [4, 3], 60120: [3, 2], 60129: [2, 1], 60164: [4, 3], 60170: [3, 2], 60179: [2, 1], 60214: [4, 3], 60220: [3, 2], 60229: [2, 1], 60264: [4, 3], 60270: [3, 2], 60279: [2, 1], 60314: [4, 3], 60320: [3, 2], 60329: [2, 1], 60364: [4, 3], 60370: [3, 2], 60379: [2, 1], 60414: [4, 3], 60420: [3, 2], 60429: [2, 1], 60464: [4, 3], 60469: [3, 2], 60479: [2, 1], 60513: [4, 3], 60519: [3, 2], 60528: [2, 1], 60563: [4, 3], 60569: [3, 2], 60578: [2, 1], 60613: [4, 3], 60618: [3, 2], 60628: [2, 1], 60663: [4, 3], 60668: [3, 2], 60678: [2, 1], 60713: [4, 3], 60718: [3, 2], 60727: [2, 1], 60763: [4, 3], 60767: [3, 2], 60777: [2, 1], 60813: [4, 3], 60817: [3, 2], 60827: [2, 1], 60863: [4, 3], 60867: [3, 2], 60877: [2, 1], 60913: [4, 3], 60917: [3, 2], 60927: [2, 1], 60963: [4, 3], 60967: [3, 2], 60977: [2, 1], 61013: [4, 3], 61017: [3, 2], 61026: [2, 1], 61063: [4, 3], 61068: [3, 2], 61076: [2, 1], 61114: [4, 3], 61118: [3, 2], 61126: [2, 1], 61164: [4, 3], 61169: [3, 2], 61176: [2, 1], 61215: [4, 3], 61219: [3, 2], 61227: [2, 1], 61265: [4, 3], 61270: [3, 2], 61277: [2, 1], 61316: [4, 3], 61320: [3, 2], 61327: [2, 1], 61367: [4, 3], 61371: [3, 2], 61377: [2, 1], 61417: [4, 3], 61421: [3, 2], 61427: [2, 1], 61468: [4, 3], 61471: [3, 2], 61477: [2, 1], 61519: [4, 3], 61522: [3, 2], 61527: [2, 1], 61569: [4, 3], 61572: [3, 2], 61577: [2, 1], 61619: [4, 3], 61622: [3, 2], 61628: [2, 1], 61670: [4, 3], 61672: [3, 2], 61678: [2, 1], 61720: [4, 3], 61723: [3, 2], 61728: [2, 1], 61770: [4, 3], 61773: [3, 2], 61778: [2, 1], 61821: [4, 3], 61823: [3, 2], 61828: [2, 1], 61871: [4, 3], 61873: [3, 2], 61878: [2, 1], 61921: [4, 3], 61924: [3, 2], 61928: [2, 1], 61972: [4, 3], 61974: [3, 2], 61979: [2, 1], 62022: [4, 3], 62024: [3, 2], 62029: [2, 1], 62072: [4, 3], 62074: [3, 2], 62079: [2, 1], 62123: [4, 3], 62125: [3, 2], 62129: [2, 1], 62173: [4, 3], 62175: [3, 2], 62179: [2, 1], 62223: [4, 3], 62225: [3, 2], 62230: [2, 1], 62273: [4, 3], 62275: [3, 2], 62280: [2, 1], 62324: [4, 3], 62326: [3, 2], 62330: [2, 1], 62374: [4, 3], 62376: [3, 2], 62380: [2, 1], 62424: [4, 3], 62426: [3, 2], 62431: [2, 1], 62475: [4, 3], 62476: [3, 2], 62481: [2, 1], 62513: [4, 3], 62519: [3, 2], 62528: [2, 1], 62563: [4, 3], 62570: [3, 2], 62579: [2, 1], 62614: [4, 3], 62620: [3, 2], 62629: [2, 1], 62664: [4, 3], 62671: [3, 2], 62679: [2, 1], 62715: [4, 3], 62721: [3, 2], 62729: [2, 1], 62765: [4, 3], 62771: [3, 2], 62779: [2, 1], 62815: [4, 3], 62821: [3, 2], 62829: [2, 1], 62865: [4, 3], 62871: [3, 2], 62879: [2, 1], 62914: [4, 3], 62920: [3, 2], 62929: [2, 1], 62964: [4, 3], 62970: [3, 2], 62979: [2, 1], 63014: [4, 3], 63020: [3, 2], 63029: [2, 1], 63064: [4, 3], 63069: [3, 2], 63078: [2, 1], 63113: [4, 3], 63119: [3, 2], 63128: [2, 1], 63163: [4, 3], 63168: [3, 2], 63178: [2, 1], 63213: [4, 3], 63218: [3, 2], 63228: [2, 1], 63263: [4, 3], 63267: [3, 2], 63277: [2, 1], 63313: [4, 3], 63317: [3, 2], 63327: [2, 1], 63362: [4, 3], 63367: [3, 2], 63377: [2, 1], 63413: [4, 3], 63417: [3, 2], 63427: [2, 1], 63463: [4, 3], 63467: [3, 2], 63476: [2, 1], 63513: [4, 3], 63517: [3, 2], 63526: [2, 1], 63563: [4, 3], 63567: [3, 2], 63576: [2, 1], 63613: [4, 3], 63618: [3, 2], 63626: [2, 1], 63664: [4, 3], 63668: [3, 2], 63676: [2, 1], 63714: [4, 3], 63719: [3, 2], 63726: [2, 1], 63765: [4, 3], 63770: [3, 2], 63776: [2, 1], 63816: [4, 3], 63820: [3, 2], 63827: [2, 1], 63867: [4, 3], 63871: [3, 2], 63877: [2, 1], 63917: [4, 3], 63921: [3, 2], 63927: [2, 1], 63968: [4, 3], 63971: [3, 2], 63977: [2, 1], 64018: [4, 3], 64022: [3, 2], 64027: [2, 1], 64069: [4, 3], 64072: [3, 2], 64077: [2, 1], 64119: [4, 3], 64122: [3, 2], 64127: [2, 1], 64170: [4, 3], 64172: [3, 2], 64178: [2, 1], 64220: [4, 3], 64223: [3, 2], 64228: [2, 1], 64270: [4, 3], 64273: [3, 2], 64278: [2, 1], 64321: [4, 3], 64323: [3, 2], 64328: [2, 1], 64371: [4, 3], 64373: [3, 2], 64378: [2, 1], 64421: [4, 3], 64423: [3, 2], 64428: [2, 1], 64471: [4, 3], 64474: [3, 2], 64478: [2, 1], 64522: [4, 3], 64524: [3, 2], 64529: [2, 1], 64572: [4, 3], 64574: [3, 2], 64579: [2, 1], 64622: [4, 3], 64624: [3, 2], 64629: [2, 1], 64673: [4, 3], 64675: [3, 2], 64679: [2, 1], 64723: [4, 3], 64725: [3, 2], 64729: [2, 1], 64773: [4, 3], 64775: [3, 2], 64780: [2, 1], 64823: [4, 3], 64825: [3, 2], 64830: [2, 1], 64874: [4, 3], 64876: [3, 2], 64880: [2, 1], 64924: [4, 3], 64926: [3, 2], 64930: [2, 1], 64974: [4, 3], 64976: [3, 2], 64981: [2, 1], 65013: [4, 3], 65020: [3, 2], 65028: [2, 1], 65064: [4, 3], 65070: [3, 2], 65079: [2, 1], 65115: [4, 3], 65121: [3, 2], 65129: [2, 1], 65165: [4, 3], 65171: [3, 2], 65179: [2, 1], 65215: [4, 3], 65221: [3, 2], 65229: [2, 1], 65266: [4, 3], 65271: [3, 2], 65279: [2, 1], 65315: [4, 3], 65321: [3, 2], 65329: [2, 1], 65365: [4, 3], 65371: [3, 2], 65379: [2, 1], 65415: [4, 3], 65421: [3, 2], 65429: [2, 1], 65465: [4, 3], 65470: [3, 2], 65479: [2, 1], 65514: [4, 3], 65520: [3, 2], 65529: [2, 1], 65564: [4, 3], 65569: [3, 2], 65579: [2, 1], 65614: [4, 3], 65619: [3, 2], 65628: [2, 1], 65663: [4, 3], 65668: [3, 2], 65678: [2, 1], 65713: [4, 3], 65718: [3, 2], 65728: [2, 1], 65763: [4, 3], 65767: [3, 2], 65777: [2, 1], 65813: [4, 3], 65817: [3, 2], 65827: [2, 1], 65863: [4, 3], 65867: [3, 2], 65877: [2, 1], 65912: [4, 3], 65917: [3, 2], 65927: [2, 1], 65963: [4, 3], 65967: [3, 2], 65976: [2, 1], 66013: [4, 3], 66017: [3, 2], 66026: [2, 1], 66063: [4, 3], 66067: [3, 2], 66076: [2, 1], 66113: [4, 3], 66118: [3, 2], 66126: [2, 1], 66164: [4, 3], 66168: [3, 2], 66176: [2, 1], 66214: [4, 3], 66219: [3, 2], 66226: [2, 1], 66265: [4, 3], 66269: [3, 2], 66276: [2, 1], 66316: [4, 3], 66320: [3, 2], 66326: [2, 1], 66366: [4, 3], 66370: [3, 2], 66377: [2, 1], 66417: [4, 3], 66421: [3, 2], 66427: [2, 1], 66468: [4, 3], 66471: [3, 2], 66477: [2, 1], 66518: [4, 3], 66521: [3, 2], 66527: [2, 1], 66569: [4, 3], 66572: [3, 2], 66577: [2, 1], 66619: [4, 3], 66622: [3, 2], 66627: [2, 1], 66669: [4, 3], 66672: [3, 2], 66677: [2, 1], 66720: [4, 3], 66722: [3, 2], 66728: [2, 1], 66770: [4, 3], 66773: [3, 2], 66778: [2, 1], 66820: [4, 3], 66823: [3, 2], 66828: [2, 1], 66871: [4, 3], 66873: [3, 2], 66878: [2, 1], 66921: [4, 3], 66923: [3, 2], 66928: [2, 1], 66971: [4, 3], 66973: [3, 2], 66978: [2, 1], 67021: [4, 3], 67024: [3, 2], 67028: [2, 1], 67072: [4, 3], 67074: [3, 2], 67079: [2, 1], 67122: [4, 3], 67124: [3, 2], 67129: [2, 1], 67172: [4, 3], 67174: [3, 2], 67179: [2, 1], 67223: [4, 3], 67225: [3, 2], 67229: [2, 1], 67273: [4, 3], 67275: [3, 2], 67279: [2, 1], 67323: [4, 3], 67325: [3, 2], 67330: [2, 1], 67373: [4, 3], 67375: [3, 2], 67380: [2, 1], 67424: [4, 3], 67426: [3, 2], 67430: [2, 1], 67474: [4, 3], 67476: [3, 2], 67480: [2, 1], 67514: [4, 3], 67520: [3, 2], 67529: [2, 1], 67565: [4, 3], 67571: [3, 2], 67579: [2, 1], 67615: [4, 3], 67621: [3, 2], 67629: [2, 1], 67666: [4, 3], 67672: [3, 2], 67679: [2, 1], 67716: [4, 3], 67722: [3, 2], 67730: [2, 1], 67766: [4, 3], 67772: [3, 2], 67780: [2, 1], 67816: [4, 3], 67822: [3, 2], 67830: [2, 1], 67866: [4, 3], 67872: [3, 2], 67879: [2, 1], 67916: [4, 3], 67921: [3, 2], 67929: [2, 1], 67965: [4, 3], 67971: [3, 2], 67979: [2, 1], 68015: [4, 3], 68021: [3, 2], 68029: [2, 1], 68064: [4, 3], 68070: [3, 2], 68079: [2, 1], 68114: [4, 3], 68119: [3, 2], 68128: [2, 1], 68164: [4, 3], 68169: [3, 2], 68178: [2, 1], 68213: [4, 3], 68218: [3, 2], 68228: [2, 1], 68263: [4, 3], 68267: [3, 2], 68277: [2, 1], 68313: [4, 3], 68317: [3, 2], 68327: [2, 1], 68363: [4, 3], 68367: [3, 2], 68377: [2, 1], 68413: [4, 3], 68416: [3, 2], 68426: [2, 1], 68463: [4, 3], 68466: [3, 2], 68476: [2, 1], 68513: [4, 3], 68516: [3, 2], 68526: [2, 1], 68563: [4, 3], 68567: [3, 2], 68576: [2, 1], 68613: [4, 3], 68617: [3, 2], 68626: [2, 1], 68663: [4, 3], 68668: [3, 2], 68676: [2, 1], 68714: [4, 3], 68719: [3, 2], 68726: [2, 1], 68765: [4, 3], 68769: [3, 2], 68776: [2, 1], 68815: [4, 3], 68820: [3, 2], 68826: [2, 1], 68866: [4, 3], 68870: [3, 2], 68876: [2, 1], 68917: [4, 3], 68921: [3, 2], 68927: [2, 1], 68968: [4, 3], 68971: [3, 2], 68977: [2, 1], 69018: [4, 3], 69021: [3, 2], 69027: [2, 1], 69069: [4, 3], 69072: [3, 2], 69077: [2, 1], 69119: [4, 3], 69122: [3, 2], 69127: [2, 1], 69169: [4, 3], 69172: [3, 2], 69177: [2, 1], 69220: [4, 3], 69222: [3, 2], 69227: [2, 1], 69270: [4, 3], 69272: [3, 2], 69277: [2, 1], 69320: [4, 3], 69323: [3, 2], 69328: [2, 1], 69370: [4, 3], 69373: [3, 2], 69378: [2, 1], 69421: [4, 3], 69423: [3, 2], 69428: [2, 1], 69471: [4, 3], 69473: [3, 2], 69478: [2, 1], 69521: [4, 3], 69523: [3, 2], 69528: [2, 1], 69572: [4, 3], 69574: [3, 2], 69578: [2, 1], 69622: [4, 3], 69624: [3, 2], 69629: [2, 1], 69672: [4, 3], 69674: [3, 2], 69679: [2, 1], 69722: [4, 3], 69724: [3, 2], 69729: [2, 1], 69773: [4, 3], 69775: [3, 2], 69779: [2, 1], 69823: [4, 3], 69825: [3, 2], 69829: [2, 1], 69873: [4, 3], 69875: [3, 2], 69880: [2, 1], 69924: [4, 3], 69925: [3, 2], 69930: [2, 1], 69974: [4, 3], 69976: [3, 2], 69980: [2, 1], 70014: [4, 3], 70021: [3, 2], 70029: [2, 1], 70065: [4, 3], 70071: [3, 2], 70079: [2, 1], 70116: [4, 3], 70122: [3, 2], 70129: [2, 1], 70167: [4, 3], 70172: [3, 2], 70180: [2, 1], 70217: [4, 3], 70222: [3, 2], 70230: [2, 1], 70267: [4, 3], 70273: [3, 2], 70280: [2, 1], 70317: [4, 3], 70323: [3, 2], 70330: [2, 1], 70367: [4, 3], 70372: [3, 2], 70380: [2, 1], 70417: [4, 3], 70422: [3, 2], 70430: [2, 1], 70466: [4, 3], 70472: [3, 2], 70479: [2, 1], 70516: [4, 3], 70521: [3, 2], 70529: [2, 1], 70565: [4, 3], 70570: [3, 2], 70579: [2, 1], 70614: [4, 3], 70620: [3, 2], 70628: [2, 1], 70664: [4, 3], 70669: [3, 2], 70678: [2, 1], 70714: [4, 3], 70718: [3, 2], 70728: [2, 1], 70763: [4, 3], 70768: [3, 2], 70777: [2, 1], 70813: [4, 3], 70817: [3, 2], 70827: [2, 1], 70863: [4, 3], 70867: [3, 2], 70877: [2, 1], 70913: [4, 3], 70916: [3, 2], 70926: [2, 1], 70963: [4, 3], 70966: [3, 2], 70976: [2, 1], 71013: [4, 3], 71016: [3, 2], 71026: [2, 1], 71063: [4, 3], 71066: [3, 2], 71076: [2, 1], 71113: [4, 3], 71117: [3, 2], 71126: [2, 1], 71163: [4, 3], 71168: [3, 2], 71176: [2, 1], 71214: [4, 3], 71218: [3, 2], 71226: [2, 1], 71264: [4, 3], 71269: [3, 2], 71276: [2, 1], 71315: [4, 3], 71320: [3, 2], 71326: [2, 1], 71366: [4, 3], 71370: [3, 2], 71376: [2, 1], 71417: [4, 3], 71421: [3, 2], 71426: [2, 1], 71468: [4, 3], 71471: [3, 2], 71476: [2, 1], 71518: [4, 3], 71521: [3, 2], 71527: [2, 1], 71568: [4, 3], 71571: [3, 2], 71577: [2, 1], 71619: [4, 3], 71622: [3, 2], 71627: [2, 1], 71669: [4, 3], 71672: [3, 2], 71677: [2, 1], 71719: [4, 3], 71722: [3, 2], 71727: [2, 1], 71770: [4, 3], 71772: [3, 2], 71777: [2, 1], 71820: [4, 3], 71822: [3, 2], 71827: [2, 1], 71870: [4, 3], 71873: [3, 2], 71878: [2, 1], 71920: [4, 3], 71923: [3, 2], 71928: [2, 1], 71971: [4, 3], 71973: [3, 2], 71978: [2, 1], 72021: [4, 3], 72023: [3, 2], 72028: [2, 1], 72071: [4, 3], 72073: [3, 2], 72078: [2, 1], 72122: [4, 3], 72124: [3, 2], 72128: [2, 1], 72172: [4, 3], 72174: [3, 2], 72179: [2, 1], 72222: [4, 3], 72224: [3, 2], 72229: [2, 1], 72272: [4, 3], 72274: [3, 2], 72279: [2, 1], 72323: [4, 3], 72325: [3, 2], 72329: [2, 1], 72373: [4, 3], 72375: [3, 2], 72379: [2, 1], 72423: [4, 3], 72425: [3, 2], 72430: [2, 1], 72474: [4, 3], 72476: [3, 2], 72480: [2, 1], 72515: [4, 3], 72521: [3, 2], 72529: [2, 1], 72566: [4, 3], 72572: [3, 2], 72579: [2, 1], 72617: [4, 3], 72622: [3, 2], 72629: [2, 1], 72668: [4, 3], 72673: [3, 2], 72680: [2, 1], 72718: [4, 3], 72723: [3, 2], 72730: [2, 1], 72768: [4, 3], 72773: [3, 2], 72780: [2, 1], 72818: [4, 3], 72823: [3, 2], 72830: [2, 1], 72868: [4, 3], 72873: [3, 2], 72880: [2, 1], 72917: [4, 3], 72923: [3, 2], 72930: [2, 1], 72967: [4, 3], 72972: [3, 2], 72979: [2, 1], 73016: [4, 3], 73022: [3, 2], 73029: [2, 1], 73066: [4, 3], 73071: [3, 2], 73079: [2, 1], 73115: [4, 3], 73120: [3, 2], 73129: [2, 1], 73165: [4, 3], 73170: [3, 2], 73178: [2, 1], 73214: [4, 3], 73219: [3, 2], 73228: [2, 1], 73264: [4, 3], 73268: [3, 2], 73277: [2, 1], 73313: [4, 3], 73317: [3, 2], 73327: [2, 1], 73363: [4, 3], 73367: [3, 2], 73377: [2, 1], 73413: [4, 3], 73417: [3, 2], 73426: [2, 1], 73463: [4, 3], 73466: [3, 2], 73476: [2, 1], 73513: [4, 3], 73516: [3, 2], 73526: [2, 1], 73563: [4, 3], 73566: [3, 2], 73576: [2, 1], 73613: [4, 3], 73617: [3, 2], 73626: [2, 1], 73663: [4, 3], 73667: [3, 2], 73676: [2, 1], 73714: [4, 3], 73718: [3, 2], 73726: [2, 1], 73764: [4, 3], 73769: [3, 2], 73776: [2, 1], 73815: [4, 3], 73820: [3, 2], 73826: [2, 1], 73866: [4, 3], 73870: [3, 2], 73876: [2, 1], 73917: [4, 3], 73920: [3, 2], 73926: [2, 1], 73967: [4, 3], 73971: [3, 2], 73976: [2, 1], 74018: [4, 3], 74021: [3, 2], 74026: [2, 1], 74068: [4, 3], 74071: [3, 2], 74077: [2, 1], 74118: [4, 3], 74121: [3, 2], 74127: [2, 1], 74169: [4, 3], 74172: [3, 2], 74177: [2, 1], 74219: [4, 3], 74222: [3, 2], 74227: [2, 1], 74269: [4, 3], 74272: [3, 2], 74277: [2, 1], 74320: [4, 3], 74322: [3, 2], 74327: [2, 1], 74370: [4, 3], 74372: [3, 2], 74377: [2, 1], 74420: [4, 3], 74422: [3, 2], 74428: [2, 1], 74470: [4, 3], 74473: [3, 2], 74478: [2, 1], 74521: [4, 3], 74523: [3, 2], 74528: [2, 1], 74571: [4, 3], 74573: [3, 2], 74578: [2, 1], 74621: [4, 3], 74623: [3, 2], 74628: [2, 1], 74672: [4, 3], 74674: [3, 2], 74678: [2, 1], 74722: [4, 3], 74724: [3, 2], 74729: [2, 1], 74772: [4, 3], 74774: [3, 2], 74779: [2, 1], 74822: [4, 3], 74824: [3, 2], 74829: [2, 1], 74873: [4, 3], 74875: [3, 2], 74879: [2, 1], 74923: [4, 3], 74925: [3, 2], 74929: [2, 1], 74973: [4, 3], 74975: [3, 2], 74980: [2, 1], 75015: [4, 3], 75021: [3, 2], 75029: [2, 1], 75067: [4, 3], 75072: [3, 2], 75079: [2, 1], 75118: [4, 3], 75123: [3, 2], 75129: [2, 1], 75168: [4, 3], 75173: [3, 2], 75180: [2, 1], 75219: [4, 3], 75223: [3, 2], 75230: [2, 1], 75269: [4, 3], 75273: [3, 2], 75280: [2, 1], 75319: [4, 3], 75323: [3, 2], 75330: [2, 1], 75369: [4, 3], 75373: [3, 2], 75380: [2, 1], 75418: [4, 3], 75423: [3, 2], 75430: [2, 1], 75468: [4, 3], 75473: [3, 2], 75480: [2, 1], 75517: [4, 3], 75522: [3, 2], 75529: [2, 1], 75566: [4, 3], 75572: [3, 2], 75579: [2, 1], 75616: [4, 3], 75621: [3, 2], 75629: [2, 1], 75665: [4, 3], 75670: [3, 2], 75678: [2, 1], 75715: [4, 3], 75719: [3, 2], 75728: [2, 1], 75764: [4, 3], 75768: [3, 2], 75778: [2, 1], 75814: [4, 3], 75818: [3, 2], 75827: [2, 1], 75864: [4, 3], 75867: [3, 2], 75877: [2, 1], 75913: [4, 3], 75917: [3, 2], 75926: [2, 1], 75963: [4, 3], 75966: [3, 2], 75976: [2, 1], 76013: [4, 3], 76016: [3, 2], 76026: [2, 1], 76063: [4, 3], 76066: [3, 2], 76076: [2, 1], 76113: [4, 3], 76116: [3, 2], 76126: [2, 1], 76164: [4, 3], 76167: [3, 2], 76176: [2, 1], 76214: [4, 3], 76218: [3, 2], 76226: [2, 1], 76264: [4, 3], 76269: [3, 2], 76276: [2, 1], 76315: [4, 3], 76320: [3, 2], 76326: [2, 1], 76366: [4, 3], 76370: [3, 2], 76376: [2, 1], 76416: [4, 3], 76420: [3, 2], 76426: [2, 1], 76467: [4, 3], 76470: [3, 2], 76476: [2, 1], 76517: [4, 3], 76521: [3, 2], 76526: [2, 1], 76568: [4, 3], 76571: [3, 2], 76576: [2, 1], 76618: [4, 3], 76621: [3, 2], 76627: [2, 1], 76668: [4, 3], 76671: [3, 2], 76677: [2, 1], 76719: [4, 3], 76721: [3, 2], 76727: [2, 1], 76769: [4, 3], 76772: [3, 2], 76777: [2, 1], 76819: [4, 3], 76822: [3, 2], 76827: [2, 1], 76869: [4, 3], 76872: [3, 2], 76877: [2, 1], 76920: [4, 3], 76922: [3, 2], 76927: [2, 1], 76970: [4, 3], 76972: [3, 2], 76978: [2, 1], 77020: [4, 3], 77023: [3, 2], 77028: [2, 1], 77071: [4, 3], 77073: [3, 2], 77078: [2, 1], 77121: [4, 3], 77123: [3, 2], 77128: [2, 1], 77171: [4, 3], 77173: [3, 2], 77178: [2, 1], 77222: [4, 3], 77224: [3, 2], 77228: [2, 1], 77272: [4, 3], 77274: [3, 2], 77279: [2, 1], 77322: [4, 3], 77324: [3, 2], 77329: [2, 1], 77373: [4, 3], 77375: [3, 2], 77379: [2, 1], 77423: [4, 3], 77425: [3, 2], 77429: [2, 1], 77473: [4, 3], 77475: [3, 2], 77480: [2, 1], 77516: [4, 3], 77521: [3, 2], 77529: [2, 1], 77567: [4, 3], 77572: [3, 2], 77579: [2, 1], 77618: [4, 3], 77623: [3, 2], 77629: [2, 1], 77669: [4, 3], 77673: [3, 2], 77680: [2, 1], 77719: [4, 3], 77724: [3, 2], 77730: [2, 1], 77770: [4, 3], 77774: [3, 2], 77780: [2, 1], 77820: [4, 3], 77824: [3, 2], 77830: [2, 1], 77869: [4, 3], 77874: [3, 2], 77880: [2, 1], 77919: [4, 3], 77923: [3, 2], 77930: [2, 1], 77969: [4, 3], 77973: [3, 2], 77980: [2, 1], 78018: [4, 3], 78023: [3, 2], 78029: [2, 1], 78067: [4, 3], 78072: [3, 2], 78079: [2, 1], 78117: [4, 3], 78121: [3, 2], 78129: [2, 1], 78166: [4, 3], 78171: [3, 2], 78178: [2, 1], 78215: [4, 3], 78220: [3, 2], 78228: [2, 1], 78265: [4, 3], 78269: [3, 2], 78278: [2, 1], 78314: [4, 3], 78318: [3, 2], 78327: [2, 1], 78364: [4, 3], 78368: [3, 2], 78377: [2, 1], 78414: [4, 3], 78417: [3, 2], 78426: [2, 1], 78464: [4, 3], 78467: [3, 2], 78476: [2, 1], 78514: [4, 3], 78517: [3, 2], 78526: [2, 1], 78564: [4, 3], 78566: [3, 2], 78576: [2, 1], 78614: [4, 3], 78617: [3, 2], 78625: [2, 1], 78664: [4, 3], 78667: [3, 2], 78675: [2, 1], 78714: [4, 3], 78718: [3, 2], 78725: [2, 1], 78764: [4, 3], 78769: [3, 2], 78775: [2, 1], 78815: [4, 3], 78819: [3, 2], 78826: [2, 1], 78866: [4, 3], 78870: [3, 2], 78876: [2, 1], 78916: [4, 3], 78920: [3, 2], 78926: [2, 1], 78967: [4, 3], 78970: [3, 2], 78976: [2, 1], 79017: [4, 3], 79020: [3, 2], 79026: [2, 1], 79067: [4, 3], 79070: [3, 2], 79076: [2, 1], 79118: [4, 3], 79121: [3, 2], 79126: [2, 1], 79168: [4, 3], 79171: [3, 2], 79177: [2, 1], 79218: [4, 3], 79221: [3, 2], 79227: [2, 1], 79269: [4, 3], 79271: [3, 2], 79277: [2, 1], 79319: [4, 3], 79321: [3, 2], 79327: [2, 1], 79369: [4, 3], 79372: [3, 2], 79377: [2, 1], 79419: [4, 3], 79422: [3, 2], 79427: [2, 1], 79470: [4, 3], 79472: [3, 2], 79478: [2, 1], 79520: [4, 3], 79522: [3, 2], 79528: [2, 1], 79570: [4, 3], 79573: [3, 2], 79578: [2, 1], 79621: [4, 3], 79623: [3, 2], 79628: [2, 1], 79671: [4, 3], 79673: [3, 2], 79678: [2, 1], 79721: [4, 3], 79723: [3, 2], 79728: [2, 1], 79772: [4, 3], 79774: [3, 2], 79779: [2, 1], 79822: [4, 3], 79824: [3, 2], 79829: [2, 1], 79872: [4, 3], 79874: [3, 2], 79879: [2, 1], 79923: [4, 3], 79925: [3, 2], 79929: [2, 1], 79973: [4, 3], 79975: [3, 2], 79979: [2, 1], 80016: [4, 3], 80021: [3, 2], 80028: [2, 1], 80067: [4, 3], 80072: [3, 2], 80079: [2, 1], 80118: [4, 3], 80123: [3, 2], 80129: [2, 1], 80169: [4, 3], 80173: [3, 2], 80180: [2, 1], 80220: [4, 3], 80224: [3, 2], 80230: [2, 1], 80270: [4, 3], 80274: [3, 2], 80280: [2, 1], 80320: [4, 3], 80324: [3, 2], 80330: [2, 1], 80370: [4, 3], 80374: [3, 2], 80380: [2, 1], 80420: [4, 3], 80424: [3, 2], 80430: [2, 1], 80469: [4, 3], 80473: [3, 2], 80480: [2, 1], 80519: [4, 3], 80523: [3, 2], 80529: [2, 1], 80568: [4, 3], 80572: [3, 2], 80579: [2, 1], 80617: [4, 3], 80622: [3, 2], 80629: [2, 1], 80667: [4, 3], 80671: [3, 2], 80679: [2, 1], 80716: [4, 3], 80720: [3, 2], 80728: [2, 1], 80766: [4, 3], 80770: [3, 2], 80778: [2, 1], 80815: [4, 3], 80819: [3, 2], 80827: [2, 1], 80865: [4, 3], 80868: [3, 2], 80877: [2, 1], 80914: [4, 3], 80918: [3, 2], 80926: [2, 1], 80964: [4, 3], 80967: [3, 2], 80976: [2, 1], 81014: [4, 3], 81017: [3, 2], 81026: [2, 1], 81064: [4, 3], 81067: [3, 2], 81076: [2, 1], 81114: [4, 3], 81117: [3, 2], 81125: [2, 1], 81164: [4, 3], 81167: [3, 2], 81175: [2, 1], 81214: [4, 3], 81217: [3, 2], 81225: [2, 1], 81265: [4, 3], 81268: [3, 2], 81275: [2, 1], 81315: [4, 3], 81319: [3, 2], 81325: [2, 1], 81366: [4, 3], 81369: [3, 2], 81376: [2, 1], 81416: [4, 3], 81419: [3, 2], 81426: [2, 1], 81466: [4, 3], 81470: [3, 2], 81476: [2, 1], 81517: [4, 3], 81520: [3, 2], 81526: [2, 1], 81567: [4, 3], 81570: [3, 2], 81576: [2, 1], 81617: [4, 3], 81620: [3, 2], 81626: [2, 1], 81668: [4, 3], 81670: [3, 2], 81677: [2, 1], 81718: [4, 3], 81721: [3, 2], 81727: [2, 1], 81768: [4, 3], 81771: [3, 2], 81777: [2, 1], 81818: [4, 3], 81821: [3, 2], 81827: [2, 1], 81869: [4, 3], 81871: [3, 2], 81877: [2, 1], 81919: [4, 3], 81922: [3, 2], 81927: [2, 1], 81969: [4, 3], 81972: [3, 2], 81977: [2, 1], 82020: [4, 3], 82022: [3, 2], 82028: [2, 1], 82070: [4, 3], 82072: [3, 2], 82078: [2, 1], 82120: [4, 3], 82123: [3, 2], 82128: [2, 1], 82171: [4, 3], 82173: [3, 2], 82178: [2, 1], 82221: [4, 3], 82223: [3, 2], 82228: [2, 1], 82271: [4, 3], 82274: [3, 2], 82278: [2, 1], 82322: [4, 3], 82324: [3, 2], 82329: [2, 1], 82372: [4, 3], 82374: [3, 2], 82379: [2, 1], 82422: [4, 3], 82424: [3, 2], 82429: [2, 1], 82473: [4, 3], 82475: [3, 2], 82479: [2, 1], 82516: [4, 3], 82521: [3, 2], 82528: [2, 1], 82567: [4, 3], 82572: [3, 2], 82579: [2, 1], 82619: [4, 3], 82623: [3, 2], 82629: [2, 1], 82669: [4, 3], 82673: [3, 2], 82679: [2, 1], 82720: [4, 3], 82724: [3, 2], 82730: [2, 1], 82770: [4, 3], 82774: [3, 2], 82780: [2, 1], 82821: [4, 3], 82824: [3, 2], 82830: [2, 1], 82871: [4, 3], 82874: [3, 2], 82880: [2, 1], 82920: [4, 3], 82924: [3, 2], 82930: [2, 1], 82970: [4, 3], 82974: [3, 2], 82980: [2, 1], 83019: [4, 3], 83023: [3, 2], 83029: [2, 1], 83069: [4, 3], 83073: [3, 2], 83079: [2, 1], 83118: [4, 3], 83122: [3, 2], 83129: [2, 1], 83168: [4, 3], 83172: [3, 2], 83179: [2, 1], 83217: [4, 3], 83221: [3, 2], 83228: [2, 1], 83266: [4, 3], 83270: [3, 2], 83278: [2, 1], 83316: [4, 3], 83319: [3, 2], 83327: [2, 1], 83365: [4, 3], 83369: [3, 2], 83377: [2, 1], 83415: [4, 3], 83418: [3, 2], 83427: [2, 1], 83465: [4, 3], 83468: [3, 2], 83476: [2, 1], 83515: [4, 3], 83517: [3, 2], 83526: [2, 1], 83565: [4, 3], 83567: [3, 2], 83576: [2, 1], 83615: [4, 3], 83617: [3, 2], 83625: [2, 1], 83665: [4, 3], 83667: [3, 2], 83675: [2, 1], 83715: [4, 3], 83717: [3, 2], 83725: [2, 1], 83765: [4, 3], 83768: [3, 2], 83775: [2, 1], 83815: [4, 3], 83818: [3, 2], 83825: [2, 1], 83866: [4, 3], 83869: [3, 2], 83876: [2, 1], 83916: [4, 3], 83919: [3, 2], 83926: [2, 1], 83966: [4, 3], 83969: [3, 2], 83976: [2, 1], 84017: [4, 3], 84019: [3, 2], 84026: [2, 1], 84067: [4, 3], 84070: [3, 2], 84076: [2, 1], 84117: [4, 3], 84120: [3, 2], 84126: [2, 1], 84167: [4, 3], 84170: [3, 2], 84176: [2, 1], 84218: [4, 3], 84220: [3, 2], 84227: [2, 1], 84268: [4, 3], 84271: [3, 2], 84277: [2, 1], 84318: [4, 3], 84321: [3, 2], 84327: [2, 1], 84368: [4, 3], 84371: [3, 2], 84377: [2, 1], 84418: [4, 3], 84421: [3, 2], 84427: [2, 1], 84469: [4, 3], 84471: [3, 2], 84477: [2, 1], 84519: [4, 3], 84522: [3, 2], 84528: [2, 1], 84569: [4, 3], 84572: [3, 2], 84578: [2, 1], 84620: [4, 3], 84622: [3, 2], 84628: [2, 1], 84670: [4, 3], 84673: [3, 2], 84678: [2, 1], 84721: [4, 3], 84723: [3, 2], 84728: [2, 1], 84771: [4, 3], 84773: [3, 2], 84778: [2, 1], 84821: [4, 3], 84824: [3, 2], 84828: [2, 1], 84872: [4, 3], 84874: [3, 2], 84879: [2, 1], 84922: [4, 3], 84924: [3, 2], 84929: [2, 1], 84972: [4, 3], 84974: [3, 2], 84979: [2, 1], 85016: [4, 3], 85021: [3, 2], 85028: [2, 1], 85067: [4, 3], 85072: [3, 2], 85078: [2, 1], 85119: [4, 3], 85122: [3, 2], 85129: [2, 1], 85170: [4, 3], 85173: [3, 2], 85179: [2, 1], 85220: [4, 3], 85224: [3, 2], 85229: [2, 1], 85271: [4, 3], 85274: [3, 2], 85280: [2, 1], 85321: [4, 3], 85324: [3, 2], 85330: [2, 1], 85371: [4, 3], 85374: [3, 2], 85380: [2, 1], 85421: [4, 3], 85424: [3, 2], 85430: [2, 1], 85470: [4, 3], 85474: [3, 2], 85480: [2, 1], 85520: [4, 3], 85524: [3, 2], 85529: [2, 1], 85570: [4, 3], 85573: [3, 2], 85579: [2, 1], 85619: [4, 3], 85623: [3, 2], 85629: [2, 1], 85668: [4, 3], 85672: [3, 2], 85679: [2, 1], 85718: [4, 3], 85721: [3, 2], 85728: [2, 1], 85767: [4, 3], 85771: [3, 2], 85778: [2, 1], 85817: [4, 3], 85820: [3, 2], 85827: [2, 1], 85866: [4, 3], 85869: [3, 2], 85877: [2, 1], 85916: [4, 3], 85919: [3, 2], 85927: [2, 1], 85965: [4, 3], 85968: [3, 2], 85976: [2, 1], 86015: [4, 3], 86018: [3, 2], 86026: [2, 1], 86065: [4, 3], 86068: [3, 2], 86076: [2, 1], 86115: [4, 3], 86117: [3, 2], 86125: [2, 1], 86165: [4, 3], 86167: [3, 2], 86175: [2, 1], 86215: [4, 3], 86217: [3, 2], 86225: [2, 1], 86265: [4, 3], 86268: [3, 2], 86275: [2, 1], 86316: [4, 3], 86318: [3, 2], 86325: [2, 1], 86366: [4, 3], 86368: [3, 2], 86376: [2, 1], 86416: [4, 3], 86419: [3, 2], 86426: [2, 1], 86466: [4, 3], 86469: [3, 2], 86476: [2, 1], 86517: [4, 3], 86519: [3, 2], 86526: [2, 1], 86567: [4, 3], 86569: [3, 2], 86576: [2, 1], 86617: [4, 3], 86620: [3, 2], 86626: [2, 1], 86667: [4, 3], 86670: [3, 2], 86677: [2, 1], 86717: [4, 3], 86720: [3, 2], 86727: [2, 1], 86768: [4, 3], 86770: [3, 2], 86777: [2, 1], 86818: [4, 3], 86820: [3, 2], 86827: [2, 1], 86868: [4, 3], 86871: [3, 2], 86877: [2, 1], 86918: [4, 3], 86921: [3, 2], 86927: [2, 1], 86968: [4, 3], 86971: [3, 2], 86977: [2, 1], 87019: [4, 3], 87021: [3, 2], 87028: [2, 1], 87069: [4, 3], 87072: [3, 2], 87078: [2, 1], 87119: [4, 3], 87122: [3, 2], 87128: [2, 1], 87170: [4, 3], 87172: [3, 2], 87178: [2, 1], 87220: [4, 3], 87223: [3, 2], 87228: [2, 1], 87271: [4, 3], 87273: [3, 2], 87278: [2, 1], 87321: [4, 3], 87323: [3, 2], 87328: [2, 1], 87371: [4, 3], 87374: [3, 2], 87379: [2, 1], 87422: [4, 3], 87424: [3, 2], 87429: [2, 1], 87472: [4, 3], 87474: [3, 2], 87479: [2, 1], 87515: [4, 3], 87520: [3, 2], 87527: [2, 1], 87567: [4, 3], 87571: [3, 2], 87578: [2, 1], 87618: [4, 3], 87622: [3, 2], 87628: [2, 1], 87669: [4, 3], 87673: [3, 2], 87679: [2, 1], 87720: [4, 3], 87723: [3, 2], 87729: [2, 1], 87771: [4, 3], 87774: [3, 2], 87779: [2, 1], 87821: [4, 3], 87824: [3, 2], 87830: [2, 1], 87871: [4, 3], 87874: [3, 2], 87880: [2, 1], 87921: [4, 3], 87924: [3, 2], 87930: [2, 1], 87971: [4, 3], 87974: [3, 2], 87979: [2, 1], 88020: [4, 3], 88024: [3, 2], 88029: [2, 1], 88070: [4, 3], 88073: [3, 2], 88079: [2, 1], 88120: [4, 3], 88123: [3, 2], 88129: [2, 1], 88169: [4, 3], 88172: [3, 2], 88179: [2, 1], 88219: [4, 3], 88222: [3, 2], 88228: [2, 1], 88268: [4, 3], 88271: [3, 2], 88278: [2, 1], 88317: [4, 3], 88321: [3, 2], 88328: [2, 1], 88367: [4, 3], 88370: [3, 2], 88377: [2, 1], 88417: [4, 3], 88419: [3, 2], 88427: [2, 1], 88466: [4, 3], 88469: [3, 2], 88477: [2, 1], 88516: [4, 3], 88518: [3, 2], 88526: [2, 1], 88566: [4, 3], 88568: [3, 2], 88576: [2, 1], 88616: [4, 3], 88618: [3, 2], 88626: [2, 1], 88666: [4, 3], 88668: [3, 2], 88676: [2, 1], 88716: [4, 3], 88718: [3, 2], 88725: [2, 1], 88766: [4, 3], 88768: [3, 2], 88775: [2, 1], 88816: [4, 3], 88818: [3, 2], 88826: [2, 1], 88866: [4, 3], 88868: [3, 2], 88876: [2, 1], 88916: [4, 3], 88918: [3, 2], 88926: [2, 1], 88966: [4, 3], 88969: [3, 2], 88976: [2, 1], 89017: [4, 3], 89019: [3, 2], 89026: [2, 1], 89067: [4, 3], 89069: [3, 2], 89076: [2, 1], 89117: [4, 3], 89119: [3, 2], 89126: [2, 1], 89167: [4, 3], 89170: [3, 2], 89177: [2, 1], 89217: [4, 3], 89220: [3, 2], 89227: [2, 1], 89267: [4, 3], 89270: [3, 2], 89277: [2, 1], 89317: [4, 3], 89320: [3, 2], 89327: [2, 1], 89368: [4, 3], 89370: [3, 2], 89377: [2, 1], 89418: [4, 3], 89420: [3, 2], 89427: [2, 1], 89468: [4, 3], 89471: [3, 2], 89477: [2, 1], 89518: [4, 3], 89521: [3, 2], 89528: [2, 1], 89568: [4, 3], 89571: [3, 2], 89578: [2, 1], 89619: [4, 3], 89622: [3, 2], 89628: [2, 1], 89669: [4, 3], 89672: [3, 2], 89678: [2, 1], 89720: [4, 3], 89722: [3, 2], 89728: [2, 1], 89770: [4, 3], 89773: [3, 2], 89778: [2, 1], 89821: [4, 3], 89823: [3, 2], 89828: [2, 1], 89871: [4, 3], 89873: [3, 2], 89879: [2, 1], 89921: [4, 3], 89924: [3, 2], 89929: [2, 1], 89972: [4, 3], 89974: [3, 2], 89979: [2, 1], 90015: [4, 3], 90019: [3, 2], 90026: [2, 1], 90067: [4, 3], 90071: [3, 2], 90077: [2, 1], 90118: [4, 3], 90122: [3, 2], 90128: [2, 1], 90169: [4, 3], 90172: [3, 2], 90178: [2, 1], 90220: [4, 3], 90223: [3, 2], 90229: [2, 1], 90270: [4, 3], 90273: [3, 2], 90279: [2, 1], 90321: [4, 3], 90324: [3, 2], 90329: [2, 1], 90371: [4, 3], 90374: [3, 2], 90379: [2, 1], 90421: [4, 3], 90424: [3, 2], 90429: [2, 1], 90471: [4, 3], 90474: [3, 2], 90479: [2, 1], 90521: [4, 3], 90524: [3, 2], 90529: [2, 1], 90570: [4, 3], 90573: [3, 2], 90579: [2, 1], 90620: [4, 3], 90623: [3, 2], 90629: [2, 1], 90670: [4, 3], 90673: [3, 2], 90679: [2, 1], 90719: [4, 3], 90722: [3, 2], 90728: [2, 1], 90769: [4, 3], 90772: [3, 2], 90778: [2, 1], 90818: [4, 3], 90821: [3, 2], 90828: [2, 1], 90868: [4, 3], 90871: [3, 2], 90877: [2, 1], 90917: [4, 3], 90920: [3, 2], 90927: [2, 1], 90967: [4, 3], 90970: [3, 2], 90977: [2, 1], 91017: [4, 3], 91019: [3, 2], 91026: [2, 1], 91066: [4, 3], 91068: [3, 2], 91076: [2, 1], 91116: [4, 3], 91118: [3, 2], 91126: [2, 1], 91166: [4, 3], 91168: [3, 2], 91176: [2, 1], 91216: [4, 3], 91218: [3, 2], 91226: [2, 1], 91266: [4, 3], 91268: [3, 2], 91276: [2, 1], 91316: [4, 3], 91318: [3, 2], 91326: [2, 1], 91366: [4, 3], 91368: [3, 2], 91376: [2, 1], 91416: [4, 3], 91418: [3, 2], 91426: [2, 1], 91467: [4, 3], 91469: [3, 2], 91476: [2, 1], 91517: [4, 3], 91519: [3, 2], 91526: [2, 1], 91567: [4, 3], 91569: [3, 2], 91577: [2, 1], 91617: [4, 3], 91619: [3, 2], 91627: [2, 1], 91667: [4, 3], 91670: [3, 2], 91677: [2, 1], 91717: [4, 3], 91720: [3, 2], 91727: [2, 1], 91767: [4, 3], 91770: [3, 2], 91777: [2, 1], 91817: [4, 3], 91820: [3, 2], 91827: [2, 1], 91867: [4, 3], 91870: [3, 2], 91877: [2, 1], 91917: [4, 3], 91920: [3, 2], 91927: [2, 1], 91968: [4, 3], 91970: [3, 2], 91978: [2, 1], 92018: [4, 3], 92020: [3, 2], 92028: [2, 1], 92068: [4, 3], 92071: [3, 2], 92078: [2, 1], 92118: [4, 3], 92121: [3, 2], 92128: [2, 1], 92169: [4, 3], 92172: [3, 2], 92178: [2, 1], 92219: [4, 3], 92222: [3, 2], 92228: [2, 1], 92270: [4, 3], 92272: [3, 2], 92278: [2, 1], 92320: [4, 3], 92323: [3, 2], 92328: [2, 1], 92371: [4, 3], 92373: [3, 2], 92379: [2, 1], 92421: [4, 3], 92424: [3, 2], 92429: [2, 1], 92471: [4, 3], 92474: [3, 2], 92479: [2, 1], 92514: [4, 3], 92519: [3, 2], 92526: [2, 1], 92566: [4, 3], 92570: [3, 2], 92577: [2, 1], 92617: [4, 3], 92621: [3, 2], 92627: [2, 1], 92669: [4, 3], 92672: [3, 2], 92678: [2, 1], 92719: [4, 3], 92722: [3, 2], 92728: [2, 1], 92770: [4, 3], 92773: [3, 2], 92779: [2, 1], 92820: [4, 3], 92823: [3, 2], 92829: [2, 1], 92871: [4, 3], 92874: [3, 2], 92879: [2, 1], 92921: [4, 3], 92924: [3, 2], 92929: [2, 1], 92971: [4, 3], 92974: [3, 2], 92979: [2, 1], 93021: [4, 3], 93024: [3, 2], 93029: [2, 1], 93071: [4, 3], 93074: [3, 2], 93079: [2, 1], 93121: [4, 3], 93123: [3, 2], 93129: [2, 1], 93170: [4, 3], 93173: [3, 2], 93179: [2, 1], 93220: [4, 3], 93223: [3, 2], 93228: [2, 1], 93269: [4, 3], 93272: [3, 2], 93278: [2, 1], 93319: [4, 3], 93322: [3, 2], 93328: [2, 1], 93369: [4, 3], 93371: [3, 2], 93378: [2, 1], 93418: [4, 3], 93421: [3, 2], 93427: [2, 1], 93468: [4, 3], 93470: [3, 2], 93477: [2, 1], 93517: [4, 3], 93520: [3, 2], 93527: [2, 1], 93567: [4, 3], 93569: [3, 2], 93576: [2, 1], 93617: [4, 3], 93619: [3, 2], 93626: [2, 1], 93667: [4, 3], 93668: [3, 2], 93676: [2, 1], 93717: [4, 3], 93718: [3, 2], 93726: [2, 1], 93767: [4, 3], 93768: [3, 2], 93776: [2, 1], 93817: [4, 3], 93818: [3, 2], 93826: [2, 1], 93867: [4, 3], 93868: [3, 2], 93876: [2, 1], 93917: [4, 3], 93919: [3, 2], 93927: [2, 1], 93967: [4, 3], 93969: [3, 2], 93977: [2, 1], 94017: [4, 3], 94019: [3, 2], 94027: [2, 1], 94067: [4, 3], 94069: [3, 2], 94077: [2, 1], 94117: [4, 3], 94120: [3, 2], 94127: [2, 1], 94167: [4, 3], 94170: [3, 2], 94177: [2, 1], 94217: [4, 3], 94220: [3, 2], 94227: [2, 1], 94267: [4, 3], 94270: [3, 2], 94277: [2, 1], 94317: [4, 3], 94320: [3, 2], 94327: [2, 1], 94367: [4, 3], 94370: [3, 2], 94378: [2, 1], 94417: [4, 3], 94420: [3, 2], 94428: [2, 1], 94467: [4, 3], 94470: [3, 2], 94478: [2, 1], 94517: [4, 3], 94520: [3, 2], 94528: [2, 1], 94568: [4, 3], 94570: [3, 2], 94578: [2, 1], 94618: [4, 3], 94621: [3, 2], 94628: [2, 1], 94668: [4, 3], 94671: [3, 2], 94678: [2, 1], 94719: [4, 3], 94722: [3, 2], 94728: [2, 1], 94769: [4, 3], 94772: [3, 2], 94779: [2, 1], 94820: [4, 3], 94823: [3, 2], 94829: [2, 1], 94870: [4, 3], 94873: [3, 2], 94879: [2, 1], 94921: [4, 3], 94923: [3, 2], 94929: [2, 1], 94971: [4, 3], 94974: [3, 2], 94979: [2, 1], 95014: [4, 3], 95018: [3, 2], 95024: [2, 1], 95065: [4, 3], 95069: [3, 2], 95076: [2, 1], 95117: [4, 3], 95120: [3, 2], 95127: [2, 1], 95168: [4, 3], 95171: [3, 2], 95177: [2, 1], 95219: [4, 3], 95222: [3, 2], 95228: [2, 1], 95270: [4, 3], 95272: [3, 2], 95278: [2, 1], 95320: [4, 3], 95323: [3, 2], 95328: [2, 1], 95370: [4, 3], 95373: [3, 2], 95379: [2, 1], 95421: [4, 3], 95423: [3, 2], 95429: [2, 1], 95471: [4, 3], 95474: [3, 2], 95479: [2, 1], 95521: [4, 3], 95524: [3, 2], 95529: [2, 1], 95571: [4, 3], 95574: [3, 2], 95579: [2, 1], 95621: [4, 3], 95623: [3, 2], 95629: [2, 1], 95671: [4, 3], 95673: [3, 2], 95679: [2, 1], 95720: [4, 3], 95723: [3, 2], 95728: [2, 1], 95770: [4, 3], 95773: [3, 2], 95778: [2, 1], 95820: [4, 3], 95822: [3, 2], 95828: [2, 1], 95869: [4, 3], 95872: [3, 2], 95878: [2, 1], 95919: [4, 3], 95922: [3, 2], 95927: [2, 1], 95968: [4, 3], 95971: [3, 2], 95977: [2, 1], 96018: [4, 3], 96021: [3, 2], 96027: [2, 1], 96068: [4, 3], 96070: [3, 2], 96077: [2, 1], 96117: [4, 3], 96119: [3, 2], 96127: [2, 1], 96167: [4, 3], 96169: [3, 2], 96177: [2, 1], 96217: [4, 3], 96219: [3, 2], 96227: [2, 1], 96267: [4, 3], 96269: [3, 2], 96277: [2, 1], 96317: [4, 3], 96319: [3, 2], 96327: [2, 1], 96367: [4, 3], 96369: [3, 2], 96377: [2, 1], 96417: [4, 3], 96419: [3, 2], 96427: [2, 1], 96467: [4, 3], 96469: [3, 2], 96477: [2, 1], 96517: [4, 3], 96520: [3, 2], 96527: [2, 1], 96568: [4, 3], 96570: [3, 2], 96577: [2, 1], 96618: [4, 3], 96620: [3, 2], 96627: [2, 1], 96668: [4, 3], 96670: [3, 2], 96677: [2, 1], 96718: [4, 3], 96720: [3, 2], 96728: [2, 1], 96768: [4, 3], 96770: [3, 2], 96778: [2, 1], 96817: [4, 3], 96820: [3, 2], 96828: [2, 1], 96867: [4, 3], 96870: [3, 2], 96878: [2, 1], 96917: [4, 3], 96920: [3, 2], 96928: [2, 1], 96967: [4, 3], 96970: [3, 2], 96978: [2, 1], 97017: [4, 3], 97020: [3, 2], 97028: [2, 1], 97067: [4, 3], 97070: [3, 2], 97078: [2, 1], 97118: [4, 3], 97120: [3, 2], 97129: [2, 1], 97168: [4, 3], 97171: [3, 2], 97179: [2, 1], 97218: [4, 3], 97221: [3, 2], 97229: [2, 1], 97269: [4, 3], 97272: [3, 2], 97279: [2, 1], 97319: [4, 3], 97322: [3, 2], 97329: [2, 1], 97370: [4, 3], 97373: [3, 2], 97379: [2, 1], 97420: [4, 3], 97423: [3, 2], 97429: [2, 1], 97471: [4, 3], 97473: [3, 2], 97479: [2, 1], 97513: [4, 3], 97517: [3, 2], 97523: [2, 1], 97565: [4, 3], 97568: [3, 2], 97575: [2, 1], 97616: [4, 3], 97619: [3, 2], 97626: [2, 1], 97667: [4, 3], 97670: [3, 2], 97676: [2, 1], 97718: [4, 3], 97721: [3, 2], 97727: [2, 1], 97769: [4, 3], 97772: [3, 2], 97778: [2, 1], 97820: [4, 3], 97822: [3, 2], 97828: [2, 1], 97870: [4, 3], 97873: [3, 2], 97878: [2, 1], 97920: [4, 3], 97923: [3, 2], 97928: [2, 1], 97971: [4, 3], 97973: [3, 2], 97978: [2, 1], 98021: [4, 3], 98023: [3, 2], 98029: [2, 1], 98071: [4, 3], 98073: [3, 2], 98079: [2, 1], 98121: [4, 3], 98123: [3, 2], 98129: [2, 1], 98171: [4, 3], 98173: [3, 2], 98178: [2, 1], 98221: [4, 3], 98223: [3, 2], 98228: [2, 1], 98270: [4, 3], 98273: [3, 2], 98278: [2, 1], 98320: [4, 3], 98323: [3, 2], 98328: [2, 1], 98370: [4, 3], 98373: [3, 2], 98378: [2, 1], 98420: [4, 3], 98422: [3, 2], 98428: [2, 1], 98469: [4, 3], 98472: [3, 2], 98477: [2, 1], 98519: [4, 3], 98522: [3, 2], 98527: [2, 1], 98569: [4, 3], 98571: [3, 2], 98577: [2, 1], 98618: [4, 3], 98621: [3, 2], 98627: [2, 1], 98668: [4, 3], 98670: [3, 2], 98677: [2, 1], 98718: [4, 3], 98720: [3, 2], 98727: [2, 1], 98768: [4, 3], 98770: [3, 2], 98777: [2, 1], 98818: [4, 3], 98820: [3, 2], 98828: [2, 1], 98868: [4, 3], 98870: [3, 2], 98878: [2, 1], 98918: [4, 3], 98920: [3, 2], 98928: [2, 1], 98968: [4, 3], 98970: [3, 2], 98978: [2, 1], 99018: [4, 3], 99020: [3, 2], 99028: [2, 1], 99068: [4, 3], 99070: [3, 2], 99078: [2, 1], 99118: [4, 3], 99120: [3, 2], 99128: [2, 1], 99168: [4, 3], 99171: [3, 2], 99178: [2, 1], 99218: [4, 3], 99221: [3, 2], 99228: [2, 1], 99268: [4, 3], 99270: [3, 2], 99278: [2, 1], 99318: [4, 3], 99320: [3, 2], 99328: [2, 1], 99367: [4, 3], 99370: [3, 2], 99378: [2, 1], 99417: [4, 3], 99420: [3, 2], 99428: [2, 1], 99467: [4, 3], 99469: [3, 2], 99478: [2, 1], 99517: [4, 3], 99519: [3, 2], 99529: [2, 1], 99567: [4, 3], 99570: [3, 2], 99579: [2, 1], 99617: [4, 3], 99620: [3, 2], 99629: [2, 1], 99668: [4, 3], 99670: [3, 2], 99679: [2, 1], 99718: [4, 3], 99721: [3, 2], 99729: [2, 1], 99768: [4, 3], 99771: [3, 2], 99779: [2, 1], 99819: [4, 3], 99822: [3, 2], 99829: [2, 1], 99869: [4, 3], 99872: [3, 2], 99879: [2, 1], 99920: [4, 3], 99923: [3, 2], 99929: [2, 1], 99970: [4, 3], 99973: [3, 2], 99979: [2, 1], 100012: [4, 3], 100016: [3, 2], 100023: [2, 1], 100064: [4, 3], 100067: [3, 2], 100074: [2, 1], 100115: [4, 3], 100119: [3, 2], 100125: [2, 1], 100167: [4, 3], 100170: [3, 2], 100176: [2, 1], 100218: [4, 3], 100220: [3, 2], 100226: [2, 1], 100268: [4, 3], 100271: [3, 2], 100277: [2, 1], 100319: [4, 3], 100322: [3, 2], 100327: [2, 1], 100370: [4, 3], 100372: [3, 2], 100378: [2, 1], 100420: [4, 3], 100423: [3, 2], 100428: [2, 1], 100470: [4, 3], 100473: [3, 2], 100478: [2, 1], 100521: [4, 3], 100523: [3, 2], 100528: [2, 1], 100571: [4, 3], 100573: [3, 2], 100578: [2, 1], 100621: [4, 3], 100623: [3, 2], 100628: [2, 1], 100671: [4, 3], 100673: [3, 2], 100678: [2, 1], 100721: [4, 3], 100723: [3, 2], 100728: [2, 1], 100771: [4, 3], 100773: [3, 2], 100778: [2, 1], 100821: [4, 3], 100823: [3, 2], 100828: [2, 1], 100870: [4, 3], 100873: [3, 2], 100878: [2, 1], 100920: [4, 3], 100923: [3, 2], 100928: [2, 1], 100970: [4, 3], 100972: [3, 2], 100978: [2, 1], 101020: [4, 3], 101022: [3, 2], 101028: [2, 1], 101069: [4, 3], 101072: [3, 2], 101077: [2, 1], 101119: [4, 3], 101122: [3, 2], 101127: [2, 1], 101169: [4, 3], 101171: [3, 2], 101178: [2, 1], 101219: [4, 3], 101221: [3, 2], 101228: [2, 1], 101268: [4, 3], 101271: [3, 2], 101278: [2, 1], 101318: [4, 3], 101321: [3, 2], 101328: [2, 1], 101368: [4, 3], 101371: [3, 2], 101379: [2, 1], 101418: [4, 3], 101421: [3, 2], 101429: [2, 1], 101468: [4, 3], 101471: [3, 2], 101479: [2, 1], 101518: [4, 3], 101521: [3, 2], 101529: [2, 1], 101569: [4, 3], 101571: [3, 2], 101579: [2, 1], 101619: [4, 3], 101621: [3, 2], 101628: [2, 1], 101669: [4, 3], 101671: [3, 2], 101678: [2, 1], 101718: [4, 3], 101721: [3, 2], 101728: [2, 1], 101768: [4, 3], 101771: [3, 2], 101778: [2, 1], 101818: [4, 3], 101821: [3, 2], 101828: [2, 1], 101868: [4, 3], 101870: [3, 2], 101878: [2, 1], 101917: [4, 3], 101920: [3, 2], 101929: [2, 1], 101967: [4, 3], 101969: [3, 2], 101979: [2, 1], 102017: [4, 3], 102019: [3, 2], 102029: [2, 1], 102067: [4, 3], 102070: [3, 2], 102079: [2, 1], 102117: [4, 3], 102120: [3, 2], 102129: [2, 1], 102168: [4, 3], 102170: [3, 2], 102179: [2, 1], 102218: [4, 3], 102221: [3, 2], 102229: [2, 1], 102268: [4, 3], 102271: [3, 2], 102279: [2, 1], 102319: [4, 3], 102322: [3, 2], 102329: [2, 1], 102369: [4, 3], 102372: [3, 2], 102379: [2, 1], 102420: [4, 3], 102422: [3, 2], 102429: [2, 1], 102470: [4, 3], 102473: [3, 2], 102480: [2, 1], 102512: [4, 3], 102515: [3, 2], 102522: [2, 1], 102563: [4, 3], 102567: [3, 2], 102573: [2, 1], 102615: [4, 3], 102618: [3, 2], 102624: [2, 1], 102666: [4, 3], 102669: [3, 2], 102675: [2, 1], 102717: [4, 3], 102720: [3, 2], 102725: [2, 1], 102768: [4, 3], 102770: [3, 2], 102776: [2, 1], 102819: [4, 3], 102821: [3, 2], 102827: [2, 1], 102869: [4, 3], 102872: [3, 2], 102877: [2, 1], 102920: [4, 3], 102922: [3, 2], 102927: [2, 1], 102970: [4, 3], 102972: [3, 2], 102978: [2, 1], 103020: [4, 3], 103023: [3, 2], 103028: [2, 1], 103071: [4, 3], 103073: [3, 2], 103078: [2, 1], 103121: [4, 3], 103123: [3, 2], 103128: [2, 1], 103171: [4, 3], 103173: [3, 2], 103178: [2, 1], 103221: [4, 3], 103223: [3, 2], 103228: [2, 1], 103271: [4, 3], 103273: [3, 2], 103278: [2, 1], 103321: [4, 3], 103323: [3, 2], 103328: [2, 1], 103371: [4, 3], 103373: [3, 2], 103378: [2, 1], 103421: [4, 3], 103423: [3, 2], 103428: [2, 1], 103470: [4, 3], 103473: [3, 2], 103478: [2, 1], 103520: [4, 3], 103522: [3, 2], 103528: [2, 1], 103570: [4, 3], 103572: [3, 2], 103578: [2, 1], 103620: [4, 3], 103622: [3, 2], 103628: [2, 1], 103670: [4, 3], 103672: [3, 2], 103678: [2, 1], 103719: [4, 3], 103722: [3, 2], 103729: [2, 1], 103769: [4, 3], 103771: [3, 2], 103779: [2, 1], 103819: [4, 3], 103821: [3, 2], 103829: [2, 1], 103869: [4, 3], 103871: [3, 2], 103879: [2, 1], 103919: [4, 3], 103921: [3, 2], 103929: [2, 1], 103969: [4, 3], 103971: [3, 2], 103979: [2, 1], 104019: [4, 3], 104021: [3, 2], 104029: [2, 1], 104069: [4, 3], 104072: [3, 2], 104079: [2, 1], 104119: [4, 3], 104122: [3, 2], 104129: [2, 1], 104169: [4, 3], 104172: [3, 2], 104179: [2, 1], 104219: [4, 3], 104222: [3, 2], 104229: [2, 1], 104269: [4, 3], 104272: [3, 2], 104279: [2, 1], 104318: [4, 3], 104321: [3, 2], 104329: [2, 1], 104368: [4, 3], 104371: [3, 2], 104379: [2, 1], 104418: [4, 3], 104420: [3, 2], 104429: [2, 1], 104467: [4, 3], 104470: [3, 2], 104479: [2, 1], 104517: [4, 3], 104520: [3, 2], 104529: [2, 1], 104567: [4, 3], 104570: [3, 2], 104579: [2, 1], 104617: [4, 3], 104620: [3, 2], 104629: [2, 1], 104668: [4, 3], 104670: [3, 2], 104679: [2, 1], 104718: [4, 3], 104720: [3, 2], 104729: [2, 1], 104768: [4, 3], 104771: [3, 2], 104779: [2, 1], 104818: [4, 3], 104821: [3, 2], 104829: [2, 1], 104869: [4, 3], 104872: [3, 2], 104879: [2, 1], 104919: [4, 3], 104922: [3, 2], 104930: [2, 1], 104970: [4, 3], 104973: [3, 2], 104980: [2, 1], 105011: [4, 3], 105015: [3, 2], 105021: [2, 1], 105063: [4, 3], 105066: [3, 2], 105072: [2, 1], 105114: [4, 3], 105117: [3, 2], 105123: [2, 1], 105165: [4, 3], 105168: [3, 2], 105174: [2, 1], 105216: [4, 3], 105219: [3, 2], 105225: [2, 1], 105267: [4, 3], 105270: [3, 2], 105275: [2, 1], 105318: [4, 3], 105321: [3, 2], 105326: [2, 1], 105369: [4, 3], 105371: [3, 2], 105376: [2, 1], 105419: [4, 3], 105422: [3, 2], 105427: [2, 1], 105470: [4, 3], 105472: [3, 2], 105477: [2, 1], 105520: [4, 3], 105522: [3, 2], 105527: [2, 1], 105570: [4, 3], 105573: [3, 2], 105578: [2, 1], 105621: [4, 3], 105623: [3, 2], 105628: [2, 1], 105671: [4, 3], 105673: [3, 2], 105678: [2, 1], 105721: [4, 3], 105723: [3, 2], 105728: [2, 1], 105771: [4, 3], 105773: [3, 2], 105778: [2, 1], 105821: [4, 3], 105823: [3, 2], 105828: [2, 1], 105871: [4, 3], 105873: [3, 2], 105878: [2, 1], 105921: [4, 3], 105923: [3, 2], 105928: [2, 1], 105971: [4, 3], 105972: [3, 2], 105978: [2, 1], 106020: [4, 3], 106022: [3, 2], 106028: [2, 1], 106070: [4, 3], 106072: [3, 2], 106078: [2, 1], 106120: [4, 3], 106122: [3, 2], 106129: [2, 1], 106170: [4, 3], 106172: [3, 2], 106179: [2, 1], 106220: [4, 3], 106222: [3, 2], 106229: [2, 1], 106270: [4, 3], 106272: [3, 2], 106279: [2, 1], 106320: [4, 3], 106322: [3, 2], 106329: [2, 1], 106369: [4, 3], 106372: [3, 2], 106380: [2, 1], 106419: [4, 3], 106422: [3, 2], 106430: [2, 1], 106469: [4, 3], 106472: [3, 2], 106480: [2, 1], 106519: [4, 3], 106522: [3, 2], 106530: [2, 1], 106569: [4, 3], 106572: [3, 2], 106580: [2, 1], 106619: [4, 3], 106622: [3, 2], 106630: [2, 1], 106669: [4, 3], 106672: [3, 2], 106679: [2, 1], 106719: [4, 3], 106722: [3, 2], 106729: [2, 1], 106769: [4, 3], 106772: [3, 2], 106779: [2, 1], 106819: [4, 3], 106822: [3, 2], 106829: [2, 1], 106868: [4, 3], 106871: [3, 2], 106879: [2, 1], 106918: [4, 3], 106921: [3, 2], 106929: [2, 1], 106968: [4, 3], 106970: [3, 2], 106979: [2, 1], 107018: [4, 3], 107020: [3, 2], 107029: [2, 1], 107067: [4, 3], 107070: [3, 2], 107079: [2, 1], 107117: [4, 3], 107120: [3, 2], 107129: [2, 1], 107168: [4, 3], 107170: [3, 2], 107180: [2, 1], 107218: [4, 3], 107221: [3, 2], 107230: [2, 1], 107268: [4, 3], 107271: [3, 2], 107280: [2, 1], 107318: [4, 3], 107321: [3, 2], 107330: [2, 1], 107369: [4, 3], 107372: [3, 2], 107380: [2, 1], 107419: [4, 3], 107422: [3, 2], 107430: [2, 1], 107470: [4, 3], 107473: [3, 2], 107480: [2, 1], 107511: [4, 3], 107514: [3, 2], 107520: [2, 1], 107562: [4, 3], 107565: [3, 2], 107571: [2, 1], 107613: [4, 3], 107616: [3, 2], 107622: [2, 1], 107665: [4, 3], 107667: [3, 2], 107673: [2, 1], 107716: [4, 3], 107718: [3, 2], 107724: [2, 1], 107767: [4, 3], 107769: [3, 2], 107775: [2, 1], 107817: [4, 3], 107820: [3, 2], 107825: [2, 1], 107868: [4, 3], 107871: [3, 2], 107876: [2, 1], 107919: [4, 3], 107921: [3, 2], 107926: [2, 1], 107969: [4, 3], 107971: [3, 2], 107977: [2, 1], 108020: [4, 3], 108022: [3, 2], 108027: [2, 1], 108070: [4, 3], 108072: [3, 2], 108077: [2, 1], 108120: [4, 3], 108122: [3, 2], 108127: [2, 1], 108170: [4, 3], 108173: [3, 2], 108177: [2, 1], 108221: [4, 3], 108223: [3, 2], 108228: [2, 1], 108271: [4, 3], 108273: [3, 2], 108278: [2, 1], 108321: [4, 3], 108323: [3, 2], 108328: [2, 1], 108371: [4, 3], 108373: [3, 2], 108378: [2, 1], 108421: [4, 3], 108422: [3, 2], 108428: [2, 1], 108471: [4, 3], 108472: [3, 2], 108478: [2, 1], 108520: [4, 3], 108522: [3, 2], 108528: [2, 1], 108570: [4, 3], 108572: [3, 2], 108578: [2, 1], 108620: [4, 3], 108622: [3, 2], 108629: [2, 1], 108670: [4, 3], 108672: [3, 2], 108679: [2, 1], 108720: [4, 3], 108722: [3, 2], 108729: [2, 1], 108770: [4, 3], 108772: [3, 2], 108780: [2, 1], 108820: [4, 3], 108822: [3, 2], 108830: [2, 1], 108870: [4, 3], 108872: [3, 2], 108880: [2, 1], 108919: [4, 3], 108922: [3, 2], 108930: [2, 1], 108969: [4, 3], 108972: [3, 2], 108980: [2, 1], 109019: [4, 3], 109022: [3, 2], 109030: [2, 1], 109069: [4, 3], 109072: [3, 2], 109080: [2, 1], 109119: [4, 3], 109122: [3, 2], 109130: [2, 1], 109169: [4, 3], 109173: [3, 2], 109180: [2, 1], 109219: [4, 3], 109223: [3, 2], 109230: [2, 1], 109269: [4, 3], 109272: [3, 2], 109280: [2, 1], 109319: [4, 3], 109322: [3, 2], 109330: [2, 1], 109369: [4, 3], 109372: [3, 2], 109380: [2, 1], 109418: [4, 3], 109421: [3, 2], 109430: [2, 1], 109468: [4, 3], 109471: [3, 2], 109480: [2, 1], 109518: [4, 3], 109521: [3, 2], 109530: [2, 1], 109568: [4, 3], 109571: [3, 2], 109580: [2, 1], 109618: [4, 3], 109621: [3, 2], 109630: [2, 1], 109668: [4, 3], 109671: [3, 2], 109680: [2, 1], 109718: [4, 3], 109721: [3, 2], 109730: [2, 1], 109768: [4, 3], 109771: [3, 2], 109780: [2, 1], 109818: [4, 3], 109821: [3, 2], 109830: [2, 1], 109869: [4, 3], 109872: [3, 2], 109880: [2, 1], 109919: [4, 3], 109922: [3, 2], 109930: [2, 1], 109970: [4, 3], 109973: [3, 2], 109980: [2, 1], 110011: [4, 3], 110013: [3, 2], 110019: [2, 1], 110062: [4, 3], 110064: [3, 2], 110070: [2, 1], 110113: [4, 3], 110116: [3, 2], 110121: [2, 1], 110164: [4, 3], 110167: [3, 2], 110172: [2, 1], 110215: [4, 3], 110218: [3, 2], 110223: [2, 1], 110266: [4, 3], 110268: [3, 2], 110274: [2, 1], 110317: [4, 3], 110319: [3, 2], 110325: [2, 1], 110368: [4, 3], 110370: [3, 2], 110375: [2, 1], 110418: [4, 3], 110420: [3, 2], 110426: [2, 1], 110469: [4, 3], 110471: [3, 2], 110476: [2, 1], 110519: [4, 3], 110521: [3, 2], 110526: [2, 1], 110570: [4, 3], 110572: [3, 2], 110577: [2, 1], 110620: [4, 3], 110622: [3, 2], 110627: [2, 1], 110670: [4, 3], 110672: [3, 2], 110677: [2, 1], 110720: [4, 3], 110722: [3, 2], 110727: [2, 1], 110770: [4, 3], 110772: [3, 2], 110777: [2, 1], 110820: [4, 3], 110822: [3, 2], 110827: [2, 1], 110870: [4, 3], 110872: [3, 2], 110878: [2, 1], 110920: [4, 3], 110922: [3, 2], 110928: [2, 1], 110970: [4, 3], 110972: [3, 2], 110978: [2, 1], 111020: [4, 3], 111022: [3, 2], 111028: [2, 1], 111070: [4, 3], 111072: [3, 2], 111078: [2, 1], 111120: [4, 3], 111122: [3, 2], 111129: [2, 1], 111170: [4, 3], 111172: [3, 2], 111179: [2, 1], 111220: [4, 3], 111222: [3, 2], 111229: [2, 1], 111270: [4, 3], 111272: [3, 2], 111280: [2, 1], 111320: [4, 3], 111322: [3, 2], 111330: [2, 1], 111370: [4, 3], 111372: [3, 2], 111380: [2, 1], 111419: [4, 3], 111422: [3, 2], 111430: [2, 1], 111469: [4, 3], 111472: [3, 2], 111480: [2, 1], 111519: [4, 3], 111522: [3, 2], 111531: [2, 1], 111569: [4, 3], 111572: [3, 2], 111581: [2, 1], 111619: [4, 3], 111623: [3, 2], 111631: [2, 1], 111669: [4, 3], 111673: [3, 2], 111680: [2, 1], 111720: [4, 3], 111723: [3, 2], 111730: [2, 1], 111769: [4, 3], 111773: [3, 2], 111780: [2, 1], 111819: [4, 3], 111822: [3, 2], 111830: [2, 1], 111869: [4, 3], 111872: [3, 2], 111880: [2, 1], 111919: [4, 3], 111922: [3, 2], 111930: [2, 1], 111968: [4, 3], 111971: [3, 2], 111980: [2, 1], 112018: [4, 3], 112021: [3, 2], 112030: [2, 1], 112068: [4, 3], 112071: [3, 2], 112080: [2, 1], 112118: [4, 3], 112121: [3, 2], 112130: [2, 1], 112168: [4, 3], 112171: [3, 2], 112180: [2, 1], 112218: [4, 3], 112221: [3, 2], 112230: [2, 1], 112268: [4, 3], 112271: [3, 2], 112280: [2, 1], 112319: [4, 3], 112322: [3, 2], 112330: [2, 1], 112369: [4, 3], 112372: [3, 2], 112380: [2, 1], 112419: [4, 3], 112422: [3, 2], 112430: [2, 1], 112470: [4, 3], 112473: [3, 2], 112480: [2, 1], 112510: [4, 3], 112513: [3, 2], 112519: [2, 1], 112561: [4, 3], 112564: [3, 2], 112570: [2, 1], 112612: [4, 3], 112615: [3, 2], 112621: [2, 1], 112663: [4, 3], 112666: [3, 2], 112672: [2, 1], 112715: [4, 3], 112717: [3, 2], 112722: [2, 1], 112765: [4, 3], 112768: [3, 2], 112773: [2, 1], 112816: [4, 3], 112819: [3, 2], 112824: [2, 1], 112867: [4, 3], 112869: [3, 2], 112874: [2, 1], 112918: [4, 3], 112920: [3, 2], 112925: [2, 1], 112968: [4, 3], 112970: [3, 2], 112975: [2, 1], 113019: [4, 3], 113021: [3, 2], 113026: [2, 1], 113069: [4, 3], 113071: [3, 2], 113076: [2, 1], 113119: [4, 3], 113121: [3, 2], 113126: [2, 1], 113170: [4, 3], 113172: [3, 2], 113177: [2, 1], 113220: [4, 3], 113222: [3, 2], 113227: [2, 1], 113270: [4, 3], 113272: [3, 2], 113277: [2, 1], 113320: [4, 3], 113322: [3, 2], 113327: [2, 1], 113370: [4, 3], 113372: [3, 2], 113377: [2, 1], 113420: [4, 3], 113422: [3, 2], 113427: [2, 1], 113470: [4, 3], 113472: [3, 2], 113478: [2, 1], 113520: [4, 3], 113522: [3, 2], 113528: [2, 1], 113570: [4, 3], 113572: [3, 2], 113578: [2, 1], 113620: [4, 3], 113622: [3, 2], 113629: [2, 1], 113670: [4, 3], 113672: [3, 2], 113679: [2, 1], 113720: [4, 3], 113722: [3, 2], 113729: [2, 1], 113770: [4, 3], 113772: [3, 2], 113780: [2, 1], 113820: [4, 3], 113822: [3, 2], 113830: [2, 1], 113869: [4, 3], 113872: [3, 2], 113880: [2, 1], 113919: [4, 3], 113922: [3, 2], 113930: [2, 1], 113969: [4, 3], 113972: [3, 2], 113981: [2, 1], 114019: [4, 3], 114022: [3, 2], 114031: [2, 1], 114069: [4, 3], 114073: [3, 2], 114081: [2, 1], 114119: [4, 3], 114123: [3, 2], 114131: [2, 1], 114169: [4, 3], 114173: [3, 2], 114181: [2, 1], 114219: [4, 3], 114223: [3, 2], 114231: [2, 1], 114269: [4, 3], 114273: [3, 2], 114280: [2, 1], 114319: [4, 3], 114323: [3, 2], 114330: [2, 1], 114369: [4, 3], 114372: [3, 2], 114380: [2, 1], 114419: [4, 3], 114422: [3, 2], 114430: [2, 1], 114469: [4, 3], 114472: [3, 2], 114480: [2, 1], 114518: [4, 3], 114522: [3, 2], 114530: [2, 1], 114568: [4, 3], 114572: [3, 2], 114580: [2, 1], 114618: [4, 3], 114621: [3, 2], 114630: [2, 1], 114668: [4, 3], 114671: [3, 2], 114680: [2, 1], 114718: [4, 3], 114721: [3, 2], 114730: [2, 1], 114769: [4, 3], 114772: [3, 2], 114780: [2, 1], 114819: [4, 3], 114822: [3, 2], 114830: [2, 1], 114869: [4, 3], 114872: [3, 2], 114880: [2, 1], 114919: [4, 3], 114922: [3, 2], 114930: [2, 1], 114970: [4, 3], 114973: [3, 2], 114980: [2, 1], 115010: [4, 3], 115012: [3, 2], 115018: [2, 1], 115061: [4, 3], 115063: [3, 2], 115069: [2, 1], 115112: [4, 3], 115114: [3, 2], 115120: [2, 1], 115163: [4, 3], 115165: [3, 2], 115171: [2, 1], 115214: [4, 3], 115216: [3, 2], 115222: [2, 1], 115265: [4, 3], 115267: [3, 2], 115272: [2, 1], 115316: [4, 3], 115318: [3, 2], 115323: [2, 1], 115366: [4, 3], 115369: [3, 2], 115374: [2, 1], 115417: [4, 3], 115419: [3, 2], 115424: [2, 1], 115468: [4, 3], 115470: [3, 2], 115475: [2, 1], 115518: [4, 3], 115520: [3, 2], 115525: [2, 1], 115569: [4, 3], 115571: [3, 2], 115575: [2, 1], 115619: [4, 3], 115621: [3, 2], 115626: [2, 1], 115669: [4, 3], 115671: [3, 2], 115676: [2, 1], 115720: [4, 3], 115721: [3, 2], 115726: [2, 1], 115770: [4, 3], 115772: [3, 2], 115777: [2, 1], 115820: [4, 3], 115822: [3, 2], 115827: [2, 1], 115870: [4, 3], 115872: [3, 2], 115877: [2, 1], 115920: [4, 3], 115922: [3, 2], 115927: [2, 1], 115970: [4, 3], 115972: [3, 2], 115977: [2, 1], 116020: [4, 3], 116022: [3, 2], 116028: [2, 1], 116070: [4, 3], 116072: [3, 2], 116078: [2, 1], 116120: [4, 3], 116122: [3, 2], 116128: [2, 1], 116170: [4, 3], 116172: [3, 2], 116179: [2, 1], 116220: [4, 3], 116222: [3, 2], 116229: [2, 1], 116270: [4, 3], 116272: [3, 2], 116279: [2, 1], 116319: [4, 3], 116322: [3, 2], 116330: [2, 1], 116369: [4, 3], 116372: [3, 2], 116380: [2, 1], 116419: [4, 3], 116422: [3, 2], 116430: [2, 1], 116469: [4, 3], 116472: [3, 2], 116481: [2, 1], 116519: [4, 3], 116522: [3, 2], 116531: [2, 1], 116569: [4, 3], 116573: [3, 2], 116581: [2, 1], 116619: [4, 3], 116623: [3, 2], 116631: [2, 1], 116669: [4, 3], 116673: [3, 2], 116681: [2, 1], 116719: [4, 3], 116723: [3, 2], 116731: [2, 1], 116769: [4, 3], 116773: [3, 2], 116781: [2, 1], 116819: [4, 3], 116823: [3, 2], 116831: [2, 1], 116869: [4, 3], 116873: [3, 2], 116881: [2, 1], 116919: [4, 3], 116922: [3, 2], 116930: [2, 1], 116969: [4, 3], 116972: [3, 2], 116980: [2, 1], 117019: [4, 3], 117022: [3, 2], 117030: [2, 1], 117069: [4, 3], 117072: [3, 2], 117080: [2, 1], 117119: [4, 3], 117122: [3, 2], 117130: [2, 1], 117169: [4, 3], 117172: [3, 2], 117180: [2, 1], 117219: [4, 3], 117222: [3, 2], 117230: [2, 1], 117269: [4, 3], 117272: [3, 2], 117280: [2, 1], 117319: [4, 3], 117322: [3, 2], 117330: [2, 1], 117369: [4, 3], 117372: [3, 2], 117380: [2, 1], 117419: [4, 3], 117423: [3, 2], 117430: [2, 1], 117470: [4, 3], 117473: [3, 2], 117480: [2, 1], 117509: [4, 3], 117512: [3, 2], 117517: [2, 1], 117560: [4, 3], 117563: [3, 2], 117568: [2, 1], 117611: [4, 3], 117614: [3, 2], 117619: [2, 1], 117662: [4, 3], 117665: [3, 2], 117670: [2, 1], 117713: [4, 3], 117716: [3, 2], 117721: [2, 1], 117764: [4, 3], 117767: [3, 2], 117772: [2, 1], 117815: [4, 3], 117817: [3, 2], 117822: [2, 1], 117866: [4, 3], 117868: [3, 2], 117873: [2, 1], 117917: [4, 3], 117919: [3, 2], 117924: [2, 1], 117967: [4, 3], 117969: [3, 2], 117974: [2, 1], 118018: [4, 3], 118020: [3, 2], 118024: [2, 1], 118068: [4, 3], 118070: [3, 2], 118075: [2, 1], 118119: [4, 3], 118120: [3, 2], 118125: [2, 1], 118169: [4, 3], 118171: [3, 2], 118176: [2, 1], 118219: [4, 3], 118221: [3, 2], 118226: [2, 1], 118269: [4, 3], 118271: [3, 2], 118276: [2, 1], 118319: [4, 3], 118321: [3, 2], 118326: [2, 1], 118370: [4, 3], 118371: [3, 2], 118376: [2, 1], 118420: [4, 3], 118421: [3, 2], 118427: [2, 1], 118470: [4, 3], 118471: [3, 2], 118477: [2, 1], 118520: [4, 3], 118521: [3, 2], 118527: [2, 1], 118570: [4, 3], 118571: [3, 2], 118577: [2, 1], 118620: [4, 3], 118621: [3, 2], 118628: [2, 1], 118670: [4, 3], 118671: [3, 2], 118678: [2, 1], 118719: [4, 3], 118721: [3, 2], 118729: [2, 1], 118769: [4, 3], 118771: [3, 2], 118779: [2, 1], 118819: [4, 3], 118821: [3, 2], 118830: [2, 1], 118869: [4, 3], 118872: [3, 2], 118880: [2, 1], 118919: [4, 3], 118922: [3, 2], 118930: [2, 1], 118969: [4, 3], 118972: [3, 2], 118981: [2, 1], 119019: [4, 3], 119022: [3, 2], 119031: [2, 1], 119069: [4, 3], 119072: [3, 2], 119081: [2, 1], 119119: [4, 3], 119123: [3, 2], 119131: [2, 1], 119169: [4, 3], 119173: [3, 2], 119181: [2, 1], 119219: [4, 3], 119223: [3, 2], 119231: [2, 1], 119269: [4, 3], 119273: [3, 2], 119281: [2, 1], 119319: [4, 3], 119323: [3, 2], 119331: [2, 1], 119369: [4, 3], 119373: [3, 2], 119381: [2, 1], 119419: [4, 3], 119423: [3, 2], 119431: [2, 1], 119469: [4, 3], 119472: [3, 2], 119481: [2, 1], 119519: [4, 3], 119522: [3, 2], 119530: [2, 1], 119569: [4, 3], 119572: [3, 2], 119580: [2, 1], 119619: [4, 3], 119622: [3, 2], 119630: [2, 1], 119669: [4, 3], 119672: [3, 2], 119680: [2, 1], 119719: [4, 3], 119722: [3, 2], 119730: [2, 1], 119769: [4, 3], 119772: [3, 2], 119780: [2, 1], 119819: [4, 3], 119822: [3, 2], 119830: [2, 1], 119869: [4, 3], 119872: [3, 2], 119880: [2, 1], 119920: [4, 3], 119923: [3, 2], 119930: [2, 1], 119970: [4, 3], 119973: [3, 2], 119980: [2, 1], 120009: [4, 3], 120011: [3, 2], 120017: [2, 1], 120060: [4, 3], 120062: [3, 2], 120068: [2, 1], 120111: [4, 3], 120113: [3, 2], 120118: [2, 1], 120162: [4, 3], 120164: [3, 2], 120169: [2, 1], 120213: [4, 3], 120215: [3, 2], 120220: [2, 1], 120264: [4, 3], 120266: [3, 2], 120271: [2, 1], 120315: [4, 3], 120317: [3, 2], 120322: [2, 1], 120365: [4, 3], 120367: [3, 2], 120372: [2, 1], 120416: [4, 3], 120418: [3, 2], 120423: [2, 1], 120467: [4, 3], 120469: [3, 2], 120473: [2, 1], 120517: [4, 3], 120519: [3, 2], 120524: [2, 1], 120568: [4, 3], 120570: [3, 2], 120574: [2, 1], 120618: [4, 3], 120620: [3, 2], 120625: [2, 1], 120668: [4, 3], 120670: [3, 2], 120675: [2, 1], 120719: [4, 3], 120720: [3, 2], 120725: [2, 1], 120769: [4, 3], 120771: [3, 2], 120776: [2, 1], 120819: [4, 3], 120821: [3, 2], 120826: [2, 1], 120869: [4, 3], 120871: [3, 2], 120876: [2, 1], 120919: [4, 3], 120921: [3, 2], 120926: [2, 1], 120969: [4, 3], 120971: [3, 2], 120976: [2, 1], 121019: [4, 3], 121021: [3, 2], 121027: [2, 1], 121069: [4, 3], 121071: [3, 2], 121077: [2, 1], 121119: [4, 3], 121121: [3, 2], 121127: [2, 1], 121169: [4, 3], 121171: [3, 2], 121178: [2, 1], 121219: [4, 3], 121221: [3, 2], 121228: [2, 1], 121269: [4, 3], 121271: [3, 2], 121279: [2, 1], 121319: [4, 3], 121321: [3, 2], 121329: [2, 1], 121369: [4, 3], 121371: [3, 2], 121380: [2, 1], 121419: [4, 3], 121422: [3, 2], 121430: [2, 1], 121469: [4, 3], 121472: [3, 2], 121480: [2, 1], 121519: [4, 3], 121522: [3, 2], 121531: [2, 1], 121569: [4, 3], 121572: [3, 2], 121581: [2, 1], 121619: [4, 3], 121623: [3, 2], 121631: [2, 1], 121669: [4, 3], 121673: [3, 2], 121681: [2, 1], 121719: [4, 3], 121723: [3, 2], 121731: [2, 1], 121769: [4, 3], 121773: [3, 2], 121781: [2, 1], 121819: [4, 3], 121823: [3, 2], 121831: [2, 1], 121869: [4, 3], 121873: [3, 2], 121881: [2, 1], 121919: [4, 3], 121923: [3, 2], 121931: [2, 1], 121969: [4, 3], 121973: [3, 2], 121981: [2, 1], 122019: [4, 3], 122023: [3, 2], 122031: [2, 1], 122069: [4, 3], 122072: [3, 2], 122080: [2, 1], 122119: [4, 3], 122122: [3, 2], 122130: [2, 1], 122169: [4, 3], 122172: [3, 2], 122180: [2, 1], 122219: [4, 3], 122222: [3, 2], 122230: [2, 1], 122269: [4, 3], 122272: [3, 2], 122280: [2, 1], 122319: [4, 3], 122322: [3, 2], 122330: [2, 1], 122369: [4, 3], 122373: [3, 2], 122380: [2, 1], 122420: [4, 3], 122423: [3, 2], 122430: [2, 1], 122470: [4, 3], 122473: [3, 2], 122480: [2, 1], 122508: [4, 3], 122510: [3, 2], 122516: [2, 1], 122559: [4, 3], 122562: [3, 2], 122567: [2, 1], 122610: [4, 3], 122613: [3, 2], 122618: [2, 1], 122661: [4, 3], 122663: [3, 2], 122669: [2, 1], 122712: [4, 3], 122714: [3, 2], 122719: [2, 1], 122763: [4, 3], 122765: [3, 2], 122770: [2, 1], 122814: [4, 3], 122816: [3, 2], 122821: [2, 1], 122865: [4, 3], 122867: [3, 2], 122872: [2, 1], 122915: [4, 3], 122917: [3, 2], 122922: [2, 1], 122966: [4, 3], 122968: [3, 2], 122973: [2, 1], 123017: [4, 3], 123019: [3, 2], 123023: [2, 1], 123067: [4, 3], 123069: [3, 2], 123074: [2, 1], 123117: [4, 3], 123119: [3, 2], 123124: [2, 1], 123168: [4, 3], 123170: [3, 2], 123174: [2, 1], 123218: [4, 3], 123220: [3, 2], 123225: [2, 1], 123268: [4, 3], 123270: [3, 2], 123275: [2, 1], 123319: [4, 3], 123320: [3, 2], 123325: [2, 1], 123369: [4, 3], 123371: [3, 2], 123375: [2, 1], 123419: [4, 3], 123421: [3, 2], 123426: [2, 1], 123469: [4, 3], 123471: [3, 2], 123476: [2, 1], 123519: [4, 3], 123521: [3, 2], 123526: [2, 1], 123569: [4, 3], 123571: [3, 2], 123577: [2, 1], 123619: [4, 3], 123621: [3, 2], 123627: [2, 1], 123669: [4, 3], 123671: [3, 2], 123677: [2, 1], 123719: [4, 3], 123721: [3, 2], 123728: [2, 1], 123769: [4, 3], 123771: [3, 2], 123778: [2, 1], 123819: [4, 3], 123821: [3, 2], 123829: [2, 1], 123869: [4, 3], 123871: [3, 2], 123879: [2, 1], 123919: [4, 3], 123921: [3, 2], 123930: [2, 1], 123969: [4, 3], 123972: [3, 2], 123980: [2, 1], 124019: [4, 3], 124022: [3, 2], 124030: [2, 1], 124069: [4, 3], 124072: [3, 2], 124081: [2, 1], 124119: [4, 3], 124122: [3, 2], 124131: [2, 1], 124169: [4, 3], 124173: [3, 2], 124181: [2, 1], 124219: [4, 3], 124223: [3, 2], 124231: [2, 1], 124269: [4, 3], 124273: [3, 2], 124281: [2, 1], 124319: [4, 3], 124323: [3, 2], 124331: [2, 1], 124369: [4, 3], 124373: [3, 2], 124381: [2, 1], 124419: [4, 3], 124423: [3, 2], 124431: [2, 1], 124469: [4, 3], 124473: [3, 2], 124481: [2, 1], 124519: [4, 3], 124523: [3, 2], 124531: [2, 1], 124569: [4, 3], 124573: [3, 2], 124580: [2, 1], 124619: [4, 3], 124623: [3, 2], 124630: [2, 1], 124669: [4, 3], 124672: [3, 2], 124680: [2, 1], 124719: [4, 3], 124723: [3, 2], 124730: [2, 1], 124769: [4, 3], 124773: [3, 2], 124780: [2, 1], 124819: [4, 3], 124823: [3, 2], 124830: [2, 1], 124870: [4, 3], 124873: [3, 2], 124880: [2, 1], 124920: [4, 3], 124923: [3, 2], 124930: [2, 1], 124970: [4, 3], 124973: [3, 2], 124980: [2, 1]}\n"
     ]
    }
   ],
   "source": [
    "print(roof)"
   ]
  },
  {
   "cell_type": "code",
   "execution_count": null,
   "metadata": {},
   "outputs": [],
   "source": [
    "# import sys\n",
    "# import numpy\n",
    "# numpy.set_printoptions(threshold=sys.maxsize)"
   ]
  }
 ],
 "metadata": {
  "colab": {
   "provenance": []
  },
  "kernelspec": {
   "display_name": "Python 3 (ipykernel)",
   "language": "python",
   "name": "python3"
  },
  "language_info": {
   "codemirror_mode": {
    "name": "ipython",
    "version": 3
   },
   "file_extension": ".py",
   "mimetype": "text/x-python",
   "name": "python",
   "nbconvert_exporter": "python",
   "pygments_lexer": "ipython3",
   "version": "3.10.13"
  }
 },
 "nbformat": 4,
 "nbformat_minor": 4
}
